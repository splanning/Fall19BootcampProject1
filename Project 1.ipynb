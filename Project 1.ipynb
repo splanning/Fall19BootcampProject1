{
  "cells": [
    {
      "metadata": {
        "trusted": true
      },
      "cell_type": "code",
      "source": "# Info about dataset at https://opendata.dc.gov/datasets/computer-assisted-mass-appraisal-residential",
      "execution_count": null,
      "outputs": []
    },
    {
      "metadata": {
        "trusted": true
      },
      "cell_type": "code",
      "source": "import pandas as pd\nimport numpy as np\nloc = 'datasets/DC_Properties.csv'\ndcdf = pd.read_csv(loc, index_col=0)\ndcdf.head()",
      "execution_count": 74,
      "outputs": [
        {
          "output_type": "execute_result",
          "execution_count": 74,
          "data": {
            "text/html": "<div>\n<style scoped>\n    .dataframe tbody tr th:only-of-type {\n        vertical-align: middle;\n    }\n\n    .dataframe tbody tr th {\n        vertical-align: top;\n    }\n\n    .dataframe thead th {\n        text-align: right;\n    }\n</style>\n<table border=\"1\" class=\"dataframe\">\n  <thead>\n    <tr style=\"text-align: right;\">\n      <th></th>\n      <th>BATHRM</th>\n      <th>HF_BATHRM</th>\n      <th>HEAT</th>\n      <th>AC</th>\n      <th>NUM_UNITS</th>\n      <th>ROOMS</th>\n      <th>BEDRM</th>\n      <th>AYB</th>\n      <th>YR_RMDL</th>\n      <th>EYB</th>\n      <th>...</th>\n      <th>LONGITUDE</th>\n      <th>ASSESSMENT_NBHD</th>\n      <th>ASSESSMENT_SUBNBHD</th>\n      <th>CENSUS_TRACT</th>\n      <th>CENSUS_BLOCK</th>\n      <th>WARD</th>\n      <th>SQUARE</th>\n      <th>X</th>\n      <th>Y</th>\n      <th>QUADRANT</th>\n    </tr>\n  </thead>\n  <tbody>\n    <tr>\n      <th>0</th>\n      <td>4</td>\n      <td>0</td>\n      <td>Warm Cool</td>\n      <td>Y</td>\n      <td>2.0</td>\n      <td>8</td>\n      <td>4</td>\n      <td>1910.0</td>\n      <td>1988.0</td>\n      <td>1972</td>\n      <td>...</td>\n      <td>-77.040832</td>\n      <td>Old City 2</td>\n      <td>040 D Old City 2</td>\n      <td>4201.0</td>\n      <td>004201 2006</td>\n      <td>Ward 2</td>\n      <td>152</td>\n      <td>-77.040429</td>\n      <td>38.914881</td>\n      <td>NW</td>\n    </tr>\n    <tr>\n      <th>1</th>\n      <td>3</td>\n      <td>1</td>\n      <td>Warm Cool</td>\n      <td>Y</td>\n      <td>2.0</td>\n      <td>11</td>\n      <td>5</td>\n      <td>1898.0</td>\n      <td>2007.0</td>\n      <td>1972</td>\n      <td>...</td>\n      <td>-77.040764</td>\n      <td>Old City 2</td>\n      <td>040 D Old City 2</td>\n      <td>4201.0</td>\n      <td>004201 2006</td>\n      <td>Ward 2</td>\n      <td>152</td>\n      <td>-77.040429</td>\n      <td>38.914881</td>\n      <td>NW</td>\n    </tr>\n    <tr>\n      <th>2</th>\n      <td>3</td>\n      <td>1</td>\n      <td>Hot Water Rad</td>\n      <td>Y</td>\n      <td>2.0</td>\n      <td>9</td>\n      <td>5</td>\n      <td>1910.0</td>\n      <td>2009.0</td>\n      <td>1984</td>\n      <td>...</td>\n      <td>-77.040678</td>\n      <td>Old City 2</td>\n      <td>040 D Old City 2</td>\n      <td>4201.0</td>\n      <td>004201 2006</td>\n      <td>Ward 2</td>\n      <td>152</td>\n      <td>-77.040429</td>\n      <td>38.914881</td>\n      <td>NW</td>\n    </tr>\n    <tr>\n      <th>3</th>\n      <td>3</td>\n      <td>1</td>\n      <td>Hot Water Rad</td>\n      <td>Y</td>\n      <td>2.0</td>\n      <td>8</td>\n      <td>5</td>\n      <td>1900.0</td>\n      <td>2003.0</td>\n      <td>1984</td>\n      <td>...</td>\n      <td>-77.040629</td>\n      <td>Old City 2</td>\n      <td>040 D Old City 2</td>\n      <td>4201.0</td>\n      <td>004201 2006</td>\n      <td>Ward 2</td>\n      <td>152</td>\n      <td>-77.040429</td>\n      <td>38.914881</td>\n      <td>NW</td>\n    </tr>\n    <tr>\n      <th>4</th>\n      <td>2</td>\n      <td>1</td>\n      <td>Warm Cool</td>\n      <td>Y</td>\n      <td>1.0</td>\n      <td>11</td>\n      <td>3</td>\n      <td>1913.0</td>\n      <td>2012.0</td>\n      <td>1985</td>\n      <td>...</td>\n      <td>-77.039361</td>\n      <td>Old City 2</td>\n      <td>040 D Old City 2</td>\n      <td>4201.0</td>\n      <td>004201 2006</td>\n      <td>Ward 2</td>\n      <td>152</td>\n      <td>-77.040429</td>\n      <td>38.914881</td>\n      <td>NW</td>\n    </tr>\n  </tbody>\n</table>\n<p>5 rows × 48 columns</p>\n</div>",
            "text/plain": "   BATHRM  HF_BATHRM           HEAT AC  NUM_UNITS  ROOMS  BEDRM     AYB  \\\n0       4          0      Warm Cool  Y        2.0      8      4  1910.0   \n1       3          1      Warm Cool  Y        2.0     11      5  1898.0   \n2       3          1  Hot Water Rad  Y        2.0      9      5  1910.0   \n3       3          1  Hot Water Rad  Y        2.0      8      5  1900.0   \n4       2          1      Warm Cool  Y        1.0     11      3  1913.0   \n\n   YR_RMDL   EYB   ...     LONGITUDE ASSESSMENT_NBHD  ASSESSMENT_SUBNBHD  \\\n0   1988.0  1972   ...    -77.040832      Old City 2    040 D Old City 2   \n1   2007.0  1972   ...    -77.040764      Old City 2    040 D Old City 2   \n2   2009.0  1984   ...    -77.040678      Old City 2    040 D Old City 2   \n3   2003.0  1984   ...    -77.040629      Old City 2    040 D Old City 2   \n4   2012.0  1985   ...    -77.039361      Old City 2    040 D Old City 2   \n\n  CENSUS_TRACT  CENSUS_BLOCK    WARD  SQUARE          X          Y QUADRANT  \n0       4201.0   004201 2006  Ward 2     152 -77.040429  38.914881       NW  \n1       4201.0   004201 2006  Ward 2     152 -77.040429  38.914881       NW  \n2       4201.0   004201 2006  Ward 2     152 -77.040429  38.914881       NW  \n3       4201.0   004201 2006  Ward 2     152 -77.040429  38.914881       NW  \n4       4201.0   004201 2006  Ward 2     152 -77.040429  38.914881       NW  \n\n[5 rows x 48 columns]"
          },
          "metadata": {}
        }
      ]
    },
    {
      "metadata": {
        "trusted": true,
        "scrolled": true
      },
      "cell_type": "code",
      "source": "dcdf.dtypes",
      "execution_count": 75,
      "outputs": [
        {
          "output_type": "execute_result",
          "execution_count": 75,
          "data": {
            "text/plain": "BATHRM                  int64\nHF_BATHRM               int64\nHEAT                   object\nAC                     object\nNUM_UNITS             float64\nROOMS                   int64\nBEDRM                   int64\nAYB                   float64\nYR_RMDL               float64\nEYB                     int64\nSTORIES               float64\nSALEDATE               object\nPRICE                 float64\nQUALIFIED              object\nSALE_NUM                int64\nGBA                   float64\nBLDG_NUM                int64\nSTYLE                  object\nSTRUCT                 object\nGRADE                  object\nCNDTN                  object\nEXTWALL                object\nROOF                   object\nINTWALL                object\nKITCHENS              float64\nFIREPLACES              int64\nUSECODE                 int64\nLANDAREA                int64\nGIS_LAST_MOD_DTTM      object\nSOURCE                 object\nCMPLX_NUM             float64\nLIVING_GBA            float64\nFULLADDRESS            object\nCITY                   object\nSTATE                  object\nZIPCODE               float64\nNATIONALGRID           object\nLATITUDE              float64\nLONGITUDE             float64\nASSESSMENT_NBHD        object\nASSESSMENT_SUBNBHD     object\nCENSUS_TRACT          float64\nCENSUS_BLOCK           object\nWARD                   object\nSQUARE                 object\nX                     float64\nY                     float64\nQUADRANT               object\ndtype: object"
          },
          "metadata": {}
        }
      ]
    },
    {
      "metadata": {
        "trusted": true
      },
      "cell_type": "code",
      "source": "dcdf.count()",
      "execution_count": 76,
      "outputs": [
        {
          "output_type": "execute_result",
          "execution_count": 76,
          "data": {
            "text/plain": "BATHRM                158957\nHF_BATHRM             158957\nHEAT                  158957\nAC                    158957\nNUM_UNITS             106696\nROOMS                 158957\nBEDRM                 158957\nAYB                   158686\nYR_RMDL                80928\nEYB                   158957\nSTORIES               106652\nSALEDATE              132187\nPRICE                  98216\nQUALIFIED             158957\nSALE_NUM              158957\nGBA                   106696\nBLDG_NUM              158957\nSTYLE                 106696\nSTRUCT                106696\nGRADE                 106696\nCNDTN                 106696\nEXTWALL               106696\nROOF                  106696\nINTWALL               106696\nKITCHENS              106695\nFIREPLACES            158957\nUSECODE               158957\nLANDAREA              158957\nGIS_LAST_MOD_DTTM     158957\nSOURCE                158957\nCMPLX_NUM              52261\nLIVING_GBA             52261\nFULLADDRESS           106040\nCITY                  106051\nSTATE                 106051\nZIPCODE               158956\nNATIONALGRID          106051\nLATITUDE              158956\nLONGITUDE             158956\nASSESSMENT_NBHD       158956\nASSESSMENT_SUBNBHD    126406\nCENSUS_TRACT          158956\nCENSUS_BLOCK          106051\nWARD                  158956\nSQUARE                158957\nX                     158720\nY                     158720\nQUADRANT              158720\ndtype: int64"
          },
          "metadata": {}
        }
      ]
    },
    {
      "metadata": {
        "trusted": true,
        "scrolled": true
      },
      "cell_type": "code",
      "source": "dcdf.duplicated()",
      "execution_count": 77,
      "outputs": [
        {
          "output_type": "execute_result",
          "execution_count": 77,
          "data": {
            "text/plain": "0         False\n1         False\n2         False\n3         False\n4         False\n5         False\n6         False\n7         False\n8         False\n9         False\n10        False\n11        False\n12        False\n13        False\n14        False\n15        False\n16        False\n17        False\n18        False\n19        False\n20        False\n21        False\n22        False\n23        False\n24        False\n25        False\n26        False\n27        False\n28        False\n29        False\n          ...  \n158927    False\n158928    False\n158929    False\n158930    False\n158931    False\n158932    False\n158933    False\n158934    False\n158935    False\n158936    False\n158937    False\n158938    False\n158939    False\n158940    False\n158941    False\n158942    False\n158943    False\n158944    False\n158945    False\n158946    False\n158947    False\n158948    False\n158949    False\n158950    False\n158951    False\n158952    False\n158953    False\n158954    False\n158955    False\n158956    False\nLength: 158957, dtype: bool"
          },
          "metadata": {}
        }
      ]
    },
    {
      "metadata": {
        "trusted": true
      },
      "cell_type": "code",
      "source": "# Checking values in data\ndcdf['BATHRM'].unique()",
      "execution_count": 80,
      "outputs": [
        {
          "output_type": "execute_result",
          "execution_count": 80,
          "data": {
            "text/plain": "array([ 4,  3,  2,  1,  5,  6,  7,  8, 11,  9,  0, 10, 12, 14, 13])"
          },
          "metadata": {}
        }
      ]
    },
    {
      "metadata": {
        "trusted": true
      },
      "cell_type": "code",
      "source": "dcdf['HF_BATHRM'].unique()",
      "execution_count": 81,
      "outputs": [
        {
          "output_type": "execute_result",
          "execution_count": 81,
          "data": {
            "text/plain": "array([ 0,  1,  2,  3,  4,  5,  6,  7,  9, 11])"
          },
          "metadata": {}
        }
      ]
    },
    {
      "metadata": {
        "trusted": true
      },
      "cell_type": "code",
      "source": "dcdf['HEAT'].unique()",
      "execution_count": 82,
      "outputs": [
        {
          "output_type": "execute_result",
          "execution_count": 82,
          "data": {
            "text/plain": "array(['Warm Cool', 'Hot Water Rad', 'Forced Air', 'Elec Base Brd',\n       'Ht Pump', 'Electric Rad', 'Wall Furnace', 'Water Base Brd',\n       'Evp Cool', 'Air Exchng', 'No Data', 'Ind Unit', 'Gravity Furnac',\n       'Air-Oil'], dtype=object)"
          },
          "metadata": {}
        }
      ]
    },
    {
      "metadata": {
        "trusted": true
      },
      "cell_type": "code",
      "source": "dcdf['AC'].unique()",
      "execution_count": 83,
      "outputs": [
        {
          "output_type": "execute_result",
          "execution_count": 83,
          "data": {
            "text/plain": "array(['Y', 'N', '0'], dtype=object)"
          },
          "metadata": {}
        }
      ]
    },
    {
      "metadata": {
        "trusted": true
      },
      "cell_type": "code",
      "source": "dcdf['NUM_UNITS'].unique()",
      "execution_count": 85,
      "outputs": [
        {
          "output_type": "execute_result",
          "execution_count": 85,
          "data": {
            "text/plain": "array([ 2.,  1.,  3.,  4.,  5.,  0.,  6., nan])"
          },
          "metadata": {}
        }
      ]
    },
    {
      "metadata": {
        "trusted": true
      },
      "cell_type": "code",
      "source": "dcdf['ROOMS'].unique()",
      "execution_count": 86,
      "outputs": [
        {
          "output_type": "execute_result",
          "execution_count": 86,
          "data": {
            "text/plain": "array([ 8, 11,  9, 10,  5,  7,  6, 12, 16, 14, 13,  4, 15, 18, 20, 19, 17,\n        0,  3, 21, 25, 23,  2,  1, 31, 41, 27, 39, 22, 32, 28, 48, 37, 34,\n       26, 24, 40, 29, 35, 30])"
          },
          "metadata": {}
        }
      ]
    },
    {
      "metadata": {
        "trusted": true
      },
      "cell_type": "code",
      "source": "dcdf['BEDRM'].unique()",
      "execution_count": 87,
      "outputs": [
        {
          "output_type": "execute_result",
          "execution_count": 87,
          "data": {
            "text/plain": "array([ 4,  5,  3,  2,  6,  7,  1,  8,  9, 10, 11,  0, 20, 12, 16, 24, 13,\n       15, 19, 14])"
          },
          "metadata": {}
        }
      ]
    },
    {
      "metadata": {
        "trusted": true
      },
      "cell_type": "code",
      "source": "dcdf['YR_RMDL'].unique()",
      "execution_count": 88,
      "outputs": [
        {
          "output_type": "execute_result",
          "execution_count": 88,
          "data": {
            "text/plain": "array([1988., 2007., 2009., 2003., 2012.,   nan, 2011., 2008., 1979.,\n       1950., 2000., 1990., 2006., 1987., 2013., 2010., 2004., 1963.,\n       1960., 2014., 1975., 1978., 2016., 1974., 1980., 2002., 1999.,\n       2005., 2001., 2015., 1935., 1995., 1984., 1973., 1996., 1976.,\n       1985., 1998., 1968., 1956., 1954., 1991., 1941., 1992., 1966.,\n       2018., 1925., 1997., 1959., 1989., 2017., 1951., 1948., 1982.,\n       1977., 1983., 1972., 1981., 1971., 1965., 1962., 1967., 1994.,\n       1955., 1986., 1964., 1949., 1969., 1993., 1961., 1924., 1922.,\n       1952., 1916., 1970., 1945., 1958., 1947., 1940., 1944., 1928.,\n       1939., 1957., 1953., 1929., 1923., 1915., 1900., 1926., 1946.,\n       1936., 1927., 1880., 1943., 1934., 1942., 1938., 1930., 1937.,\n       1932., 1920., 1933., 1931., 1913., 1911., 1921.,   20., 2019.,\n       1917., 1912., 1910.])"
          },
          "metadata": {}
        }
      ]
    },
    {
      "metadata": {
        "trusted": true
      },
      "cell_type": "code",
      "source": "dcdf['STORIES'].unique()",
      "execution_count": 89,
      "outputs": [
        {
          "output_type": "execute_result",
          "execution_count": 89,
          "data": {
            "text/plain": "array([3.00e+00, 4.00e+00, 2.00e+00, 2.50e+00, 2.25e+00, 3.50e+00,\n       1.00e+00,      nan, 3.25e+00, 1.50e+00, 2.75e+00, 7.00e+00,\n       6.50e+01, 2.70e+00, 0.00e+00, 8.26e+02, 6.00e+00, 2.30e+00,\n       5.00e+00, 2.20e+00, 3.70e+00, 1.70e+00, 3.20e+00, 1.75e+00,\n       3.75e+00, 4.50e+00, 2.50e+02, 2.75e+02, 1.25e+00, 2.50e+01,\n       4.75e+00, 9.00e+00, 5.00e-01, 8.25e+00, 7.50e-01, 2.33e+00,\n       2.00e+01, 1.20e+01, 4.30e+01, 1.34e+00, 2.50e-01])"
          },
          "metadata": {}
        }
      ]
    },
    {
      "metadata": {
        "trusted": true
      },
      "cell_type": "code",
      "source": "dcdf['QUALIFIED'].unique()",
      "execution_count": 90,
      "outputs": [
        {
          "output_type": "execute_result",
          "execution_count": 90,
          "data": {
            "text/plain": "array(['Q', 'U'], dtype=object)"
          },
          "metadata": {}
        }
      ]
    },
    {
      "metadata": {
        "trusted": true
      },
      "cell_type": "code",
      "source": "dcdf['SALE_NUM'].unique()",
      "execution_count": 91,
      "outputs": [
        {
          "output_type": "execute_result",
          "execution_count": 91,
          "data": {
            "text/plain": "array([ 1,  3,  4,  6,  2,  5,  7,  9, 10,  8, 11, 12, 14, 13, 15])"
          },
          "metadata": {}
        }
      ]
    },
    {
      "metadata": {
        "trusted": true
      },
      "cell_type": "code",
      "source": "dcdf['STYLE'].unique()",
      "execution_count": 92,
      "outputs": [
        {
          "output_type": "execute_result",
          "execution_count": 92,
          "data": {
            "text/plain": "array(['3 Story', '4 Story', '2 Story', '2.5 Story Fin', '3.5 Story Fin',\n       '1 Story', '1.5 Story Fin', '2.5 Story Unfin', '3.5 Story Unfin',\n       'Default', '1.5 Story Unfin', '4.5 Story Fin', 'Split Level',\n       'Bi-Level', 'Split Foyer', 'Vacant', 'Outbuildings',\n       '4.5 Story Unfin', nan], dtype=object)"
          },
          "metadata": {}
        }
      ]
    },
    {
      "metadata": {
        "trusted": true
      },
      "cell_type": "code",
      "source": "dcdf['STRUCT'].unique()",
      "execution_count": 93,
      "outputs": [
        {
          "output_type": "execute_result",
          "execution_count": 93,
          "data": {
            "text/plain": "array(['Row Inside', 'Semi-Detached', 'Single', 'Row End', 'Multi',\n       'Town Inside', 'Town End', 'Default', 'Vacant Land', nan],\n      dtype=object)"
          },
          "metadata": {}
        }
      ]
    },
    {
      "metadata": {
        "trusted": true
      },
      "cell_type": "code",
      "source": "dcdf['GRADE'].unique()",
      "execution_count": 94,
      "outputs": [
        {
          "output_type": "execute_result",
          "execution_count": 94,
          "data": {
            "text/plain": "array(['Very Good', 'Above Average', 'Good Quality', 'Excellent',\n       'Average', 'Superior', 'Fair Quality', 'Exceptional-D',\n       'Exceptional-C', 'Low Quality', 'Exceptional-A', 'Exceptional-B',\n       'No Data', nan], dtype=object)"
          },
          "metadata": {}
        }
      ]
    },
    {
      "metadata": {
        "trusted": true
      },
      "cell_type": "code",
      "source": "dcdf['CNDTN'].unique()",
      "execution_count": 95,
      "outputs": [
        {
          "output_type": "execute_result",
          "execution_count": 95,
          "data": {
            "text/plain": "array(['Good', 'Very Good', 'Average', 'Fair', 'Excellent', 'Poor',\n       'Default', nan], dtype=object)"
          },
          "metadata": {}
        }
      ]
    },
    {
      "metadata": {
        "trusted": true
      },
      "cell_type": "code",
      "source": "dcdf['EXTWALL'].unique()",
      "execution_count": 96,
      "outputs": [
        {
          "output_type": "execute_result",
          "execution_count": 96,
          "data": {
            "text/plain": "array(['Common Brick', 'Brick/Stone', 'Stucco', 'Stone', 'Stucco Block',\n       'Brick/Stucco', 'Concrete Block', 'Face Brick', 'Wood Siding',\n       'Aluminum', 'Brick/Siding', 'Vinyl Siding', 'Stone Veneer',\n       'Brick Veneer', 'Stone/Stucco', 'Stone/Siding', 'Metal Siding',\n       'Shingle', 'Concrete', 'Plywood', 'Hardboard', 'Default', 'Adobe',\n       'Rustic Log', 'SPlaster', nan], dtype=object)"
          },
          "metadata": {}
        }
      ]
    },
    {
      "metadata": {
        "trusted": true
      },
      "cell_type": "code",
      "source": "dcdf['ROOF'].unique()",
      "execution_count": 97,
      "outputs": [
        {
          "output_type": "execute_result",
          "execution_count": 97,
          "data": {
            "text/plain": "array(['Metal- Sms', 'Built Up', 'Neopren', 'Comp Shingle', 'Metal- Cpr',\n       'Typical', 'Slate', 'Composition Ro', 'Metal- Pre', 'Shingle',\n       'Concrete', 'Shake', 'Clay Tile', 'Water Proof', 'Concrete Tile',\n       'Wood- FS', nan], dtype=object)"
          },
          "metadata": {}
        }
      ]
    },
    {
      "metadata": {
        "trusted": true
      },
      "cell_type": "code",
      "source": "dcdf['INTWALL'].unique()",
      "execution_count": 98,
      "outputs": [
        {
          "output_type": "execute_result",
          "execution_count": 98,
          "data": {
            "text/plain": "array(['Hardwood', 'Wood Floor', 'Hardwood/Carp', 'Carpet', 'Lt Concrete',\n       'Vinyl Comp', 'Ceramic Tile', 'Default', 'Terrazo', 'Parquet',\n       'Vinyl Sheet', 'Resiliant', nan], dtype=object)"
          },
          "metadata": {}
        }
      ]
    },
    {
      "metadata": {
        "trusted": true
      },
      "cell_type": "code",
      "source": "dcdf['KITCHENS'].unique()",
      "execution_count": 99,
      "outputs": [
        {
          "output_type": "execute_result",
          "execution_count": 99,
          "data": {
            "text/plain": "array([ 2.,  1.,  3.,  4.,  5.,  0.,  6., 44., nan])"
          },
          "metadata": {}
        }
      ]
    },
    {
      "metadata": {
        "trusted": true
      },
      "cell_type": "code",
      "source": "dcdf['FIREPLACES'].unique()",
      "execution_count": 100,
      "outputs": [
        {
          "output_type": "execute_result",
          "execution_count": 100,
          "data": {
            "text/plain": "array([     5,      4,      3,      0,      1,      2,      6,      7,\n            8,     12,     10,     13,     11,      9,   1601,    922,\n         4068,    200, 293920,   1017])"
          },
          "metadata": {}
        }
      ]
    },
    {
      "metadata": {
        "trusted": true
      },
      "cell_type": "code",
      "source": "dcdf['USECODE'].unique()",
      "execution_count": 101,
      "outputs": [
        {
          "output_type": "execute_result",
          "execution_count": 101,
          "data": {
            "text/plain": "array([ 24,  13,  11,  12,  23,  15,  39,  19,  81,  29,  83,  41,  16,\n        17, 117, 116])"
          },
          "metadata": {}
        }
      ]
    },
    {
      "metadata": {
        "trusted": true
      },
      "cell_type": "code",
      "source": "dcdf['SOURCE'].unique()",
      "execution_count": 102,
      "outputs": [
        {
          "output_type": "execute_result",
          "execution_count": 102,
          "data": {
            "text/plain": "array(['Residential', 'Condominium'], dtype=object)"
          },
          "metadata": {}
        }
      ]
    },
    {
      "metadata": {
        "trusted": true
      },
      "cell_type": "code",
      "source": "dcdf['CITY'].unique()",
      "execution_count": 103,
      "outputs": [
        {
          "output_type": "execute_result",
          "execution_count": 103,
          "data": {
            "text/plain": "array(['WASHINGTON', nan], dtype=object)"
          },
          "metadata": {}
        }
      ]
    },
    {
      "metadata": {
        "trusted": true
      },
      "cell_type": "code",
      "source": "dcdf['STATE'].unique()",
      "execution_count": 104,
      "outputs": [
        {
          "output_type": "execute_result",
          "execution_count": 104,
          "data": {
            "text/plain": "array(['DC', nan], dtype=object)"
          },
          "metadata": {}
        }
      ]
    },
    {
      "metadata": {
        "trusted": true
      },
      "cell_type": "code",
      "source": "dcdf['ZIPCODE'].unique()",
      "execution_count": 105,
      "outputs": [
        {
          "output_type": "execute_result",
          "execution_count": 105,
          "data": {
            "text/plain": "array([20009., 20037., 20036., 20005., 20052., 20008., 20001., 20024.,\n       20006., 20003., 20002., 20007., 20016., 20015., 20011., 20010.,\n       20012., 20017., 20018., 20019., 20020., 20032.,    nan, 20392.,\n       20004.])"
          },
          "metadata": {}
        }
      ]
    },
    {
      "metadata": {
        "trusted": true
      },
      "cell_type": "code",
      "source": "dcdf['WARD'].unique()",
      "execution_count": 106,
      "outputs": [
        {
          "output_type": "execute_result",
          "execution_count": 106,
          "data": {
            "text/plain": "array(['Ward 2', 'Ward 1', 'Ward 6', 'Ward 5', 'Ward 3', 'Ward 4',\n       'Ward 7', 'Ward 8', nan], dtype=object)"
          },
          "metadata": {}
        }
      ]
    },
    {
      "metadata": {
        "trusted": true
      },
      "cell_type": "code",
      "source": "dcdf['QUADRANT'].unique()",
      "execution_count": 107,
      "outputs": [
        {
          "output_type": "execute_result",
          "execution_count": 107,
          "data": {
            "text/plain": "array(['NW', 'SW', 'SE', 'NE', nan], dtype=object)"
          },
          "metadata": {}
        }
      ]
    },
    {
      "metadata": {
        "trusted": true
      },
      "cell_type": "code",
      "source": "dcdf['CENSUS_TRACT'].unique()",
      "execution_count": 108,
      "outputs": [
        {
          "output_type": "execute_result",
          "execution_count": 108,
          "data": {
            "text/plain": "array([ 4201.,  5201.,  4300., 10800.,  5500.,  4202.,  5301.,  5600.,\n        4400., 10700.,  5001.,  5002.,  4801.,  4802.,  4901.,  4702.,\n        6400.,  4902., 10200.,  4600.,  4701.,  7200.,  8200.,  6500.,\n        7000.,  8301., 11000., 10600.,  8302.,  6600.,  8100.,  8410.,\n        8402.,  6700.,  6900.,  8001.,  8002.,  7100.,  6802.,  6801.,\n         202.,   100.,  6804.,   300.,   702.,   802.,   801.,   902.,\n         901.,  1001.,  1100.,  1002.,  1200.,   701.,   600.,  1500.,\n        1302.,  1401.,   400.,  1402.,  1301.,   502.,  9505.,  4100.,\n        4001.,   501.,  2701.,  3800.,  4002.,  2702.,  2600.,  3900.,\n        2801.,  2502.,  2501.,  3700.,  2802.,  2001.,  1804.,  1803.,\n        1600.,  2002.,  2900.,  3000.,  3100.,  3600.,  3500.,  1901.,\n        2101.,  2201., 10300.,  2400.,  1702.,  3200.,  3400.,  3302.,\n        3301.,  2102.,  2301.,  2202.,  1902.,  8701.,  9203.,  9501.,\n        9204.,  9201.,  8702.,  9508.,  9507.,  9509.,  9504.,  9302.,\n        9301.,  9102.,  9503.,  8804.,  8802.,  8803., 11100.,  9400.,\n        9000.,  8904.,  7901.,  8903.,  7903.,  9604.,  9602.,  9603.,\n        9601.,  7803.,  7806.,  7809.,  7804.,  7807.,  7808.,  9905.,\n        9903.,  9904.,  9906.,  7707.,  9902.,  9907.,  7709.,  7703.,\n        7708.,  7601.,  9901.,  7605.,  7604.,  7603.,  7502.,  7407.,\n        7404.,  7401.,  7503.,  7504.,  7408.,  7409.,  7304.,  7403.,\n        9700.,  9804., 10400.,  7406.,  9801.,  9803.,  9811.,  9807.,\n        9802.,  9810.,    nan, 10900., 10500.,  2302., 10100.,  5900.,\n        5800.])"
          },
          "metadata": {}
        }
      ]
    },
    {
      "metadata": {
        "trusted": true
      },
      "cell_type": "code",
      "source": "missing = dcdf['CITY'].isnull()\ndcdf.loc[missing]",
      "execution_count": 117,
      "outputs": [
        {
          "output_type": "execute_result",
          "execution_count": 117,
          "data": {
            "text/html": "<div>\n<style scoped>\n    .dataframe tbody tr th:only-of-type {\n        vertical-align: middle;\n    }\n\n    .dataframe tbody tr th {\n        vertical-align: top;\n    }\n\n    .dataframe thead th {\n        text-align: right;\n    }\n</style>\n<table border=\"1\" class=\"dataframe\">\n  <thead>\n    <tr style=\"text-align: right;\">\n      <th></th>\n      <th>BATHRM</th>\n      <th>HF_BATHRM</th>\n      <th>HEAT</th>\n      <th>AC</th>\n      <th>NUM_UNITS</th>\n      <th>ROOMS</th>\n      <th>BEDRM</th>\n      <th>AYB</th>\n      <th>YR_RMDL</th>\n      <th>EYB</th>\n      <th>...</th>\n      <th>LONGITUDE</th>\n      <th>ASSESSMENT_NBHD</th>\n      <th>ASSESSMENT_SUBNBHD</th>\n      <th>CENSUS_TRACT</th>\n      <th>CENSUS_BLOCK</th>\n      <th>WARD</th>\n      <th>SQUARE</th>\n      <th>X</th>\n      <th>Y</th>\n      <th>QUADRANT</th>\n    </tr>\n  </thead>\n  <tbody>\n    <tr>\n      <th>1426</th>\n      <td>2</td>\n      <td>1</td>\n      <td>Forced Air</td>\n      <td>Y</td>\n      <td>1.0</td>\n      <td>6</td>\n      <td>4</td>\n      <td>1894.0</td>\n      <td>2013.0</td>\n      <td>1967</td>\n      <td>...</td>\n      <td>-77.018312</td>\n      <td>Old City 2</td>\n      <td>040 B Old City 2</td>\n      <td>4802.0</td>\n      <td>NaN</td>\n      <td>Ward 6</td>\n      <td>514</td>\n      <td>-77.018315</td>\n      <td>38.905417</td>\n      <td>NW</td>\n    </tr>\n    <tr>\n      <th>1449</th>\n      <td>4</td>\n      <td>2</td>\n      <td>Forced Air</td>\n      <td>Y</td>\n      <td>2.0</td>\n      <td>10</td>\n      <td>4</td>\n      <td>2009.0</td>\n      <td>NaN</td>\n      <td>2012</td>\n      <td>...</td>\n      <td>-77.019420</td>\n      <td>Old City 2</td>\n      <td>040 B Old City 2</td>\n      <td>4801.0</td>\n      <td>NaN</td>\n      <td>Ward 6</td>\n      <td>477</td>\n      <td>-77.019422</td>\n      <td>38.911848</td>\n      <td>NW</td>\n    </tr>\n    <tr>\n      <th>1492</th>\n      <td>2</td>\n      <td>1</td>\n      <td>Forced Air</td>\n      <td>Y</td>\n      <td>1.0</td>\n      <td>4</td>\n      <td>2</td>\n      <td>1900.0</td>\n      <td>2013.0</td>\n      <td>1964</td>\n      <td>...</td>\n      <td>-77.028685</td>\n      <td>Old City 2</td>\n      <td>040 C Old City 2</td>\n      <td>5002.0</td>\n      <td>NaN</td>\n      <td>Ward 2</td>\n      <td>279</td>\n      <td>-77.028687</td>\n      <td>38.908979</td>\n      <td>NW</td>\n    </tr>\n    <tr>\n      <th>2108</th>\n      <td>3</td>\n      <td>0</td>\n      <td>Warm Cool</td>\n      <td>Y</td>\n      <td>2.0</td>\n      <td>6</td>\n      <td>4</td>\n      <td>1890.0</td>\n      <td>2007.0</td>\n      <td>1972</td>\n      <td>...</td>\n      <td>-77.043813</td>\n      <td>Old City 2</td>\n      <td>040 D Old City 2</td>\n      <td>4202.0</td>\n      <td>NaN</td>\n      <td>Ward 2</td>\n      <td>111</td>\n      <td>-77.043815</td>\n      <td>38.911970</td>\n      <td>NW</td>\n    </tr>\n    <tr>\n      <th>2109</th>\n      <td>3</td>\n      <td>1</td>\n      <td>Warm Cool</td>\n      <td>Y</td>\n      <td>2.0</td>\n      <td>8</td>\n      <td>4</td>\n      <td>1990.0</td>\n      <td>NaN</td>\n      <td>1998</td>\n      <td>...</td>\n      <td>-77.043813</td>\n      <td>Old City 2</td>\n      <td>040 D Old City 2</td>\n      <td>4202.0</td>\n      <td>NaN</td>\n      <td>Ward 2</td>\n      <td>111</td>\n      <td>-77.043815</td>\n      <td>38.911970</td>\n      <td>NW</td>\n    </tr>\n    <tr>\n      <th>2758</th>\n      <td>2</td>\n      <td>1</td>\n      <td>Hot Water Rad</td>\n      <td>N</td>\n      <td>2.0</td>\n      <td>8</td>\n      <td>3</td>\n      <td>1892.0</td>\n      <td>1986.0</td>\n      <td>1960</td>\n      <td>...</td>\n      <td>-77.039134</td>\n      <td>Old City 2</td>\n      <td>040 D Old City 2</td>\n      <td>5301.0</td>\n      <td>NaN</td>\n      <td>Ward 2</td>\n      <td>154</td>\n      <td>-77.039137</td>\n      <td>38.913226</td>\n      <td>NW</td>\n    </tr>\n    <tr>\n      <th>3727</th>\n      <td>4</td>\n      <td>0</td>\n      <td>Hot Water Rad</td>\n      <td>N</td>\n      <td>4.0</td>\n      <td>16</td>\n      <td>7</td>\n      <td>1906.0</td>\n      <td>1995.0</td>\n      <td>1957</td>\n      <td>...</td>\n      <td>-77.010325</td>\n      <td>Old City 2</td>\n      <td>040 A Old City 2</td>\n      <td>4600.0</td>\n      <td>NaN</td>\n      <td>Ward 5</td>\n      <td>617</td>\n      <td>-77.010328</td>\n      <td>38.908045</td>\n      <td>NW</td>\n    </tr>\n    <tr>\n      <th>3816</th>\n      <td>2</td>\n      <td>1</td>\n      <td>Forced Air</td>\n      <td>Y</td>\n      <td>1.0</td>\n      <td>6</td>\n      <td>2</td>\n      <td>1890.0</td>\n      <td>2002.0</td>\n      <td>1960</td>\n      <td>...</td>\n      <td>-77.002646</td>\n      <td>Old City 1</td>\n      <td>039 J Old City 1</td>\n      <td>8301.0</td>\n      <td>NaN</td>\n      <td>Ward 6</td>\n      <td>752</td>\n      <td>-77.002648</td>\n      <td>38.899249</td>\n      <td>NE</td>\n    </tr>\n    <tr>\n      <th>3817</th>\n      <td>1</td>\n      <td>1</td>\n      <td>Hot Water Rad</td>\n      <td>Y</td>\n      <td>1.0</td>\n      <td>6</td>\n      <td>2</td>\n      <td>1890.0</td>\n      <td>NaN</td>\n      <td>1969</td>\n      <td>...</td>\n      <td>-77.002646</td>\n      <td>Old City 1</td>\n      <td>039 J Old City 1</td>\n      <td>8301.0</td>\n      <td>NaN</td>\n      <td>Ward 6</td>\n      <td>752</td>\n      <td>-77.002648</td>\n      <td>38.899249</td>\n      <td>NE</td>\n    </tr>\n    <tr>\n      <th>3862</th>\n      <td>3</td>\n      <td>1</td>\n      <td>Forced Air</td>\n      <td>Y</td>\n      <td>1.0</td>\n      <td>6</td>\n      <td>4</td>\n      <td>1900.0</td>\n      <td>2017.0</td>\n      <td>1969</td>\n      <td>...</td>\n      <td>-77.002646</td>\n      <td>Old City 1</td>\n      <td>039 J Old City 1</td>\n      <td>8301.0</td>\n      <td>NaN</td>\n      <td>Ward 6</td>\n      <td>752</td>\n      <td>-77.002648</td>\n      <td>38.899249</td>\n      <td>NE</td>\n    </tr>\n    <tr>\n      <th>4034</th>\n      <td>3</td>\n      <td>0</td>\n      <td>Hot Water Rad</td>\n      <td>N</td>\n      <td>2.0</td>\n      <td>16</td>\n      <td>5</td>\n      <td>NaN</td>\n      <td>NaN</td>\n      <td>1969</td>\n      <td>...</td>\n      <td>-77.030598</td>\n      <td>Old City 2</td>\n      <td>040 E Old City 2</td>\n      <td>5001.0</td>\n      <td>NaN</td>\n      <td>Ward 2</td>\n      <td>240</td>\n      <td>-77.030601</td>\n      <td>38.911885</td>\n      <td>NW</td>\n    </tr>\n    <tr>\n      <th>4368</th>\n      <td>4</td>\n      <td>0</td>\n      <td>Ht Pump</td>\n      <td>Y</td>\n      <td>4.0</td>\n      <td>9</td>\n      <td>4</td>\n      <td>1900.0</td>\n      <td>NaN</td>\n      <td>1969</td>\n      <td>...</td>\n      <td>-77.027486</td>\n      <td>Old City 2</td>\n      <td>040 C Old City 2</td>\n      <td>5002.0</td>\n      <td>NaN</td>\n      <td>Ward 2</td>\n      <td>314</td>\n      <td>-77.027488</td>\n      <td>38.906313</td>\n      <td>NW</td>\n    </tr>\n    <tr>\n      <th>4798</th>\n      <td>2</td>\n      <td>0</td>\n      <td>Forced Air</td>\n      <td>Y</td>\n      <td>1.0</td>\n      <td>5</td>\n      <td>2</td>\n      <td>1880.0</td>\n      <td>1979.0</td>\n      <td>1954</td>\n      <td>...</td>\n      <td>-77.026365</td>\n      <td>Old City 2</td>\n      <td>040 E Old City 2</td>\n      <td>4400.0</td>\n      <td>NaN</td>\n      <td>Ward 1</td>\n      <td>334</td>\n      <td>-77.026368</td>\n      <td>38.914806</td>\n      <td>NW</td>\n    </tr>\n    <tr>\n      <th>5341</th>\n      <td>2</td>\n      <td>1</td>\n      <td>Forced Air</td>\n      <td>Y</td>\n      <td>1.0</td>\n      <td>7</td>\n      <td>3</td>\n      <td>1890.0</td>\n      <td>2012.0</td>\n      <td>1980</td>\n      <td>...</td>\n      <td>-77.002375</td>\n      <td>Old City 1</td>\n      <td>039 K Old City 1</td>\n      <td>8301.0</td>\n      <td>NaN</td>\n      <td>Ward 6</td>\n      <td>755</td>\n      <td>-77.002378</td>\n      <td>38.895731</td>\n      <td>NE</td>\n    </tr>\n    <tr>\n      <th>5802</th>\n      <td>4</td>\n      <td>0</td>\n      <td>Warm Cool</td>\n      <td>Y</td>\n      <td>4.0</td>\n      <td>12</td>\n      <td>4</td>\n      <td>1926.0</td>\n      <td>1989.0</td>\n      <td>1957</td>\n      <td>...</td>\n      <td>-77.001086</td>\n      <td>Old City 1</td>\n      <td>039 J Old City 1</td>\n      <td>8301.0</td>\n      <td>NaN</td>\n      <td>Ward 6</td>\n      <td>778</td>\n      <td>-77.001088</td>\n      <td>38.898054</td>\n      <td>NE</td>\n    </tr>\n    <tr>\n      <th>6980</th>\n      <td>3</td>\n      <td>1</td>\n      <td>Forced Air</td>\n      <td>Y</td>\n      <td>2.0</td>\n      <td>6</td>\n      <td>5</td>\n      <td>1880.0</td>\n      <td>2017.0</td>\n      <td>1978</td>\n      <td>...</td>\n      <td>-77.001013</td>\n      <td>Capitol Hill</td>\n      <td>009 A Capitol Hill</td>\n      <td>6500.0</td>\n      <td>NaN</td>\n      <td>Ward 6</td>\n      <td>793</td>\n      <td>-77.001016</td>\n      <td>38.883934</td>\n      <td>SE</td>\n    </tr>\n    <tr>\n      <th>7761</th>\n      <td>1</td>\n      <td>0</td>\n      <td>Forced Air</td>\n      <td>Y</td>\n      <td>1.0</td>\n      <td>4</td>\n      <td>2</td>\n      <td>1880.0</td>\n      <td>NaN</td>\n      <td>1954</td>\n      <td>...</td>\n      <td>-77.002652</td>\n      <td>Capitol Hill</td>\n      <td>009 A Capitol Hill</td>\n      <td>6500.0</td>\n      <td>NaN</td>\n      <td>Ward 6</td>\n      <td>762</td>\n      <td>-77.002654</td>\n      <td>38.886876</td>\n      <td>SE</td>\n    </tr>\n    <tr>\n      <th>9243</th>\n      <td>5</td>\n      <td>1</td>\n      <td>Forced Air</td>\n      <td>Y</td>\n      <td>1.0</td>\n      <td>12</td>\n      <td>5</td>\n      <td>2007.0</td>\n      <td>NaN</td>\n      <td>2015</td>\n      <td>...</td>\n      <td>-76.997923</td>\n      <td>Old City 1</td>\n      <td>039 K Old City 1</td>\n      <td>8302.0</td>\n      <td>NaN</td>\n      <td>Ward 6</td>\n      <td>863</td>\n      <td>-76.997925</td>\n      <td>38.894548</td>\n      <td>NE</td>\n    </tr>\n    <tr>\n      <th>9244</th>\n      <td>5</td>\n      <td>1</td>\n      <td>Warm Cool</td>\n      <td>Y</td>\n      <td>1.0</td>\n      <td>12</td>\n      <td>6</td>\n      <td>2007.0</td>\n      <td>NaN</td>\n      <td>2015</td>\n      <td>...</td>\n      <td>-76.997923</td>\n      <td>Old City 1</td>\n      <td>039 K Old City 1</td>\n      <td>8302.0</td>\n      <td>NaN</td>\n      <td>Ward 6</td>\n      <td>863</td>\n      <td>-76.997925</td>\n      <td>38.894548</td>\n      <td>NE</td>\n    </tr>\n    <tr>\n      <th>9245</th>\n      <td>5</td>\n      <td>1</td>\n      <td>Forced Air</td>\n      <td>Y</td>\n      <td>1.0</td>\n      <td>12</td>\n      <td>3</td>\n      <td>2007.0</td>\n      <td>NaN</td>\n      <td>2015</td>\n      <td>...</td>\n      <td>-76.997923</td>\n      <td>Old City 1</td>\n      <td>039 K Old City 1</td>\n      <td>8302.0</td>\n      <td>NaN</td>\n      <td>Ward 6</td>\n      <td>863</td>\n      <td>-76.997925</td>\n      <td>38.894548</td>\n      <td>NE</td>\n    </tr>\n    <tr>\n      <th>9563</th>\n      <td>2</td>\n      <td>1</td>\n      <td>Hot Water Rad</td>\n      <td>Y</td>\n      <td>1.0</td>\n      <td>6</td>\n      <td>3</td>\n      <td>1925.0</td>\n      <td>2009.0</td>\n      <td>1967</td>\n      <td>...</td>\n      <td>-76.992196</td>\n      <td>Old City 1</td>\n      <td>039 J Old City 1</td>\n      <td>8402.0</td>\n      <td>NaN</td>\n      <td>Ward 6</td>\n      <td>959</td>\n      <td>-76.992199</td>\n      <td>38.899491</td>\n      <td>NE</td>\n    </tr>\n    <tr>\n      <th>11092</th>\n      <td>5</td>\n      <td>1</td>\n      <td>Ht Pump</td>\n      <td>Y</td>\n      <td>2.0</td>\n      <td>9</td>\n      <td>5</td>\n      <td>1920.0</td>\n      <td>2013.0</td>\n      <td>1969</td>\n      <td>...</td>\n      <td>-76.997519</td>\n      <td>Old City 1</td>\n      <td>039 J Old City 1</td>\n      <td>8302.0</td>\n      <td>NaN</td>\n      <td>Ward 6</td>\n      <td>859</td>\n      <td>-76.997522</td>\n      <td>38.899145</td>\n      <td>NE</td>\n    </tr>\n    <tr>\n      <th>11213</th>\n      <td>2</td>\n      <td>1</td>\n      <td>Hot Water Rad</td>\n      <td>Y</td>\n      <td>1.0</td>\n      <td>7</td>\n      <td>3</td>\n      <td>1908.0</td>\n      <td>1995.0</td>\n      <td>1967</td>\n      <td>...</td>\n      <td>-76.999045</td>\n      <td>Old City 1</td>\n      <td>039 K Old City 1</td>\n      <td>8301.0</td>\n      <td>NaN</td>\n      <td>Ward 6</td>\n      <td>836</td>\n      <td>-76.999047</td>\n      <td>38.895511</td>\n      <td>NE</td>\n    </tr>\n    <tr>\n      <th>11298</th>\n      <td>4</td>\n      <td>1</td>\n      <td>Forced Air</td>\n      <td>Y</td>\n      <td>1.0</td>\n      <td>8</td>\n      <td>3</td>\n      <td>1900.0</td>\n      <td>2014.0</td>\n      <td>1980</td>\n      <td>...</td>\n      <td>-76.995699</td>\n      <td>Old City 1</td>\n      <td>039 K Old City 1</td>\n      <td>8302.0</td>\n      <td>NaN</td>\n      <td>Ward 6</td>\n      <td>894</td>\n      <td>-76.995701</td>\n      <td>38.894320</td>\n      <td>NE</td>\n    </tr>\n    <tr>\n      <th>11664</th>\n      <td>3</td>\n      <td>2</td>\n      <td>Forced Air</td>\n      <td>Y</td>\n      <td>2.0</td>\n      <td>11</td>\n      <td>3</td>\n      <td>1900.0</td>\n      <td>2014.0</td>\n      <td>1982</td>\n      <td>...</td>\n      <td>-76.990987</td>\n      <td>Old City 1</td>\n      <td>039 J Old City 1</td>\n      <td>8402.0</td>\n      <td>NaN</td>\n      <td>Ward 6</td>\n      <td>982</td>\n      <td>-76.990989</td>\n      <td>38.899358</td>\n      <td>NE</td>\n    </tr>\n    <tr>\n      <th>12731</th>\n      <td>1</td>\n      <td>1</td>\n      <td>Hot Water Rad</td>\n      <td>Y</td>\n      <td>1.0</td>\n      <td>5</td>\n      <td>2</td>\n      <td>1900.0</td>\n      <td>2012.0</td>\n      <td>1964</td>\n      <td>...</td>\n      <td>-76.995594</td>\n      <td>Capitol Hill</td>\n      <td>009 B Capitol Hill</td>\n      <td>6600.0</td>\n      <td>NaN</td>\n      <td>Ward 6</td>\n      <td>898</td>\n      <td>-76.995596</td>\n      <td>38.889161</td>\n      <td>SE</td>\n    </tr>\n    <tr>\n      <th>13282</th>\n      <td>2</td>\n      <td>1</td>\n      <td>Forced Air</td>\n      <td>Y</td>\n      <td>1.0</td>\n      <td>6</td>\n      <td>2</td>\n      <td>1900.0</td>\n      <td>2014.0</td>\n      <td>1964</td>\n      <td>...</td>\n      <td>-76.990848</td>\n      <td>Old City 1</td>\n      <td>039 K Old City 1</td>\n      <td>8100.0</td>\n      <td>NaN</td>\n      <td>Ward 6</td>\n      <td>986</td>\n      <td>-76.990850</td>\n      <td>38.894136</td>\n      <td>NE</td>\n    </tr>\n    <tr>\n      <th>13933</th>\n      <td>1</td>\n      <td>0</td>\n      <td>Hot Water Rad</td>\n      <td>Y</td>\n      <td>1.0</td>\n      <td>6</td>\n      <td>3</td>\n      <td>1900.0</td>\n      <td>2006.0</td>\n      <td>1975</td>\n      <td>...</td>\n      <td>-76.992050</td>\n      <td>Capitol Hill</td>\n      <td>009 A Capitol Hill</td>\n      <td>7000.0</td>\n      <td>NaN</td>\n      <td>Ward 6</td>\n      <td>973</td>\n      <td>-76.992052</td>\n      <td>38.881970</td>\n      <td>SE</td>\n    </tr>\n    <tr>\n      <th>14876</th>\n      <td>2</td>\n      <td>0</td>\n      <td>Warm Cool</td>\n      <td>Y</td>\n      <td>1.0</td>\n      <td>11</td>\n      <td>8</td>\n      <td>1908.0</td>\n      <td>1986.0</td>\n      <td>1963</td>\n      <td>...</td>\n      <td>-76.989647</td>\n      <td>Old City 1</td>\n      <td>039 K Old City 1</td>\n      <td>8002.0</td>\n      <td>NaN</td>\n      <td>Ward 6</td>\n      <td>1011</td>\n      <td>-76.989650</td>\n      <td>38.891377</td>\n      <td>NE</td>\n    </tr>\n    <tr>\n      <th>15971</th>\n      <td>4</td>\n      <td>0</td>\n      <td>Forced Air</td>\n      <td>Y</td>\n      <td>4.0</td>\n      <td>12</td>\n      <td>4</td>\n      <td>1927.0</td>\n      <td>NaN</td>\n      <td>1954</td>\n      <td>...</td>\n      <td>-76.982918</td>\n      <td>Old City 1</td>\n      <td>039 A Old City 1</td>\n      <td>6801.0</td>\n      <td>NaN</td>\n      <td>Ward 6</td>\n      <td>1072</td>\n      <td>-76.982921</td>\n      <td>38.887773</td>\n      <td>SE</td>\n    </tr>\n    <tr>\n      <th>...</th>\n      <td>...</td>\n      <td>...</td>\n      <td>...</td>\n      <td>...</td>\n      <td>...</td>\n      <td>...</td>\n      <td>...</td>\n      <td>...</td>\n      <td>...</td>\n      <td>...</td>\n      <td>...</td>\n      <td>...</td>\n      <td>...</td>\n      <td>...</td>\n      <td>...</td>\n      <td>...</td>\n      <td>...</td>\n      <td>...</td>\n      <td>...</td>\n      <td>...</td>\n      <td>...</td>\n    </tr>\n    <tr>\n      <th>158927</th>\n      <td>2</td>\n      <td>0</td>\n      <td>Ht Pump</td>\n      <td>Y</td>\n      <td>NaN</td>\n      <td>6</td>\n      <td>3</td>\n      <td>1993.0</td>\n      <td>1993.0</td>\n      <td>1993</td>\n      <td>...</td>\n      <td>-77.019274</td>\n      <td>Old City 2</td>\n      <td>040 G Old City 2</td>\n      <td>4801.0</td>\n      <td>NaN</td>\n      <td>Ward 6</td>\n      <td>475</td>\n      <td>-77.019277</td>\n      <td>38.914287</td>\n      <td>NW</td>\n    </tr>\n    <tr>\n      <th>158928</th>\n      <td>2</td>\n      <td>1</td>\n      <td>Ht Pump</td>\n      <td>Y</td>\n      <td>NaN</td>\n      <td>5</td>\n      <td>2</td>\n      <td>2013.0</td>\n      <td>NaN</td>\n      <td>2013</td>\n      <td>...</td>\n      <td>-77.019274</td>\n      <td>Old City 2</td>\n      <td>040 G Old City 2</td>\n      <td>4801.0</td>\n      <td>NaN</td>\n      <td>Ward 6</td>\n      <td>475</td>\n      <td>-77.019277</td>\n      <td>38.914287</td>\n      <td>NW</td>\n    </tr>\n    <tr>\n      <th>158929</th>\n      <td>2</td>\n      <td>1</td>\n      <td>Ht Pump</td>\n      <td>Y</td>\n      <td>NaN</td>\n      <td>5</td>\n      <td>2</td>\n      <td>2013.0</td>\n      <td>NaN</td>\n      <td>2013</td>\n      <td>...</td>\n      <td>-77.019274</td>\n      <td>Old City 2</td>\n      <td>040 G Old City 2</td>\n      <td>4801.0</td>\n      <td>NaN</td>\n      <td>Ward 6</td>\n      <td>475</td>\n      <td>-77.019277</td>\n      <td>38.914287</td>\n      <td>NW</td>\n    </tr>\n    <tr>\n      <th>158930</th>\n      <td>2</td>\n      <td>0</td>\n      <td>Forced Air</td>\n      <td>N</td>\n      <td>NaN</td>\n      <td>4</td>\n      <td>2</td>\n      <td>1900.0</td>\n      <td>2003.0</td>\n      <td>1919</td>\n      <td>...</td>\n      <td>-77.019243</td>\n      <td>Old City 2</td>\n      <td>040 B Old City 2</td>\n      <td>4801.0</td>\n      <td>NaN</td>\n      <td>Ward 6</td>\n      <td>476</td>\n      <td>-77.019245</td>\n      <td>38.912954</td>\n      <td>NW</td>\n    </tr>\n    <tr>\n      <th>158931</th>\n      <td>2</td>\n      <td>1</td>\n      <td>Forced Air</td>\n      <td>N</td>\n      <td>NaN</td>\n      <td>4</td>\n      <td>2</td>\n      <td>1900.0</td>\n      <td>2003.0</td>\n      <td>1919</td>\n      <td>...</td>\n      <td>-77.019243</td>\n      <td>Old City 2</td>\n      <td>040 B Old City 2</td>\n      <td>4801.0</td>\n      <td>NaN</td>\n      <td>Ward 6</td>\n      <td>476</td>\n      <td>-77.019245</td>\n      <td>38.912954</td>\n      <td>NW</td>\n    </tr>\n    <tr>\n      <th>158932</th>\n      <td>2</td>\n      <td>1</td>\n      <td>Forced Air</td>\n      <td>N</td>\n      <td>NaN</td>\n      <td>4</td>\n      <td>2</td>\n      <td>1900.0</td>\n      <td>2003.0</td>\n      <td>1919</td>\n      <td>...</td>\n      <td>-77.019243</td>\n      <td>Old City 2</td>\n      <td>040 B Old City 2</td>\n      <td>4801.0</td>\n      <td>NaN</td>\n      <td>Ward 6</td>\n      <td>476</td>\n      <td>-77.019245</td>\n      <td>38.912954</td>\n      <td>NW</td>\n    </tr>\n    <tr>\n      <th>158933</th>\n      <td>2</td>\n      <td>0</td>\n      <td>Ht Pump</td>\n      <td>Y</td>\n      <td>NaN</td>\n      <td>4</td>\n      <td>2</td>\n      <td>1880.0</td>\n      <td>2016.0</td>\n      <td>1919</td>\n      <td>...</td>\n      <td>-77.019243</td>\n      <td>Old City 2</td>\n      <td>040 B Old City 2</td>\n      <td>4801.0</td>\n      <td>NaN</td>\n      <td>Ward 6</td>\n      <td>476</td>\n      <td>-77.019245</td>\n      <td>38.912954</td>\n      <td>NW</td>\n    </tr>\n    <tr>\n      <th>158934</th>\n      <td>1</td>\n      <td>1</td>\n      <td>Ht Pump</td>\n      <td>Y</td>\n      <td>NaN</td>\n      <td>3</td>\n      <td>1</td>\n      <td>1880.0</td>\n      <td>2016.0</td>\n      <td>1919</td>\n      <td>...</td>\n      <td>-77.019243</td>\n      <td>Old City 2</td>\n      <td>040 B Old City 2</td>\n      <td>4801.0</td>\n      <td>NaN</td>\n      <td>Ward 6</td>\n      <td>476</td>\n      <td>-77.019245</td>\n      <td>38.912954</td>\n      <td>NW</td>\n    </tr>\n    <tr>\n      <th>158935</th>\n      <td>1</td>\n      <td>0</td>\n      <td>Ht Pump</td>\n      <td>Y</td>\n      <td>NaN</td>\n      <td>3</td>\n      <td>1</td>\n      <td>1880.0</td>\n      <td>2016.0</td>\n      <td>1919</td>\n      <td>...</td>\n      <td>-77.019243</td>\n      <td>Old City 2</td>\n      <td>040 B Old City 2</td>\n      <td>4801.0</td>\n      <td>NaN</td>\n      <td>Ward 6</td>\n      <td>476</td>\n      <td>-77.019245</td>\n      <td>38.912954</td>\n      <td>NW</td>\n    </tr>\n    <tr>\n      <th>158936</th>\n      <td>1</td>\n      <td>0</td>\n      <td>Ht Pump</td>\n      <td>Y</td>\n      <td>NaN</td>\n      <td>3</td>\n      <td>1</td>\n      <td>1880.0</td>\n      <td>2016.0</td>\n      <td>1919</td>\n      <td>...</td>\n      <td>-77.019243</td>\n      <td>Old City 2</td>\n      <td>040 B Old City 2</td>\n      <td>4801.0</td>\n      <td>NaN</td>\n      <td>Ward 6</td>\n      <td>476</td>\n      <td>-77.019245</td>\n      <td>38.912954</td>\n      <td>NW</td>\n    </tr>\n    <tr>\n      <th>158937</th>\n      <td>1</td>\n      <td>0</td>\n      <td>Forced Air</td>\n      <td>Y</td>\n      <td>NaN</td>\n      <td>4</td>\n      <td>2</td>\n      <td>1992.0</td>\n      <td>1992.0</td>\n      <td>1992</td>\n      <td>...</td>\n      <td>-77.019420</td>\n      <td>Old City 2</td>\n      <td>040 B Old City 2</td>\n      <td>4801.0</td>\n      <td>NaN</td>\n      <td>Ward 6</td>\n      <td>477</td>\n      <td>-77.019422</td>\n      <td>38.911848</td>\n      <td>NW</td>\n    </tr>\n    <tr>\n      <th>158938</th>\n      <td>2</td>\n      <td>0</td>\n      <td>Warm Cool</td>\n      <td>Y</td>\n      <td>NaN</td>\n      <td>7</td>\n      <td>4</td>\n      <td>1992.0</td>\n      <td>1992.0</td>\n      <td>1992</td>\n      <td>...</td>\n      <td>-77.019420</td>\n      <td>Old City 2</td>\n      <td>040 B Old City 2</td>\n      <td>4801.0</td>\n      <td>NaN</td>\n      <td>Ward 6</td>\n      <td>477</td>\n      <td>-77.019422</td>\n      <td>38.911848</td>\n      <td>NW</td>\n    </tr>\n    <tr>\n      <th>158939</th>\n      <td>1</td>\n      <td>0</td>\n      <td>Forced Air</td>\n      <td>Y</td>\n      <td>NaN</td>\n      <td>4</td>\n      <td>2</td>\n      <td>1992.0</td>\n      <td>1992.0</td>\n      <td>1992</td>\n      <td>...</td>\n      <td>-77.019420</td>\n      <td>Old City 2</td>\n      <td>040 B Old City 2</td>\n      <td>4801.0</td>\n      <td>NaN</td>\n      <td>Ward 6</td>\n      <td>477</td>\n      <td>-77.019422</td>\n      <td>38.911848</td>\n      <td>NW</td>\n    </tr>\n    <tr>\n      <th>158940</th>\n      <td>2</td>\n      <td>0</td>\n      <td>Forced Air</td>\n      <td>Y</td>\n      <td>NaN</td>\n      <td>7</td>\n      <td>4</td>\n      <td>1992.0</td>\n      <td>1992.0</td>\n      <td>1992</td>\n      <td>...</td>\n      <td>-77.019420</td>\n      <td>Old City 2</td>\n      <td>040 B Old City 2</td>\n      <td>4801.0</td>\n      <td>NaN</td>\n      <td>Ward 6</td>\n      <td>477</td>\n      <td>-77.019422</td>\n      <td>38.911848</td>\n      <td>NW</td>\n    </tr>\n    <tr>\n      <th>158941</th>\n      <td>1</td>\n      <td>0</td>\n      <td>Forced Air</td>\n      <td>Y</td>\n      <td>NaN</td>\n      <td>4</td>\n      <td>2</td>\n      <td>1992.0</td>\n      <td>1992.0</td>\n      <td>1992</td>\n      <td>...</td>\n      <td>-77.019420</td>\n      <td>Old City 2</td>\n      <td>040 B Old City 2</td>\n      <td>4801.0</td>\n      <td>NaN</td>\n      <td>Ward 6</td>\n      <td>477</td>\n      <td>-77.019422</td>\n      <td>38.911848</td>\n      <td>NW</td>\n    </tr>\n    <tr>\n      <th>158942</th>\n      <td>2</td>\n      <td>0</td>\n      <td>Forced Air</td>\n      <td>Y</td>\n      <td>NaN</td>\n      <td>7</td>\n      <td>4</td>\n      <td>1992.0</td>\n      <td>1992.0</td>\n      <td>1992</td>\n      <td>...</td>\n      <td>-77.019420</td>\n      <td>Old City 2</td>\n      <td>040 B Old City 2</td>\n      <td>4801.0</td>\n      <td>NaN</td>\n      <td>Ward 6</td>\n      <td>477</td>\n      <td>-77.019422</td>\n      <td>38.911848</td>\n      <td>NW</td>\n    </tr>\n    <tr>\n      <th>158943</th>\n      <td>2</td>\n      <td>1</td>\n      <td>Forced Air</td>\n      <td>Y</td>\n      <td>NaN</td>\n      <td>5</td>\n      <td>2</td>\n      <td>2004.0</td>\n      <td>2004.0</td>\n      <td>2004</td>\n      <td>...</td>\n      <td>-77.019420</td>\n      <td>Old City 2</td>\n      <td>040 B Old City 2</td>\n      <td>4801.0</td>\n      <td>NaN</td>\n      <td>Ward 6</td>\n      <td>477</td>\n      <td>-77.019422</td>\n      <td>38.911848</td>\n      <td>NW</td>\n    </tr>\n    <tr>\n      <th>158944</th>\n      <td>2</td>\n      <td>1</td>\n      <td>Forced Air</td>\n      <td>Y</td>\n      <td>NaN</td>\n      <td>5</td>\n      <td>2</td>\n      <td>2004.0</td>\n      <td>2004.0</td>\n      <td>2004</td>\n      <td>...</td>\n      <td>-77.019420</td>\n      <td>Old City 2</td>\n      <td>040 B Old City 2</td>\n      <td>4801.0</td>\n      <td>NaN</td>\n      <td>Ward 6</td>\n      <td>477</td>\n      <td>-77.019422</td>\n      <td>38.911848</td>\n      <td>NW</td>\n    </tr>\n    <tr>\n      <th>158945</th>\n      <td>1</td>\n      <td>0</td>\n      <td>Forced Air</td>\n      <td>Y</td>\n      <td>NaN</td>\n      <td>3</td>\n      <td>1</td>\n      <td>1938.0</td>\n      <td>2006.0</td>\n      <td>1938</td>\n      <td>...</td>\n      <td>-77.019420</td>\n      <td>Old City 2</td>\n      <td>040 B Old City 2</td>\n      <td>4801.0</td>\n      <td>NaN</td>\n      <td>Ward 6</td>\n      <td>477</td>\n      <td>-77.019422</td>\n      <td>38.911848</td>\n      <td>NW</td>\n    </tr>\n    <tr>\n      <th>158946</th>\n      <td>1</td>\n      <td>0</td>\n      <td>Forced Air</td>\n      <td>Y</td>\n      <td>NaN</td>\n      <td>4</td>\n      <td>2</td>\n      <td>1938.0</td>\n      <td>2006.0</td>\n      <td>1938</td>\n      <td>...</td>\n      <td>-77.019420</td>\n      <td>Old City 2</td>\n      <td>040 B Old City 2</td>\n      <td>4801.0</td>\n      <td>NaN</td>\n      <td>Ward 6</td>\n      <td>477</td>\n      <td>-77.019422</td>\n      <td>38.911848</td>\n      <td>NW</td>\n    </tr>\n    <tr>\n      <th>158947</th>\n      <td>2</td>\n      <td>0</td>\n      <td>Forced Air</td>\n      <td>Y</td>\n      <td>NaN</td>\n      <td>4</td>\n      <td>2</td>\n      <td>1938.0</td>\n      <td>2006.0</td>\n      <td>1938</td>\n      <td>...</td>\n      <td>-77.019420</td>\n      <td>Old City 2</td>\n      <td>040 B Old City 2</td>\n      <td>4801.0</td>\n      <td>NaN</td>\n      <td>Ward 6</td>\n      <td>477</td>\n      <td>-77.019422</td>\n      <td>38.911848</td>\n      <td>NW</td>\n    </tr>\n    <tr>\n      <th>158948</th>\n      <td>2</td>\n      <td>0</td>\n      <td>Forced Air</td>\n      <td>Y</td>\n      <td>NaN</td>\n      <td>4</td>\n      <td>2</td>\n      <td>1938.0</td>\n      <td>2006.0</td>\n      <td>1938</td>\n      <td>...</td>\n      <td>-77.019420</td>\n      <td>Old City 2</td>\n      <td>040 B Old City 2</td>\n      <td>4801.0</td>\n      <td>NaN</td>\n      <td>Ward 6</td>\n      <td>477</td>\n      <td>-77.019422</td>\n      <td>38.911848</td>\n      <td>NW</td>\n    </tr>\n    <tr>\n      <th>158949</th>\n      <td>1</td>\n      <td>1</td>\n      <td>Forced Air</td>\n      <td>Y</td>\n      <td>NaN</td>\n      <td>4</td>\n      <td>1</td>\n      <td>1938.0</td>\n      <td>2006.0</td>\n      <td>1938</td>\n      <td>...</td>\n      <td>-77.019420</td>\n      <td>Old City 2</td>\n      <td>040 B Old City 2</td>\n      <td>4801.0</td>\n      <td>NaN</td>\n      <td>Ward 6</td>\n      <td>477</td>\n      <td>-77.019422</td>\n      <td>38.911848</td>\n      <td>NW</td>\n    </tr>\n    <tr>\n      <th>158950</th>\n      <td>3</td>\n      <td>0</td>\n      <td>Forced Air</td>\n      <td>Y</td>\n      <td>NaN</td>\n      <td>5</td>\n      <td>3</td>\n      <td>1938.0</td>\n      <td>2006.0</td>\n      <td>1938</td>\n      <td>...</td>\n      <td>-77.019420</td>\n      <td>Old City 2</td>\n      <td>040 B Old City 2</td>\n      <td>4801.0</td>\n      <td>NaN</td>\n      <td>Ward 6</td>\n      <td>477</td>\n      <td>-77.019422</td>\n      <td>38.911848</td>\n      <td>NW</td>\n    </tr>\n    <tr>\n      <th>158951</th>\n      <td>3</td>\n      <td>1</td>\n      <td>Forced Air</td>\n      <td>Y</td>\n      <td>NaN</td>\n      <td>5</td>\n      <td>3</td>\n      <td>1938.0</td>\n      <td>2006.0</td>\n      <td>1938</td>\n      <td>...</td>\n      <td>-77.019420</td>\n      <td>Old City 2</td>\n      <td>040 B Old City 2</td>\n      <td>4801.0</td>\n      <td>NaN</td>\n      <td>Ward 6</td>\n      <td>477</td>\n      <td>-77.019422</td>\n      <td>38.911848</td>\n      <td>NW</td>\n    </tr>\n    <tr>\n      <th>158952</th>\n      <td>1</td>\n      <td>0</td>\n      <td>Forced Air</td>\n      <td>Y</td>\n      <td>NaN</td>\n      <td>3</td>\n      <td>1</td>\n      <td>1938.0</td>\n      <td>2006.0</td>\n      <td>1938</td>\n      <td>...</td>\n      <td>-77.019420</td>\n      <td>Old City 2</td>\n      <td>040 B Old City 2</td>\n      <td>4801.0</td>\n      <td>NaN</td>\n      <td>Ward 6</td>\n      <td>477</td>\n      <td>-77.019422</td>\n      <td>38.911848</td>\n      <td>NW</td>\n    </tr>\n    <tr>\n      <th>158953</th>\n      <td>1</td>\n      <td>0</td>\n      <td>Forced Air</td>\n      <td>Y</td>\n      <td>NaN</td>\n      <td>4</td>\n      <td>2</td>\n      <td>1938.0</td>\n      <td>2006.0</td>\n      <td>1938</td>\n      <td>...</td>\n      <td>-77.019420</td>\n      <td>Old City 2</td>\n      <td>040 B Old City 2</td>\n      <td>4801.0</td>\n      <td>NaN</td>\n      <td>Ward 6</td>\n      <td>477</td>\n      <td>-77.019422</td>\n      <td>38.911848</td>\n      <td>NW</td>\n    </tr>\n    <tr>\n      <th>158954</th>\n      <td>2</td>\n      <td>0</td>\n      <td>Forced Air</td>\n      <td>Y</td>\n      <td>NaN</td>\n      <td>4</td>\n      <td>2</td>\n      <td>1920.0</td>\n      <td>2007.0</td>\n      <td>1920</td>\n      <td>...</td>\n      <td>-77.019420</td>\n      <td>Old City 2</td>\n      <td>040 B Old City 2</td>\n      <td>4801.0</td>\n      <td>NaN</td>\n      <td>Ward 6</td>\n      <td>477</td>\n      <td>-77.019422</td>\n      <td>38.911848</td>\n      <td>NW</td>\n    </tr>\n    <tr>\n      <th>158955</th>\n      <td>1</td>\n      <td>0</td>\n      <td>Warm Cool</td>\n      <td>Y</td>\n      <td>NaN</td>\n      <td>2</td>\n      <td>0</td>\n      <td>1965.0</td>\n      <td>NaN</td>\n      <td>1965</td>\n      <td>...</td>\n      <td>-77.018230</td>\n      <td>Southwest Waterfront</td>\n      <td>NaN</td>\n      <td>11000.0</td>\n      <td>NaN</td>\n      <td>Ward 6</td>\n      <td>504</td>\n      <td>-77.018232</td>\n      <td>38.872961</td>\n      <td>SW</td>\n    </tr>\n    <tr>\n      <th>158956</th>\n      <td>1</td>\n      <td>0</td>\n      <td>Warm Cool</td>\n      <td>Y</td>\n      <td>NaN</td>\n      <td>2</td>\n      <td>0</td>\n      <td>1965.0</td>\n      <td>NaN</td>\n      <td>1965</td>\n      <td>...</td>\n      <td>-77.018230</td>\n      <td>Southwest Waterfront</td>\n      <td>NaN</td>\n      <td>11000.0</td>\n      <td>NaN</td>\n      <td>Ward 6</td>\n      <td>504</td>\n      <td>-77.018232</td>\n      <td>38.872961</td>\n      <td>SW</td>\n    </tr>\n  </tbody>\n</table>\n<p>52906 rows × 48 columns</p>\n</div>",
            "text/plain": "        BATHRM  HF_BATHRM           HEAT AC  NUM_UNITS  ROOMS  BEDRM     AYB  \\\n1426         2          1     Forced Air  Y        1.0      6      4  1894.0   \n1449         4          2     Forced Air  Y        2.0     10      4  2009.0   \n1492         2          1     Forced Air  Y        1.0      4      2  1900.0   \n2108         3          0      Warm Cool  Y        2.0      6      4  1890.0   \n2109         3          1      Warm Cool  Y        2.0      8      4  1990.0   \n2758         2          1  Hot Water Rad  N        2.0      8      3  1892.0   \n3727         4          0  Hot Water Rad  N        4.0     16      7  1906.0   \n3816         2          1     Forced Air  Y        1.0      6      2  1890.0   \n3817         1          1  Hot Water Rad  Y        1.0      6      2  1890.0   \n3862         3          1     Forced Air  Y        1.0      6      4  1900.0   \n4034         3          0  Hot Water Rad  N        2.0     16      5     NaN   \n4368         4          0        Ht Pump  Y        4.0      9      4  1900.0   \n4798         2          0     Forced Air  Y        1.0      5      2  1880.0   \n5341         2          1     Forced Air  Y        1.0      7      3  1890.0   \n5802         4          0      Warm Cool  Y        4.0     12      4  1926.0   \n6980         3          1     Forced Air  Y        2.0      6      5  1880.0   \n7761         1          0     Forced Air  Y        1.0      4      2  1880.0   \n9243         5          1     Forced Air  Y        1.0     12      5  2007.0   \n9244         5          1      Warm Cool  Y        1.0     12      6  2007.0   \n9245         5          1     Forced Air  Y        1.0     12      3  2007.0   \n9563         2          1  Hot Water Rad  Y        1.0      6      3  1925.0   \n11092        5          1        Ht Pump  Y        2.0      9      5  1920.0   \n11213        2          1  Hot Water Rad  Y        1.0      7      3  1908.0   \n11298        4          1     Forced Air  Y        1.0      8      3  1900.0   \n11664        3          2     Forced Air  Y        2.0     11      3  1900.0   \n12731        1          1  Hot Water Rad  Y        1.0      5      2  1900.0   \n13282        2          1     Forced Air  Y        1.0      6      2  1900.0   \n13933        1          0  Hot Water Rad  Y        1.0      6      3  1900.0   \n14876        2          0      Warm Cool  Y        1.0     11      8  1908.0   \n15971        4          0     Forced Air  Y        4.0     12      4  1927.0   \n...        ...        ...            ... ..        ...    ...    ...     ...   \n158927       2          0        Ht Pump  Y        NaN      6      3  1993.0   \n158928       2          1        Ht Pump  Y        NaN      5      2  2013.0   \n158929       2          1        Ht Pump  Y        NaN      5      2  2013.0   \n158930       2          0     Forced Air  N        NaN      4      2  1900.0   \n158931       2          1     Forced Air  N        NaN      4      2  1900.0   \n158932       2          1     Forced Air  N        NaN      4      2  1900.0   \n158933       2          0        Ht Pump  Y        NaN      4      2  1880.0   \n158934       1          1        Ht Pump  Y        NaN      3      1  1880.0   \n158935       1          0        Ht Pump  Y        NaN      3      1  1880.0   \n158936       1          0        Ht Pump  Y        NaN      3      1  1880.0   \n158937       1          0     Forced Air  Y        NaN      4      2  1992.0   \n158938       2          0      Warm Cool  Y        NaN      7      4  1992.0   \n158939       1          0     Forced Air  Y        NaN      4      2  1992.0   \n158940       2          0     Forced Air  Y        NaN      7      4  1992.0   \n158941       1          0     Forced Air  Y        NaN      4      2  1992.0   \n158942       2          0     Forced Air  Y        NaN      7      4  1992.0   \n158943       2          1     Forced Air  Y        NaN      5      2  2004.0   \n158944       2          1     Forced Air  Y        NaN      5      2  2004.0   \n158945       1          0     Forced Air  Y        NaN      3      1  1938.0   \n158946       1          0     Forced Air  Y        NaN      4      2  1938.0   \n158947       2          0     Forced Air  Y        NaN      4      2  1938.0   \n158948       2          0     Forced Air  Y        NaN      4      2  1938.0   \n158949       1          1     Forced Air  Y        NaN      4      1  1938.0   \n158950       3          0     Forced Air  Y        NaN      5      3  1938.0   \n158951       3          1     Forced Air  Y        NaN      5      3  1938.0   \n158952       1          0     Forced Air  Y        NaN      3      1  1938.0   \n158953       1          0     Forced Air  Y        NaN      4      2  1938.0   \n158954       2          0     Forced Air  Y        NaN      4      2  1920.0   \n158955       1          0      Warm Cool  Y        NaN      2      0  1965.0   \n158956       1          0      Warm Cool  Y        NaN      2      0  1965.0   \n\n        YR_RMDL   EYB   ...     LONGITUDE       ASSESSMENT_NBHD  \\\n1426     2013.0  1967   ...    -77.018312            Old City 2   \n1449        NaN  2012   ...    -77.019420            Old City 2   \n1492     2013.0  1964   ...    -77.028685            Old City 2   \n2108     2007.0  1972   ...    -77.043813            Old City 2   \n2109        NaN  1998   ...    -77.043813            Old City 2   \n2758     1986.0  1960   ...    -77.039134            Old City 2   \n3727     1995.0  1957   ...    -77.010325            Old City 2   \n3816     2002.0  1960   ...    -77.002646            Old City 1   \n3817        NaN  1969   ...    -77.002646            Old City 1   \n3862     2017.0  1969   ...    -77.002646            Old City 1   \n4034        NaN  1969   ...    -77.030598            Old City 2   \n4368        NaN  1969   ...    -77.027486            Old City 2   \n4798     1979.0  1954   ...    -77.026365            Old City 2   \n5341     2012.0  1980   ...    -77.002375            Old City 1   \n5802     1989.0  1957   ...    -77.001086            Old City 1   \n6980     2017.0  1978   ...    -77.001013          Capitol Hill   \n7761        NaN  1954   ...    -77.002652          Capitol Hill   \n9243        NaN  2015   ...    -76.997923            Old City 1   \n9244        NaN  2015   ...    -76.997923            Old City 1   \n9245        NaN  2015   ...    -76.997923            Old City 1   \n9563     2009.0  1967   ...    -76.992196            Old City 1   \n11092    2013.0  1969   ...    -76.997519            Old City 1   \n11213    1995.0  1967   ...    -76.999045            Old City 1   \n11298    2014.0  1980   ...    -76.995699            Old City 1   \n11664    2014.0  1982   ...    -76.990987            Old City 1   \n12731    2012.0  1964   ...    -76.995594          Capitol Hill   \n13282    2014.0  1964   ...    -76.990848            Old City 1   \n13933    2006.0  1975   ...    -76.992050          Capitol Hill   \n14876    1986.0  1963   ...    -76.989647            Old City 1   \n15971       NaN  1954   ...    -76.982918            Old City 1   \n...         ...   ...   ...           ...                   ...   \n158927   1993.0  1993   ...    -77.019274            Old City 2   \n158928      NaN  2013   ...    -77.019274            Old City 2   \n158929      NaN  2013   ...    -77.019274            Old City 2   \n158930   2003.0  1919   ...    -77.019243            Old City 2   \n158931   2003.0  1919   ...    -77.019243            Old City 2   \n158932   2003.0  1919   ...    -77.019243            Old City 2   \n158933   2016.0  1919   ...    -77.019243            Old City 2   \n158934   2016.0  1919   ...    -77.019243            Old City 2   \n158935   2016.0  1919   ...    -77.019243            Old City 2   \n158936   2016.0  1919   ...    -77.019243            Old City 2   \n158937   1992.0  1992   ...    -77.019420            Old City 2   \n158938   1992.0  1992   ...    -77.019420            Old City 2   \n158939   1992.0  1992   ...    -77.019420            Old City 2   \n158940   1992.0  1992   ...    -77.019420            Old City 2   \n158941   1992.0  1992   ...    -77.019420            Old City 2   \n158942   1992.0  1992   ...    -77.019420            Old City 2   \n158943   2004.0  2004   ...    -77.019420            Old City 2   \n158944   2004.0  2004   ...    -77.019420            Old City 2   \n158945   2006.0  1938   ...    -77.019420            Old City 2   \n158946   2006.0  1938   ...    -77.019420            Old City 2   \n158947   2006.0  1938   ...    -77.019420            Old City 2   \n158948   2006.0  1938   ...    -77.019420            Old City 2   \n158949   2006.0  1938   ...    -77.019420            Old City 2   \n158950   2006.0  1938   ...    -77.019420            Old City 2   \n158951   2006.0  1938   ...    -77.019420            Old City 2   \n158952   2006.0  1938   ...    -77.019420            Old City 2   \n158953   2006.0  1938   ...    -77.019420            Old City 2   \n158954   2007.0  1920   ...    -77.019420            Old City 2   \n158955      NaN  1965   ...    -77.018230  Southwest Waterfront   \n158956      NaN  1965   ...    -77.018230  Southwest Waterfront   \n\n        ASSESSMENT_SUBNBHD CENSUS_TRACT  CENSUS_BLOCK    WARD  SQUARE  \\\n1426      040 B Old City 2       4802.0           NaN  Ward 6     514   \n1449      040 B Old City 2       4801.0           NaN  Ward 6     477   \n1492      040 C Old City 2       5002.0           NaN  Ward 2     279   \n2108      040 D Old City 2       4202.0           NaN  Ward 2     111   \n2109      040 D Old City 2       4202.0           NaN  Ward 2     111   \n2758      040 D Old City 2       5301.0           NaN  Ward 2     154   \n3727      040 A Old City 2       4600.0           NaN  Ward 5     617   \n3816      039 J Old City 1       8301.0           NaN  Ward 6     752   \n3817      039 J Old City 1       8301.0           NaN  Ward 6     752   \n3862      039 J Old City 1       8301.0           NaN  Ward 6     752   \n4034      040 E Old City 2       5001.0           NaN  Ward 2     240   \n4368      040 C Old City 2       5002.0           NaN  Ward 2     314   \n4798      040 E Old City 2       4400.0           NaN  Ward 1     334   \n5341      039 K Old City 1       8301.0           NaN  Ward 6     755   \n5802      039 J Old City 1       8301.0           NaN  Ward 6     778   \n6980    009 A Capitol Hill       6500.0           NaN  Ward 6     793   \n7761    009 A Capitol Hill       6500.0           NaN  Ward 6     762   \n9243      039 K Old City 1       8302.0           NaN  Ward 6     863   \n9244      039 K Old City 1       8302.0           NaN  Ward 6     863   \n9245      039 K Old City 1       8302.0           NaN  Ward 6     863   \n9563      039 J Old City 1       8402.0           NaN  Ward 6     959   \n11092     039 J Old City 1       8302.0           NaN  Ward 6     859   \n11213     039 K Old City 1       8301.0           NaN  Ward 6     836   \n11298     039 K Old City 1       8302.0           NaN  Ward 6     894   \n11664     039 J Old City 1       8402.0           NaN  Ward 6     982   \n12731   009 B Capitol Hill       6600.0           NaN  Ward 6     898   \n13282     039 K Old City 1       8100.0           NaN  Ward 6     986   \n13933   009 A Capitol Hill       7000.0           NaN  Ward 6     973   \n14876     039 K Old City 1       8002.0           NaN  Ward 6    1011   \n15971     039 A Old City 1       6801.0           NaN  Ward 6    1072   \n...                    ...          ...           ...     ...     ...   \n158927    040 G Old City 2       4801.0           NaN  Ward 6     475   \n158928    040 G Old City 2       4801.0           NaN  Ward 6     475   \n158929    040 G Old City 2       4801.0           NaN  Ward 6     475   \n158930    040 B Old City 2       4801.0           NaN  Ward 6     476   \n158931    040 B Old City 2       4801.0           NaN  Ward 6     476   \n158932    040 B Old City 2       4801.0           NaN  Ward 6     476   \n158933    040 B Old City 2       4801.0           NaN  Ward 6     476   \n158934    040 B Old City 2       4801.0           NaN  Ward 6     476   \n158935    040 B Old City 2       4801.0           NaN  Ward 6     476   \n158936    040 B Old City 2       4801.0           NaN  Ward 6     476   \n158937    040 B Old City 2       4801.0           NaN  Ward 6     477   \n158938    040 B Old City 2       4801.0           NaN  Ward 6     477   \n158939    040 B Old City 2       4801.0           NaN  Ward 6     477   \n158940    040 B Old City 2       4801.0           NaN  Ward 6     477   \n158941    040 B Old City 2       4801.0           NaN  Ward 6     477   \n158942    040 B Old City 2       4801.0           NaN  Ward 6     477   \n158943    040 B Old City 2       4801.0           NaN  Ward 6     477   \n158944    040 B Old City 2       4801.0           NaN  Ward 6     477   \n158945    040 B Old City 2       4801.0           NaN  Ward 6     477   \n158946    040 B Old City 2       4801.0           NaN  Ward 6     477   \n158947    040 B Old City 2       4801.0           NaN  Ward 6     477   \n158948    040 B Old City 2       4801.0           NaN  Ward 6     477   \n158949    040 B Old City 2       4801.0           NaN  Ward 6     477   \n158950    040 B Old City 2       4801.0           NaN  Ward 6     477   \n158951    040 B Old City 2       4801.0           NaN  Ward 6     477   \n158952    040 B Old City 2       4801.0           NaN  Ward 6     477   \n158953    040 B Old City 2       4801.0           NaN  Ward 6     477   \n158954    040 B Old City 2       4801.0           NaN  Ward 6     477   \n158955                 NaN      11000.0           NaN  Ward 6     504   \n158956                 NaN      11000.0           NaN  Ward 6     504   \n\n                X          Y QUADRANT  \n1426   -77.018315  38.905417       NW  \n1449   -77.019422  38.911848       NW  \n1492   -77.028687  38.908979       NW  \n2108   -77.043815  38.911970       NW  \n2109   -77.043815  38.911970       NW  \n2758   -77.039137  38.913226       NW  \n3727   -77.010328  38.908045       NW  \n3816   -77.002648  38.899249       NE  \n3817   -77.002648  38.899249       NE  \n3862   -77.002648  38.899249       NE  \n4034   -77.030601  38.911885       NW  \n4368   -77.027488  38.906313       NW  \n4798   -77.026368  38.914806       NW  \n5341   -77.002378  38.895731       NE  \n5802   -77.001088  38.898054       NE  \n6980   -77.001016  38.883934       SE  \n7761   -77.002654  38.886876       SE  \n9243   -76.997925  38.894548       NE  \n9244   -76.997925  38.894548       NE  \n9245   -76.997925  38.894548       NE  \n9563   -76.992199  38.899491       NE  \n11092  -76.997522  38.899145       NE  \n11213  -76.999047  38.895511       NE  \n11298  -76.995701  38.894320       NE  \n11664  -76.990989  38.899358       NE  \n12731  -76.995596  38.889161       SE  \n13282  -76.990850  38.894136       NE  \n13933  -76.992052  38.881970       SE  \n14876  -76.989650  38.891377       NE  \n15971  -76.982921  38.887773       SE  \n...           ...        ...      ...  \n158927 -77.019277  38.914287       NW  \n158928 -77.019277  38.914287       NW  \n158929 -77.019277  38.914287       NW  \n158930 -77.019245  38.912954       NW  \n158931 -77.019245  38.912954       NW  \n158932 -77.019245  38.912954       NW  \n158933 -77.019245  38.912954       NW  \n158934 -77.019245  38.912954       NW  \n158935 -77.019245  38.912954       NW  \n158936 -77.019245  38.912954       NW  \n158937 -77.019422  38.911848       NW  \n158938 -77.019422  38.911848       NW  \n158939 -77.019422  38.911848       NW  \n158940 -77.019422  38.911848       NW  \n158941 -77.019422  38.911848       NW  \n158942 -77.019422  38.911848       NW  \n158943 -77.019422  38.911848       NW  \n158944 -77.019422  38.911848       NW  \n158945 -77.019422  38.911848       NW  \n158946 -77.019422  38.911848       NW  \n158947 -77.019422  38.911848       NW  \n158948 -77.019422  38.911848       NW  \n158949 -77.019422  38.911848       NW  \n158950 -77.019422  38.911848       NW  \n158951 -77.019422  38.911848       NW  \n158952 -77.019422  38.911848       NW  \n158953 -77.019422  38.911848       NW  \n158954 -77.019422  38.911848       NW  \n158955 -77.018232  38.872961       SW  \n158956 -77.018232  38.872961       SW  \n\n[52906 rows x 48 columns]"
          },
          "metadata": {}
        }
      ]
    },
    {
      "metadata": {
        "trusted": true
      },
      "cell_type": "code",
      "source": "missing = dcdf['QUADRANT'].isnull()\ndcdf.loc[missing]",
      "execution_count": 121,
      "outputs": [
        {
          "output_type": "execute_result",
          "execution_count": 121,
          "data": {
            "text/html": "<div>\n<style scoped>\n    .dataframe tbody tr th:only-of-type {\n        vertical-align: middle;\n    }\n\n    .dataframe tbody tr th {\n        vertical-align: top;\n    }\n\n    .dataframe thead th {\n        text-align: right;\n    }\n</style>\n<table border=\"1\" class=\"dataframe\">\n  <thead>\n    <tr style=\"text-align: right;\">\n      <th></th>\n      <th>BATHRM</th>\n      <th>HF_BATHRM</th>\n      <th>HEAT</th>\n      <th>AC</th>\n      <th>NUM_UNITS</th>\n      <th>ROOMS</th>\n      <th>BEDRM</th>\n      <th>AYB</th>\n      <th>YR_RMDL</th>\n      <th>EYB</th>\n      <th>...</th>\n      <th>LONGITUDE</th>\n      <th>ASSESSMENT_NBHD</th>\n      <th>ASSESSMENT_SUBNBHD</th>\n      <th>CENSUS_TRACT</th>\n      <th>CENSUS_BLOCK</th>\n      <th>WARD</th>\n      <th>SQUARE</th>\n      <th>X</th>\n      <th>Y</th>\n      <th>QUADRANT</th>\n    </tr>\n  </thead>\n  <tbody>\n    <tr>\n      <th>104586</th>\n      <td>5</td>\n      <td>1</td>\n      <td>Warm Cool</td>\n      <td>Y</td>\n      <td>1.0</td>\n      <td>13</td>\n      <td>5</td>\n      <td>1930.0</td>\n      <td>1992.0</td>\n      <td>1969</td>\n      <td>...</td>\n      <td>-77.040890</td>\n      <td>Colonial Village</td>\n      <td>NaN</td>\n      <td>1600.0</td>\n      <td>001600 4011</td>\n      <td>Ward 4</td>\n      <td>PAR</td>\n      <td>NaN</td>\n      <td>NaN</td>\n      <td>NaN</td>\n    </tr>\n    <tr>\n      <th>104587</th>\n      <td>3</td>\n      <td>1</td>\n      <td>Forced Air</td>\n      <td>Y</td>\n      <td>1.0</td>\n      <td>7</td>\n      <td>3</td>\n      <td>1952.0</td>\n      <td>2000.0</td>\n      <td>1975</td>\n      <td>...</td>\n      <td>-77.046761</td>\n      <td>Colonial Village</td>\n      <td>NaN</td>\n      <td>1600.0</td>\n      <td>001600 4025</td>\n      <td>Ward 4</td>\n      <td>PAR</td>\n      <td>NaN</td>\n      <td>NaN</td>\n      <td>NaN</td>\n    </tr>\n    <tr>\n      <th>104588</th>\n      <td>4</td>\n      <td>0</td>\n      <td>Hot Water Rad</td>\n      <td>N</td>\n      <td>1.0</td>\n      <td>10</td>\n      <td>4</td>\n      <td>1953.0</td>\n      <td>NaN</td>\n      <td>1956</td>\n      <td>...</td>\n      <td>-77.047045</td>\n      <td>Colonial Village</td>\n      <td>NaN</td>\n      <td>1600.0</td>\n      <td>001600 4025</td>\n      <td>Ward 4</td>\n      <td>PAR</td>\n      <td>NaN</td>\n      <td>NaN</td>\n      <td>NaN</td>\n    </tr>\n    <tr>\n      <th>104589</th>\n      <td>3</td>\n      <td>0</td>\n      <td>Forced Air</td>\n      <td>Y</td>\n      <td>1.0</td>\n      <td>11</td>\n      <td>4</td>\n      <td>1958.0</td>\n      <td>2018.0</td>\n      <td>1991</td>\n      <td>...</td>\n      <td>-77.046676</td>\n      <td>Colonial Village</td>\n      <td>NaN</td>\n      <td>1600.0</td>\n      <td>001600 4025</td>\n      <td>Ward 4</td>\n      <td>PAR</td>\n      <td>NaN</td>\n      <td>NaN</td>\n      <td>NaN</td>\n    </tr>\n    <tr>\n      <th>104590</th>\n      <td>3</td>\n      <td>2</td>\n      <td>Warm Cool</td>\n      <td>Y</td>\n      <td>1.0</td>\n      <td>16</td>\n      <td>4</td>\n      <td>1957.0</td>\n      <td>2015.0</td>\n      <td>1978</td>\n      <td>...</td>\n      <td>-77.036999</td>\n      <td>Colonial Village</td>\n      <td>NaN</td>\n      <td>1600.0</td>\n      <td>001600 4000</td>\n      <td>Ward 4</td>\n      <td>PAR</td>\n      <td>NaN</td>\n      <td>NaN</td>\n      <td>NaN</td>\n    </tr>\n    <tr>\n      <th>104591</th>\n      <td>3</td>\n      <td>2</td>\n      <td>Warm Cool</td>\n      <td>Y</td>\n      <td>1.0</td>\n      <td>12</td>\n      <td>3</td>\n      <td>1957.0</td>\n      <td>NaN</td>\n      <td>1960</td>\n      <td>...</td>\n      <td>-77.036705</td>\n      <td>Colonial Village</td>\n      <td>NaN</td>\n      <td>1600.0</td>\n      <td>001600 4000</td>\n      <td>Ward 4</td>\n      <td>PAR</td>\n      <td>NaN</td>\n      <td>NaN</td>\n      <td>NaN</td>\n    </tr>\n    <tr>\n      <th>104592</th>\n      <td>4</td>\n      <td>1</td>\n      <td>Warm Cool</td>\n      <td>Y</td>\n      <td>1.0</td>\n      <td>10</td>\n      <td>5</td>\n      <td>1957.0</td>\n      <td>NaN</td>\n      <td>1960</td>\n      <td>...</td>\n      <td>-77.041228</td>\n      <td>Colonial Village</td>\n      <td>NaN</td>\n      <td>1600.0</td>\n      <td>001600 4008</td>\n      <td>Ward 4</td>\n      <td>PAR</td>\n      <td>NaN</td>\n      <td>NaN</td>\n      <td>NaN</td>\n    </tr>\n    <tr>\n      <th>104593</th>\n      <td>3</td>\n      <td>1</td>\n      <td>Hot Water Rad</td>\n      <td>N</td>\n      <td>1.0</td>\n      <td>9</td>\n      <td>3</td>\n      <td>1956.0</td>\n      <td>NaN</td>\n      <td>1968</td>\n      <td>...</td>\n      <td>-77.040816</td>\n      <td>Colonial Village</td>\n      <td>NaN</td>\n      <td>1600.0</td>\n      <td>001600 4008</td>\n      <td>Ward 4</td>\n      <td>PAR</td>\n      <td>NaN</td>\n      <td>NaN</td>\n      <td>NaN</td>\n    </tr>\n    <tr>\n      <th>104594</th>\n      <td>3</td>\n      <td>0</td>\n      <td>Warm Cool</td>\n      <td>Y</td>\n      <td>1.0</td>\n      <td>7</td>\n      <td>3</td>\n      <td>1960.0</td>\n      <td>2000.0</td>\n      <td>1978</td>\n      <td>...</td>\n      <td>-77.040934</td>\n      <td>Colonial Village</td>\n      <td>NaN</td>\n      <td>1600.0</td>\n      <td>001600 4008</td>\n      <td>Ward 4</td>\n      <td>PAR</td>\n      <td>NaN</td>\n      <td>NaN</td>\n      <td>NaN</td>\n    </tr>\n    <tr>\n      <th>104595</th>\n      <td>3</td>\n      <td>0</td>\n      <td>Warm Cool</td>\n      <td>Y</td>\n      <td>1.0</td>\n      <td>9</td>\n      <td>3</td>\n      <td>1955.0</td>\n      <td>NaN</td>\n      <td>1961</td>\n      <td>...</td>\n      <td>-77.041718</td>\n      <td>Colonial Village</td>\n      <td>NaN</td>\n      <td>1600.0</td>\n      <td>001600 4008</td>\n      <td>Ward 4</td>\n      <td>PAR</td>\n      <td>NaN</td>\n      <td>NaN</td>\n      <td>NaN</td>\n    </tr>\n    <tr>\n      <th>104596</th>\n      <td>5</td>\n      <td>1</td>\n      <td>Warm Cool</td>\n      <td>Y</td>\n      <td>1.0</td>\n      <td>13</td>\n      <td>4</td>\n      <td>1957.0</td>\n      <td>NaN</td>\n      <td>1981</td>\n      <td>...</td>\n      <td>-77.041521</td>\n      <td>Colonial Village</td>\n      <td>NaN</td>\n      <td>1600.0</td>\n      <td>001600 4008</td>\n      <td>Ward 4</td>\n      <td>PAR</td>\n      <td>NaN</td>\n      <td>NaN</td>\n      <td>NaN</td>\n    </tr>\n    <tr>\n      <th>104597</th>\n      <td>3</td>\n      <td>1</td>\n      <td>Forced Air</td>\n      <td>Y</td>\n      <td>1.0</td>\n      <td>10</td>\n      <td>4</td>\n      <td>1955.0</td>\n      <td>1989.0</td>\n      <td>1975</td>\n      <td>...</td>\n      <td>-77.041498</td>\n      <td>Colonial Village</td>\n      <td>NaN</td>\n      <td>1600.0</td>\n      <td>001600 4037</td>\n      <td>Ward 4</td>\n      <td>PAR</td>\n      <td>NaN</td>\n      <td>NaN</td>\n      <td>NaN</td>\n    </tr>\n    <tr>\n      <th>104598</th>\n      <td>2</td>\n      <td>1</td>\n      <td>Warm Cool</td>\n      <td>Y</td>\n      <td>1.0</td>\n      <td>8</td>\n      <td>3</td>\n      <td>1954.0</td>\n      <td>NaN</td>\n      <td>1957</td>\n      <td>...</td>\n      <td>-77.038633</td>\n      <td>Colonial Village</td>\n      <td>NaN</td>\n      <td>1600.0</td>\n      <td>001600 4005</td>\n      <td>Ward 4</td>\n      <td>PAR</td>\n      <td>NaN</td>\n      <td>NaN</td>\n      <td>NaN</td>\n    </tr>\n    <tr>\n      <th>104599</th>\n      <td>4</td>\n      <td>0</td>\n      <td>Warm Cool</td>\n      <td>Y</td>\n      <td>1.0</td>\n      <td>9</td>\n      <td>4</td>\n      <td>1954.0</td>\n      <td>NaN</td>\n      <td>1966</td>\n      <td>...</td>\n      <td>-77.038789</td>\n      <td>Colonial Village</td>\n      <td>NaN</td>\n      <td>1600.0</td>\n      <td>001600 4005</td>\n      <td>Ward 4</td>\n      <td>PAR</td>\n      <td>NaN</td>\n      <td>NaN</td>\n      <td>NaN</td>\n    </tr>\n    <tr>\n      <th>104600</th>\n      <td>3</td>\n      <td>0</td>\n      <td>Warm Cool</td>\n      <td>Y</td>\n      <td>1.0</td>\n      <td>11</td>\n      <td>4</td>\n      <td>1954.0</td>\n      <td>NaN</td>\n      <td>1957</td>\n      <td>...</td>\n      <td>-77.040211</td>\n      <td>Colonial Village</td>\n      <td>NaN</td>\n      <td>1600.0</td>\n      <td>001600 4036</td>\n      <td>Ward 4</td>\n      <td>PAR</td>\n      <td>NaN</td>\n      <td>NaN</td>\n      <td>NaN</td>\n    </tr>\n    <tr>\n      <th>104601</th>\n      <td>3</td>\n      <td>0</td>\n      <td>Warm Cool</td>\n      <td>Y</td>\n      <td>1.0</td>\n      <td>10</td>\n      <td>3</td>\n      <td>1955.0</td>\n      <td>NaN</td>\n      <td>1958</td>\n      <td>...</td>\n      <td>-77.040389</td>\n      <td>Colonial Village</td>\n      <td>NaN</td>\n      <td>1600.0</td>\n      <td>001600 4036</td>\n      <td>Ward 4</td>\n      <td>PAR</td>\n      <td>NaN</td>\n      <td>NaN</td>\n      <td>NaN</td>\n    </tr>\n    <tr>\n      <th>104602</th>\n      <td>2</td>\n      <td>2</td>\n      <td>Forced Air</td>\n      <td>Y</td>\n      <td>1.0</td>\n      <td>10</td>\n      <td>5</td>\n      <td>1955.0</td>\n      <td>2015.0</td>\n      <td>1975</td>\n      <td>...</td>\n      <td>-77.040568</td>\n      <td>Colonial Village</td>\n      <td>NaN</td>\n      <td>1600.0</td>\n      <td>001600 4036</td>\n      <td>Ward 4</td>\n      <td>PAR</td>\n      <td>NaN</td>\n      <td>NaN</td>\n      <td>NaN</td>\n    </tr>\n    <tr>\n      <th>104603</th>\n      <td>1</td>\n      <td>4</td>\n      <td>Warm Cool</td>\n      <td>Y</td>\n      <td>1.0</td>\n      <td>10</td>\n      <td>4</td>\n      <td>1958.0</td>\n      <td>NaN</td>\n      <td>1961</td>\n      <td>...</td>\n      <td>-77.041676</td>\n      <td>Colonial Village</td>\n      <td>NaN</td>\n      <td>1600.0</td>\n      <td>001600 4037</td>\n      <td>Ward 4</td>\n      <td>PAR</td>\n      <td>NaN</td>\n      <td>NaN</td>\n      <td>NaN</td>\n    </tr>\n    <tr>\n      <th>104604</th>\n      <td>3</td>\n      <td>1</td>\n      <td>Hot Water Rad</td>\n      <td>Y</td>\n      <td>1.0</td>\n      <td>9</td>\n      <td>5</td>\n      <td>1916.0</td>\n      <td>2003.0</td>\n      <td>1967</td>\n      <td>...</td>\n      <td>-77.033094</td>\n      <td>16th Street Heights</td>\n      <td>049 A 16th Street Heights</td>\n      <td>2001.0</td>\n      <td>002001 1004</td>\n      <td>Ward 4</td>\n      <td>PAR</td>\n      <td>NaN</td>\n      <td>NaN</td>\n      <td>NaN</td>\n    </tr>\n    <tr>\n      <th>104605</th>\n      <td>2</td>\n      <td>1</td>\n      <td>Warm Cool</td>\n      <td>Y</td>\n      <td>1.0</td>\n      <td>9</td>\n      <td>3</td>\n      <td>1952.0</td>\n      <td>NaN</td>\n      <td>1964</td>\n      <td>...</td>\n      <td>-77.036043</td>\n      <td>Brightwood</td>\n      <td>006 A Brightwood</td>\n      <td>1803.0</td>\n      <td>001803 2005</td>\n      <td>Ward 4</td>\n      <td>PAR</td>\n      <td>NaN</td>\n      <td>NaN</td>\n      <td>NaN</td>\n    </tr>\n    <tr>\n      <th>104606</th>\n      <td>2</td>\n      <td>0</td>\n      <td>Hot Water Rad</td>\n      <td>N</td>\n      <td>1.0</td>\n      <td>6</td>\n      <td>4</td>\n      <td>1910.0</td>\n      <td>2004.0</td>\n      <td>1957</td>\n      <td>...</td>\n      <td>-77.031398</td>\n      <td>Brightwood</td>\n      <td>006 A Brightwood</td>\n      <td>1804.0</td>\n      <td>001804 3004</td>\n      <td>Ward 4</td>\n      <td>PAR</td>\n      <td>NaN</td>\n      <td>NaN</td>\n      <td>NaN</td>\n    </tr>\n    <tr>\n      <th>104607</th>\n      <td>2</td>\n      <td>0</td>\n      <td>Hot Water Rad</td>\n      <td>N</td>\n      <td>1.0</td>\n      <td>6</td>\n      <td>2</td>\n      <td>1922.0</td>\n      <td>NaN</td>\n      <td>1957</td>\n      <td>...</td>\n      <td>-77.035123</td>\n      <td>16th Street Heights</td>\n      <td>049 A 16th Street Heights</td>\n      <td>2001.0</td>\n      <td>002001 2005</td>\n      <td>Ward 4</td>\n      <td>PAR</td>\n      <td>NaN</td>\n      <td>NaN</td>\n      <td>NaN</td>\n    </tr>\n    <tr>\n      <th>104608</th>\n      <td>4</td>\n      <td>0</td>\n      <td>Hot Water Rad</td>\n      <td>N</td>\n      <td>4.0</td>\n      <td>16</td>\n      <td>4</td>\n      <td>1940.0</td>\n      <td>NaN</td>\n      <td>1954</td>\n      <td>...</td>\n      <td>-77.032161</td>\n      <td>Brightwood</td>\n      <td>006 A Brightwood</td>\n      <td>1804.0</td>\n      <td>001804 3004</td>\n      <td>Ward 4</td>\n      <td>PAR</td>\n      <td>NaN</td>\n      <td>NaN</td>\n      <td>NaN</td>\n    </tr>\n    <tr>\n      <th>104609</th>\n      <td>3</td>\n      <td>0</td>\n      <td>Warm Cool</td>\n      <td>Y</td>\n      <td>1.0</td>\n      <td>7</td>\n      <td>4</td>\n      <td>1947.0</td>\n      <td>2017.0</td>\n      <td>1969</td>\n      <td>...</td>\n      <td>-77.034790</td>\n      <td>16th Street Heights</td>\n      <td>049 A 16th Street Heights</td>\n      <td>2001.0</td>\n      <td>002001 2005</td>\n      <td>Ward 4</td>\n      <td>PAR</td>\n      <td>NaN</td>\n      <td>NaN</td>\n      <td>NaN</td>\n    </tr>\n    <tr>\n      <th>104610</th>\n      <td>2</td>\n      <td>0</td>\n      <td>Hot Water Rad</td>\n      <td>N</td>\n      <td>2.0</td>\n      <td>11</td>\n      <td>4</td>\n      <td>1938.0</td>\n      <td>NaN</td>\n      <td>1954</td>\n      <td>...</td>\n      <td>NaN</td>\n      <td>NaN</td>\n      <td>NaN</td>\n      <td>NaN</td>\n      <td>NaN</td>\n      <td>NaN</td>\n      <td>PAR</td>\n      <td>NaN</td>\n      <td>NaN</td>\n      <td>NaN</td>\n    </tr>\n    <tr>\n      <th>104611</th>\n      <td>2</td>\n      <td>1</td>\n      <td>Warm Cool</td>\n      <td>Y</td>\n      <td>1.0</td>\n      <td>6</td>\n      <td>3</td>\n      <td>1900.0</td>\n      <td>2005.0</td>\n      <td>1967</td>\n      <td>...</td>\n      <td>-77.032795</td>\n      <td>16th Street Heights</td>\n      <td>049 A 16th Street Heights</td>\n      <td>2001.0</td>\n      <td>002001 1004</td>\n      <td>Ward 4</td>\n      <td>PAR</td>\n      <td>NaN</td>\n      <td>NaN</td>\n      <td>NaN</td>\n    </tr>\n    <tr>\n      <th>104612</th>\n      <td>2</td>\n      <td>1</td>\n      <td>Warm Cool</td>\n      <td>Y</td>\n      <td>1.0</td>\n      <td>7</td>\n      <td>4</td>\n      <td>1949.0</td>\n      <td>NaN</td>\n      <td>1971</td>\n      <td>...</td>\n      <td>-77.034528</td>\n      <td>16th Street Heights</td>\n      <td>049 A 16th Street Heights</td>\n      <td>2001.0</td>\n      <td>002001 2004</td>\n      <td>Ward 4</td>\n      <td>PAR</td>\n      <td>NaN</td>\n      <td>NaN</td>\n      <td>NaN</td>\n    </tr>\n    <tr>\n      <th>104613</th>\n      <td>4</td>\n      <td>0</td>\n      <td>Hot Water Rad</td>\n      <td>N</td>\n      <td>4.0</td>\n      <td>12</td>\n      <td>4</td>\n      <td>1940.0</td>\n      <td>NaN</td>\n      <td>1954</td>\n      <td>...</td>\n      <td>-77.031289</td>\n      <td>Brightwood</td>\n      <td>006 A Brightwood</td>\n      <td>1804.0</td>\n      <td>001804 3004</td>\n      <td>Ward 4</td>\n      <td>PAR</td>\n      <td>NaN</td>\n      <td>NaN</td>\n      <td>NaN</td>\n    </tr>\n    <tr>\n      <th>104614</th>\n      <td>2</td>\n      <td>1</td>\n      <td>Warm Cool</td>\n      <td>Y</td>\n      <td>1.0</td>\n      <td>8</td>\n      <td>4</td>\n      <td>1930.0</td>\n      <td>NaN</td>\n      <td>1963</td>\n      <td>...</td>\n      <td>-77.030495</td>\n      <td>Shepherd Heights</td>\n      <td>NaN</td>\n      <td>1600.0</td>\n      <td>001600 1016</td>\n      <td>Ward 4</td>\n      <td>PAR</td>\n      <td>NaN</td>\n      <td>NaN</td>\n      <td>NaN</td>\n    </tr>\n    <tr>\n      <th>104615</th>\n      <td>3</td>\n      <td>1</td>\n      <td>Hot Water Rad</td>\n      <td>Y</td>\n      <td>1.0</td>\n      <td>8</td>\n      <td>5</td>\n      <td>1940.0</td>\n      <td>NaN</td>\n      <td>1963</td>\n      <td>...</td>\n      <td>-77.030092</td>\n      <td>Shepherd Heights</td>\n      <td>NaN</td>\n      <td>1600.0</td>\n      <td>001600 1016</td>\n      <td>Ward 4</td>\n      <td>PAR</td>\n      <td>NaN</td>\n      <td>NaN</td>\n      <td>NaN</td>\n    </tr>\n    <tr>\n      <th>...</th>\n      <td>...</td>\n      <td>...</td>\n      <td>...</td>\n      <td>...</td>\n      <td>...</td>\n      <td>...</td>\n      <td>...</td>\n      <td>...</td>\n      <td>...</td>\n      <td>...</td>\n      <td>...</td>\n      <td>...</td>\n      <td>...</td>\n      <td>...</td>\n      <td>...</td>\n      <td>...</td>\n      <td>...</td>\n      <td>...</td>\n      <td>...</td>\n      <td>...</td>\n      <td>...</td>\n    </tr>\n    <tr>\n      <th>106434</th>\n      <td>3</td>\n      <td>2</td>\n      <td>Warm Cool</td>\n      <td>Y</td>\n      <td>1.0</td>\n      <td>9</td>\n      <td>4</td>\n      <td>1948.0</td>\n      <td>NaN</td>\n      <td>1952</td>\n      <td>...</td>\n      <td>-77.044800</td>\n      <td>Colonial Village</td>\n      <td>NaN</td>\n      <td>1600.0</td>\n      <td>001600 4028</td>\n      <td>Ward 4</td>\n      <td>PAR</td>\n      <td>NaN</td>\n      <td>NaN</td>\n      <td>NaN</td>\n    </tr>\n    <tr>\n      <th>106435</th>\n      <td>2</td>\n      <td>2</td>\n      <td>Warm Cool</td>\n      <td>Y</td>\n      <td>1.0</td>\n      <td>9</td>\n      <td>3</td>\n      <td>1936.0</td>\n      <td>NaN</td>\n      <td>1947</td>\n      <td>...</td>\n      <td>-77.045334</td>\n      <td>Colonial Village</td>\n      <td>NaN</td>\n      <td>1600.0</td>\n      <td>001600 4028</td>\n      <td>Ward 4</td>\n      <td>PAR</td>\n      <td>NaN</td>\n      <td>NaN</td>\n      <td>NaN</td>\n    </tr>\n    <tr>\n      <th>106436</th>\n      <td>3</td>\n      <td>1</td>\n      <td>Hot Water Rad</td>\n      <td>N</td>\n      <td>1.0</td>\n      <td>10</td>\n      <td>5</td>\n      <td>1934.0</td>\n      <td>2013.0</td>\n      <td>1978</td>\n      <td>...</td>\n      <td>-77.045446</td>\n      <td>Colonial Village</td>\n      <td>NaN</td>\n      <td>1600.0</td>\n      <td>001600 4026</td>\n      <td>Ward 4</td>\n      <td>PAR</td>\n      <td>NaN</td>\n      <td>NaN</td>\n      <td>NaN</td>\n    </tr>\n    <tr>\n      <th>106437</th>\n      <td>2</td>\n      <td>1</td>\n      <td>Warm Cool</td>\n      <td>Y</td>\n      <td>1.0</td>\n      <td>8</td>\n      <td>3</td>\n      <td>1936.0</td>\n      <td>1986.0</td>\n      <td>1967</td>\n      <td>...</td>\n      <td>-77.045972</td>\n      <td>Colonial Village</td>\n      <td>NaN</td>\n      <td>1600.0</td>\n      <td>001600 4026</td>\n      <td>Ward 4</td>\n      <td>PAR</td>\n      <td>NaN</td>\n      <td>NaN</td>\n      <td>NaN</td>\n    </tr>\n    <tr>\n      <th>106438</th>\n      <td>2</td>\n      <td>1</td>\n      <td>Warm Cool</td>\n      <td>Y</td>\n      <td>1.0</td>\n      <td>6</td>\n      <td>3</td>\n      <td>1941.0</td>\n      <td>2002.0</td>\n      <td>1972</td>\n      <td>...</td>\n      <td>-77.047639</td>\n      <td>Colonial Village</td>\n      <td>NaN</td>\n      <td>1600.0</td>\n      <td>001600 4025</td>\n      <td>Ward 4</td>\n      <td>PAR</td>\n      <td>NaN</td>\n      <td>NaN</td>\n      <td>NaN</td>\n    </tr>\n    <tr>\n      <th>106439</th>\n      <td>3</td>\n      <td>1</td>\n      <td>Forced Air</td>\n      <td>Y</td>\n      <td>1.0</td>\n      <td>8</td>\n      <td>3</td>\n      <td>1951.0</td>\n      <td>NaN</td>\n      <td>1972</td>\n      <td>...</td>\n      <td>-77.047777</td>\n      <td>Colonial Village</td>\n      <td>NaN</td>\n      <td>1600.0</td>\n      <td>001600 4027</td>\n      <td>Ward 4</td>\n      <td>PAR</td>\n      <td>NaN</td>\n      <td>NaN</td>\n      <td>NaN</td>\n    </tr>\n    <tr>\n      <th>106440</th>\n      <td>3</td>\n      <td>1</td>\n      <td>Hot Water Rad</td>\n      <td>N</td>\n      <td>1.0</td>\n      <td>7</td>\n      <td>4</td>\n      <td>1935.0</td>\n      <td>2010.0</td>\n      <td>1964</td>\n      <td>...</td>\n      <td>-77.046362</td>\n      <td>Colonial Village</td>\n      <td>NaN</td>\n      <td>1600.0</td>\n      <td>001600 4028</td>\n      <td>Ward 4</td>\n      <td>PAR</td>\n      <td>NaN</td>\n      <td>NaN</td>\n      <td>NaN</td>\n    </tr>\n    <tr>\n      <th>106441</th>\n      <td>3</td>\n      <td>1</td>\n      <td>Hot Water Rad</td>\n      <td>N</td>\n      <td>1.0</td>\n      <td>10</td>\n      <td>3</td>\n      <td>1934.0</td>\n      <td>1994.0</td>\n      <td>1969</td>\n      <td>...</td>\n      <td>-77.047120</td>\n      <td>Colonial Village</td>\n      <td>NaN</td>\n      <td>1600.0</td>\n      <td>001600 4027</td>\n      <td>Ward 4</td>\n      <td>PAR</td>\n      <td>NaN</td>\n      <td>NaN</td>\n      <td>NaN</td>\n    </tr>\n    <tr>\n      <th>106442</th>\n      <td>4</td>\n      <td>1</td>\n      <td>Hot Water Rad</td>\n      <td>N</td>\n      <td>1.0</td>\n      <td>7</td>\n      <td>4</td>\n      <td>1934.0</td>\n      <td>1984.0</td>\n      <td>1954</td>\n      <td>...</td>\n      <td>-77.047443</td>\n      <td>Colonial Village</td>\n      <td>NaN</td>\n      <td>1600.0</td>\n      <td>001600 4027</td>\n      <td>Ward 4</td>\n      <td>PAR</td>\n      <td>NaN</td>\n      <td>NaN</td>\n      <td>NaN</td>\n    </tr>\n    <tr>\n      <th>106443</th>\n      <td>3</td>\n      <td>1</td>\n      <td>Hot Water Rad</td>\n      <td>N</td>\n      <td>1.0</td>\n      <td>10</td>\n      <td>4</td>\n      <td>1936.0</td>\n      <td>2010.0</td>\n      <td>1967</td>\n      <td>...</td>\n      <td>-77.045787</td>\n      <td>Colonial Village</td>\n      <td>NaN</td>\n      <td>1600.0</td>\n      <td>001600 4028</td>\n      <td>Ward 4</td>\n      <td>PAR</td>\n      <td>NaN</td>\n      <td>NaN</td>\n      <td>NaN</td>\n    </tr>\n    <tr>\n      <th>106444</th>\n      <td>5</td>\n      <td>2</td>\n      <td>Warm Cool</td>\n      <td>Y</td>\n      <td>1.0</td>\n      <td>16</td>\n      <td>7</td>\n      <td>1936.0</td>\n      <td>1963.0</td>\n      <td>1969</td>\n      <td>...</td>\n      <td>-77.047141</td>\n      <td>Colonial Village</td>\n      <td>NaN</td>\n      <td>1600.0</td>\n      <td>001600 4025</td>\n      <td>Ward 4</td>\n      <td>PAR</td>\n      <td>NaN</td>\n      <td>NaN</td>\n      <td>NaN</td>\n    </tr>\n    <tr>\n      <th>106445</th>\n      <td>4</td>\n      <td>0</td>\n      <td>Hot Water Rad</td>\n      <td>N</td>\n      <td>1.0</td>\n      <td>9</td>\n      <td>4</td>\n      <td>1936.0</td>\n      <td>NaN</td>\n      <td>1964</td>\n      <td>...</td>\n      <td>-77.044656</td>\n      <td>Colonial Village</td>\n      <td>NaN</td>\n      <td>1600.0</td>\n      <td>001600 4001</td>\n      <td>Ward 4</td>\n      <td>PAR</td>\n      <td>NaN</td>\n      <td>NaN</td>\n      <td>NaN</td>\n    </tr>\n    <tr>\n      <th>106446</th>\n      <td>3</td>\n      <td>1</td>\n      <td>Warm Cool</td>\n      <td>Y</td>\n      <td>1.0</td>\n      <td>9</td>\n      <td>4</td>\n      <td>1936.0</td>\n      <td>NaN</td>\n      <td>1957</td>\n      <td>...</td>\n      <td>-77.044433</td>\n      <td>Colonial Village</td>\n      <td>NaN</td>\n      <td>1600.0</td>\n      <td>001600 4001</td>\n      <td>Ward 4</td>\n      <td>PAR</td>\n      <td>NaN</td>\n      <td>NaN</td>\n      <td>NaN</td>\n    </tr>\n    <tr>\n      <th>106447</th>\n      <td>3</td>\n      <td>1</td>\n      <td>Hot Water Rad</td>\n      <td>N</td>\n      <td>1.0</td>\n      <td>9</td>\n      <td>4</td>\n      <td>1936.0</td>\n      <td>NaN</td>\n      <td>1960</td>\n      <td>...</td>\n      <td>-77.046405</td>\n      <td>Colonial Village</td>\n      <td>NaN</td>\n      <td>1600.0</td>\n      <td>001600 4028</td>\n      <td>Ward 4</td>\n      <td>PAR</td>\n      <td>NaN</td>\n      <td>NaN</td>\n      <td>NaN</td>\n    </tr>\n    <tr>\n      <th>106448</th>\n      <td>4</td>\n      <td>0</td>\n      <td>Warm Cool</td>\n      <td>Y</td>\n      <td>1.0</td>\n      <td>8</td>\n      <td>5</td>\n      <td>1949.0</td>\n      <td>2009.0</td>\n      <td>1971</td>\n      <td>...</td>\n      <td>-77.044057</td>\n      <td>Colonial Village</td>\n      <td>NaN</td>\n      <td>1600.0</td>\n      <td>001600 4034</td>\n      <td>Ward 4</td>\n      <td>PAR</td>\n      <td>NaN</td>\n      <td>NaN</td>\n      <td>NaN</td>\n    </tr>\n    <tr>\n      <th>106449</th>\n      <td>2</td>\n      <td>1</td>\n      <td>Warm Cool</td>\n      <td>Y</td>\n      <td>1.0</td>\n      <td>6</td>\n      <td>3</td>\n      <td>1936.0</td>\n      <td>NaN</td>\n      <td>1947</td>\n      <td>...</td>\n      <td>-77.043715</td>\n      <td>Colonial Village</td>\n      <td>NaN</td>\n      <td>1600.0</td>\n      <td>001600 4034</td>\n      <td>Ward 4</td>\n      <td>PAR</td>\n      <td>NaN</td>\n      <td>NaN</td>\n      <td>NaN</td>\n    </tr>\n    <tr>\n      <th>106450</th>\n      <td>4</td>\n      <td>1</td>\n      <td>Warm Cool</td>\n      <td>Y</td>\n      <td>1.0</td>\n      <td>11</td>\n      <td>5</td>\n      <td>1937.0</td>\n      <td>NaN</td>\n      <td>1969</td>\n      <td>...</td>\n      <td>-77.044761</td>\n      <td>Colonial Village</td>\n      <td>NaN</td>\n      <td>1600.0</td>\n      <td>001600 4028</td>\n      <td>Ward 4</td>\n      <td>PAR</td>\n      <td>NaN</td>\n      <td>NaN</td>\n      <td>NaN</td>\n    </tr>\n    <tr>\n      <th>106451</th>\n      <td>4</td>\n      <td>1</td>\n      <td>Warm Cool</td>\n      <td>Y</td>\n      <td>1.0</td>\n      <td>11</td>\n      <td>4</td>\n      <td>1940.0</td>\n      <td>1993.0</td>\n      <td>1957</td>\n      <td>...</td>\n      <td>-77.044679</td>\n      <td>Colonial Village</td>\n      <td>NaN</td>\n      <td>1600.0</td>\n      <td>001600 4028</td>\n      <td>Ward 4</td>\n      <td>PAR</td>\n      <td>NaN</td>\n      <td>NaN</td>\n      <td>NaN</td>\n    </tr>\n    <tr>\n      <th>106452</th>\n      <td>3</td>\n      <td>1</td>\n      <td>Warm Cool</td>\n      <td>Y</td>\n      <td>1.0</td>\n      <td>9</td>\n      <td>4</td>\n      <td>1939.0</td>\n      <td>NaN</td>\n      <td>1957</td>\n      <td>...</td>\n      <td>-77.046585</td>\n      <td>Colonial Village</td>\n      <td>NaN</td>\n      <td>1600.0</td>\n      <td>001600 4025</td>\n      <td>Ward 4</td>\n      <td>PAR</td>\n      <td>NaN</td>\n      <td>NaN</td>\n      <td>NaN</td>\n    </tr>\n    <tr>\n      <th>106453</th>\n      <td>2</td>\n      <td>1</td>\n      <td>Warm Cool</td>\n      <td>Y</td>\n      <td>1.0</td>\n      <td>8</td>\n      <td>4</td>\n      <td>1937.0</td>\n      <td>NaN</td>\n      <td>1947</td>\n      <td>...</td>\n      <td>-77.045026</td>\n      <td>Colonial Village</td>\n      <td>NaN</td>\n      <td>1600.0</td>\n      <td>001600 4001</td>\n      <td>Ward 4</td>\n      <td>PAR</td>\n      <td>NaN</td>\n      <td>NaN</td>\n      <td>NaN</td>\n    </tr>\n    <tr>\n      <th>106454</th>\n      <td>4</td>\n      <td>1</td>\n      <td>Forced Air</td>\n      <td>Y</td>\n      <td>1.0</td>\n      <td>8</td>\n      <td>4</td>\n      <td>1938.0</td>\n      <td>2018.0</td>\n      <td>1967</td>\n      <td>...</td>\n      <td>-77.045758</td>\n      <td>Colonial Village</td>\n      <td>NaN</td>\n      <td>1600.0</td>\n      <td>001600 4025</td>\n      <td>Ward 4</td>\n      <td>PAR</td>\n      <td>NaN</td>\n      <td>NaN</td>\n      <td>NaN</td>\n    </tr>\n    <tr>\n      <th>106455</th>\n      <td>2</td>\n      <td>2</td>\n      <td>Forced Air</td>\n      <td>Y</td>\n      <td>1.0</td>\n      <td>8</td>\n      <td>3</td>\n      <td>1962.0</td>\n      <td>NaN</td>\n      <td>1970</td>\n      <td>...</td>\n      <td>-77.044933</td>\n      <td>Colonial Village</td>\n      <td>NaN</td>\n      <td>1600.0</td>\n      <td>001600 4028</td>\n      <td>Ward 4</td>\n      <td>PAR</td>\n      <td>NaN</td>\n      <td>NaN</td>\n      <td>NaN</td>\n    </tr>\n    <tr>\n      <th>106456</th>\n      <td>4</td>\n      <td>1</td>\n      <td>Warm Cool</td>\n      <td>Y</td>\n      <td>1.0</td>\n      <td>11</td>\n      <td>6</td>\n      <td>1938.0</td>\n      <td>2004.0</td>\n      <td>1969</td>\n      <td>...</td>\n      <td>-77.047546</td>\n      <td>Colonial Village</td>\n      <td>NaN</td>\n      <td>1600.0</td>\n      <td>001600 4027</td>\n      <td>Ward 4</td>\n      <td>PAR</td>\n      <td>NaN</td>\n      <td>NaN</td>\n      <td>NaN</td>\n    </tr>\n    <tr>\n      <th>106457</th>\n      <td>3</td>\n      <td>1</td>\n      <td>Warm Cool</td>\n      <td>Y</td>\n      <td>1.0</td>\n      <td>10</td>\n      <td>4</td>\n      <td>1956.0</td>\n      <td>NaN</td>\n      <td>1959</td>\n      <td>...</td>\n      <td>-77.047610</td>\n      <td>Colonial Village</td>\n      <td>NaN</td>\n      <td>1600.0</td>\n      <td>001600 4027</td>\n      <td>Ward 4</td>\n      <td>PAR</td>\n      <td>NaN</td>\n      <td>NaN</td>\n      <td>NaN</td>\n    </tr>\n    <tr>\n      <th>106458</th>\n      <td>3</td>\n      <td>1</td>\n      <td>Warm Cool</td>\n      <td>Y</td>\n      <td>1.0</td>\n      <td>8</td>\n      <td>4</td>\n      <td>1937.0</td>\n      <td>2010.0</td>\n      <td>1957</td>\n      <td>...</td>\n      <td>-77.046180</td>\n      <td>Colonial Village</td>\n      <td>NaN</td>\n      <td>1600.0</td>\n      <td>001600 4025</td>\n      <td>Ward 4</td>\n      <td>PAR</td>\n      <td>NaN</td>\n      <td>NaN</td>\n      <td>NaN</td>\n    </tr>\n    <tr>\n      <th>106459</th>\n      <td>2</td>\n      <td>1</td>\n      <td>Forced Air</td>\n      <td>Y</td>\n      <td>1.0</td>\n      <td>10</td>\n      <td>3</td>\n      <td>1943.0</td>\n      <td>2007.0</td>\n      <td>1967</td>\n      <td>...</td>\n      <td>-77.044017</td>\n      <td>Colonial Village</td>\n      <td>NaN</td>\n      <td>1600.0</td>\n      <td>001600 4001</td>\n      <td>Ward 4</td>\n      <td>PAR</td>\n      <td>NaN</td>\n      <td>NaN</td>\n      <td>NaN</td>\n    </tr>\n    <tr>\n      <th>106460</th>\n      <td>2</td>\n      <td>2</td>\n      <td>Forced Air</td>\n      <td>Y</td>\n      <td>1.0</td>\n      <td>9</td>\n      <td>3</td>\n      <td>1942.0</td>\n      <td>2008.0</td>\n      <td>1967</td>\n      <td>...</td>\n      <td>-77.043178</td>\n      <td>Colonial Village</td>\n      <td>NaN</td>\n      <td>1600.0</td>\n      <td>001600 4034</td>\n      <td>Ward 4</td>\n      <td>PAR</td>\n      <td>NaN</td>\n      <td>NaN</td>\n      <td>NaN</td>\n    </tr>\n    <tr>\n      <th>106461</th>\n      <td>3</td>\n      <td>0</td>\n      <td>Forced Air</td>\n      <td>Y</td>\n      <td>1.0</td>\n      <td>9</td>\n      <td>4</td>\n      <td>1952.0</td>\n      <td>2010.0</td>\n      <td>1964</td>\n      <td>...</td>\n      <td>-77.045595</td>\n      <td>Colonial Village</td>\n      <td>NaN</td>\n      <td>1600.0</td>\n      <td>001600 4026</td>\n      <td>Ward 4</td>\n      <td>PAR</td>\n      <td>NaN</td>\n      <td>NaN</td>\n      <td>NaN</td>\n    </tr>\n    <tr>\n      <th>106462</th>\n      <td>3</td>\n      <td>0</td>\n      <td>Warm Cool</td>\n      <td>Y</td>\n      <td>1.0</td>\n      <td>5</td>\n      <td>3</td>\n      <td>1957.0</td>\n      <td>NaN</td>\n      <td>1968</td>\n      <td>...</td>\n      <td>-77.045841</td>\n      <td>Colonial Village</td>\n      <td>NaN</td>\n      <td>1600.0</td>\n      <td>001600 4026</td>\n      <td>Ward 4</td>\n      <td>PAR</td>\n      <td>NaN</td>\n      <td>NaN</td>\n      <td>NaN</td>\n    </tr>\n    <tr>\n      <th>106463</th>\n      <td>3</td>\n      <td>1</td>\n      <td>Hot Water Rad</td>\n      <td>N</td>\n      <td>1.0</td>\n      <td>7</td>\n      <td>4</td>\n      <td>1936.0</td>\n      <td>NaN</td>\n      <td>1947</td>\n      <td>...</td>\n      <td>-77.047332</td>\n      <td>Colonial Village</td>\n      <td>NaN</td>\n      <td>1600.0</td>\n      <td>001600 4027</td>\n      <td>Ward 4</td>\n      <td>PAR</td>\n      <td>NaN</td>\n      <td>NaN</td>\n      <td>NaN</td>\n    </tr>\n  </tbody>\n</table>\n<p>237 rows × 48 columns</p>\n</div>",
            "text/plain": "        BATHRM  HF_BATHRM           HEAT AC  NUM_UNITS  ROOMS  BEDRM     AYB  \\\n104586       5          1      Warm Cool  Y        1.0     13      5  1930.0   \n104587       3          1     Forced Air  Y        1.0      7      3  1952.0   \n104588       4          0  Hot Water Rad  N        1.0     10      4  1953.0   \n104589       3          0     Forced Air  Y        1.0     11      4  1958.0   \n104590       3          2      Warm Cool  Y        1.0     16      4  1957.0   \n104591       3          2      Warm Cool  Y        1.0     12      3  1957.0   \n104592       4          1      Warm Cool  Y        1.0     10      5  1957.0   \n104593       3          1  Hot Water Rad  N        1.0      9      3  1956.0   \n104594       3          0      Warm Cool  Y        1.0      7      3  1960.0   \n104595       3          0      Warm Cool  Y        1.0      9      3  1955.0   \n104596       5          1      Warm Cool  Y        1.0     13      4  1957.0   \n104597       3          1     Forced Air  Y        1.0     10      4  1955.0   \n104598       2          1      Warm Cool  Y        1.0      8      3  1954.0   \n104599       4          0      Warm Cool  Y        1.0      9      4  1954.0   \n104600       3          0      Warm Cool  Y        1.0     11      4  1954.0   \n104601       3          0      Warm Cool  Y        1.0     10      3  1955.0   \n104602       2          2     Forced Air  Y        1.0     10      5  1955.0   \n104603       1          4      Warm Cool  Y        1.0     10      4  1958.0   \n104604       3          1  Hot Water Rad  Y        1.0      9      5  1916.0   \n104605       2          1      Warm Cool  Y        1.0      9      3  1952.0   \n104606       2          0  Hot Water Rad  N        1.0      6      4  1910.0   \n104607       2          0  Hot Water Rad  N        1.0      6      2  1922.0   \n104608       4          0  Hot Water Rad  N        4.0     16      4  1940.0   \n104609       3          0      Warm Cool  Y        1.0      7      4  1947.0   \n104610       2          0  Hot Water Rad  N        2.0     11      4  1938.0   \n104611       2          1      Warm Cool  Y        1.0      6      3  1900.0   \n104612       2          1      Warm Cool  Y        1.0      7      4  1949.0   \n104613       4          0  Hot Water Rad  N        4.0     12      4  1940.0   \n104614       2          1      Warm Cool  Y        1.0      8      4  1930.0   \n104615       3          1  Hot Water Rad  Y        1.0      8      5  1940.0   \n...        ...        ...            ... ..        ...    ...    ...     ...   \n106434       3          2      Warm Cool  Y        1.0      9      4  1948.0   \n106435       2          2      Warm Cool  Y        1.0      9      3  1936.0   \n106436       3          1  Hot Water Rad  N        1.0     10      5  1934.0   \n106437       2          1      Warm Cool  Y        1.0      8      3  1936.0   \n106438       2          1      Warm Cool  Y        1.0      6      3  1941.0   \n106439       3          1     Forced Air  Y        1.0      8      3  1951.0   \n106440       3          1  Hot Water Rad  N        1.0      7      4  1935.0   \n106441       3          1  Hot Water Rad  N        1.0     10      3  1934.0   \n106442       4          1  Hot Water Rad  N        1.0      7      4  1934.0   \n106443       3          1  Hot Water Rad  N        1.0     10      4  1936.0   \n106444       5          2      Warm Cool  Y        1.0     16      7  1936.0   \n106445       4          0  Hot Water Rad  N        1.0      9      4  1936.0   \n106446       3          1      Warm Cool  Y        1.0      9      4  1936.0   \n106447       3          1  Hot Water Rad  N        1.0      9      4  1936.0   \n106448       4          0      Warm Cool  Y        1.0      8      5  1949.0   \n106449       2          1      Warm Cool  Y        1.0      6      3  1936.0   \n106450       4          1      Warm Cool  Y        1.0     11      5  1937.0   \n106451       4          1      Warm Cool  Y        1.0     11      4  1940.0   \n106452       3          1      Warm Cool  Y        1.0      9      4  1939.0   \n106453       2          1      Warm Cool  Y        1.0      8      4  1937.0   \n106454       4          1     Forced Air  Y        1.0      8      4  1938.0   \n106455       2          2     Forced Air  Y        1.0      8      3  1962.0   \n106456       4          1      Warm Cool  Y        1.0     11      6  1938.0   \n106457       3          1      Warm Cool  Y        1.0     10      4  1956.0   \n106458       3          1      Warm Cool  Y        1.0      8      4  1937.0   \n106459       2          1     Forced Air  Y        1.0     10      3  1943.0   \n106460       2          2     Forced Air  Y        1.0      9      3  1942.0   \n106461       3          0     Forced Air  Y        1.0      9      4  1952.0   \n106462       3          0      Warm Cool  Y        1.0      5      3  1957.0   \n106463       3          1  Hot Water Rad  N        1.0      7      4  1936.0   \n\n        YR_RMDL   EYB   ...     LONGITUDE      ASSESSMENT_NBHD  \\\n104586   1992.0  1969   ...    -77.040890     Colonial Village   \n104587   2000.0  1975   ...    -77.046761     Colonial Village   \n104588      NaN  1956   ...    -77.047045     Colonial Village   \n104589   2018.0  1991   ...    -77.046676     Colonial Village   \n104590   2015.0  1978   ...    -77.036999     Colonial Village   \n104591      NaN  1960   ...    -77.036705     Colonial Village   \n104592      NaN  1960   ...    -77.041228     Colonial Village   \n104593      NaN  1968   ...    -77.040816     Colonial Village   \n104594   2000.0  1978   ...    -77.040934     Colonial Village   \n104595      NaN  1961   ...    -77.041718     Colonial Village   \n104596      NaN  1981   ...    -77.041521     Colonial Village   \n104597   1989.0  1975   ...    -77.041498     Colonial Village   \n104598      NaN  1957   ...    -77.038633     Colonial Village   \n104599      NaN  1966   ...    -77.038789     Colonial Village   \n104600      NaN  1957   ...    -77.040211     Colonial Village   \n104601      NaN  1958   ...    -77.040389     Colonial Village   \n104602   2015.0  1975   ...    -77.040568     Colonial Village   \n104603      NaN  1961   ...    -77.041676     Colonial Village   \n104604   2003.0  1967   ...    -77.033094  16th Street Heights   \n104605      NaN  1964   ...    -77.036043           Brightwood   \n104606   2004.0  1957   ...    -77.031398           Brightwood   \n104607      NaN  1957   ...    -77.035123  16th Street Heights   \n104608      NaN  1954   ...    -77.032161           Brightwood   \n104609   2017.0  1969   ...    -77.034790  16th Street Heights   \n104610      NaN  1954   ...           NaN                  NaN   \n104611   2005.0  1967   ...    -77.032795  16th Street Heights   \n104612      NaN  1971   ...    -77.034528  16th Street Heights   \n104613      NaN  1954   ...    -77.031289           Brightwood   \n104614      NaN  1963   ...    -77.030495     Shepherd Heights   \n104615      NaN  1963   ...    -77.030092     Shepherd Heights   \n...         ...   ...   ...           ...                  ...   \n106434      NaN  1952   ...    -77.044800     Colonial Village   \n106435      NaN  1947   ...    -77.045334     Colonial Village   \n106436   2013.0  1978   ...    -77.045446     Colonial Village   \n106437   1986.0  1967   ...    -77.045972     Colonial Village   \n106438   2002.0  1972   ...    -77.047639     Colonial Village   \n106439      NaN  1972   ...    -77.047777     Colonial Village   \n106440   2010.0  1964   ...    -77.046362     Colonial Village   \n106441   1994.0  1969   ...    -77.047120     Colonial Village   \n106442   1984.0  1954   ...    -77.047443     Colonial Village   \n106443   2010.0  1967   ...    -77.045787     Colonial Village   \n106444   1963.0  1969   ...    -77.047141     Colonial Village   \n106445      NaN  1964   ...    -77.044656     Colonial Village   \n106446      NaN  1957   ...    -77.044433     Colonial Village   \n106447      NaN  1960   ...    -77.046405     Colonial Village   \n106448   2009.0  1971   ...    -77.044057     Colonial Village   \n106449      NaN  1947   ...    -77.043715     Colonial Village   \n106450      NaN  1969   ...    -77.044761     Colonial Village   \n106451   1993.0  1957   ...    -77.044679     Colonial Village   \n106452      NaN  1957   ...    -77.046585     Colonial Village   \n106453      NaN  1947   ...    -77.045026     Colonial Village   \n106454   2018.0  1967   ...    -77.045758     Colonial Village   \n106455      NaN  1970   ...    -77.044933     Colonial Village   \n106456   2004.0  1969   ...    -77.047546     Colonial Village   \n106457      NaN  1959   ...    -77.047610     Colonial Village   \n106458   2010.0  1957   ...    -77.046180     Colonial Village   \n106459   2007.0  1967   ...    -77.044017     Colonial Village   \n106460   2008.0  1967   ...    -77.043178     Colonial Village   \n106461   2010.0  1964   ...    -77.045595     Colonial Village   \n106462      NaN  1968   ...    -77.045841     Colonial Village   \n106463      NaN  1947   ...    -77.047332     Colonial Village   \n\n               ASSESSMENT_SUBNBHD CENSUS_TRACT  CENSUS_BLOCK    WARD  SQUARE  \\\n104586                        NaN       1600.0   001600 4011  Ward 4    PAR    \n104587                        NaN       1600.0   001600 4025  Ward 4    PAR    \n104588                        NaN       1600.0   001600 4025  Ward 4    PAR    \n104589                        NaN       1600.0   001600 4025  Ward 4    PAR    \n104590                        NaN       1600.0   001600 4000  Ward 4    PAR    \n104591                        NaN       1600.0   001600 4000  Ward 4    PAR    \n104592                        NaN       1600.0   001600 4008  Ward 4    PAR    \n104593                        NaN       1600.0   001600 4008  Ward 4    PAR    \n104594                        NaN       1600.0   001600 4008  Ward 4    PAR    \n104595                        NaN       1600.0   001600 4008  Ward 4    PAR    \n104596                        NaN       1600.0   001600 4008  Ward 4    PAR    \n104597                        NaN       1600.0   001600 4037  Ward 4    PAR    \n104598                        NaN       1600.0   001600 4005  Ward 4    PAR    \n104599                        NaN       1600.0   001600 4005  Ward 4    PAR    \n104600                        NaN       1600.0   001600 4036  Ward 4    PAR    \n104601                        NaN       1600.0   001600 4036  Ward 4    PAR    \n104602                        NaN       1600.0   001600 4036  Ward 4    PAR    \n104603                        NaN       1600.0   001600 4037  Ward 4    PAR    \n104604  049 A 16th Street Heights       2001.0   002001 1004  Ward 4    PAR    \n104605           006 A Brightwood       1803.0   001803 2005  Ward 4    PAR    \n104606           006 A Brightwood       1804.0   001804 3004  Ward 4    PAR    \n104607  049 A 16th Street Heights       2001.0   002001 2005  Ward 4    PAR    \n104608           006 A Brightwood       1804.0   001804 3004  Ward 4    PAR    \n104609  049 A 16th Street Heights       2001.0   002001 2005  Ward 4    PAR    \n104610                        NaN          NaN           NaN     NaN    PAR    \n104611  049 A 16th Street Heights       2001.0   002001 1004  Ward 4    PAR    \n104612  049 A 16th Street Heights       2001.0   002001 2004  Ward 4    PAR    \n104613           006 A Brightwood       1804.0   001804 3004  Ward 4    PAR    \n104614                        NaN       1600.0   001600 1016  Ward 4    PAR    \n104615                        NaN       1600.0   001600 1016  Ward 4    PAR    \n...                           ...          ...           ...     ...     ...   \n106434                        NaN       1600.0   001600 4028  Ward 4    PAR    \n106435                        NaN       1600.0   001600 4028  Ward 4    PAR    \n106436                        NaN       1600.0   001600 4026  Ward 4    PAR    \n106437                        NaN       1600.0   001600 4026  Ward 4    PAR    \n106438                        NaN       1600.0   001600 4025  Ward 4    PAR    \n106439                        NaN       1600.0   001600 4027  Ward 4    PAR    \n106440                        NaN       1600.0   001600 4028  Ward 4    PAR    \n106441                        NaN       1600.0   001600 4027  Ward 4    PAR    \n106442                        NaN       1600.0   001600 4027  Ward 4    PAR    \n106443                        NaN       1600.0   001600 4028  Ward 4    PAR    \n106444                        NaN       1600.0   001600 4025  Ward 4    PAR    \n106445                        NaN       1600.0   001600 4001  Ward 4    PAR    \n106446                        NaN       1600.0   001600 4001  Ward 4    PAR    \n106447                        NaN       1600.0   001600 4028  Ward 4    PAR    \n106448                        NaN       1600.0   001600 4034  Ward 4    PAR    \n106449                        NaN       1600.0   001600 4034  Ward 4    PAR    \n106450                        NaN       1600.0   001600 4028  Ward 4    PAR    \n106451                        NaN       1600.0   001600 4028  Ward 4    PAR    \n106452                        NaN       1600.0   001600 4025  Ward 4    PAR    \n106453                        NaN       1600.0   001600 4001  Ward 4    PAR    \n106454                        NaN       1600.0   001600 4025  Ward 4    PAR    \n106455                        NaN       1600.0   001600 4028  Ward 4    PAR    \n106456                        NaN       1600.0   001600 4027  Ward 4    PAR    \n106457                        NaN       1600.0   001600 4027  Ward 4    PAR    \n106458                        NaN       1600.0   001600 4025  Ward 4    PAR    \n106459                        NaN       1600.0   001600 4001  Ward 4    PAR    \n106460                        NaN       1600.0   001600 4034  Ward 4    PAR    \n106461                        NaN       1600.0   001600 4026  Ward 4    PAR    \n106462                        NaN       1600.0   001600 4026  Ward 4    PAR    \n106463                        NaN       1600.0   001600 4027  Ward 4    PAR    \n\n         X   Y QUADRANT  \n104586 NaN NaN      NaN  \n104587 NaN NaN      NaN  \n104588 NaN NaN      NaN  \n104589 NaN NaN      NaN  \n104590 NaN NaN      NaN  \n104591 NaN NaN      NaN  \n104592 NaN NaN      NaN  \n104593 NaN NaN      NaN  \n104594 NaN NaN      NaN  \n104595 NaN NaN      NaN  \n104596 NaN NaN      NaN  \n104597 NaN NaN      NaN  \n104598 NaN NaN      NaN  \n104599 NaN NaN      NaN  \n104600 NaN NaN      NaN  \n104601 NaN NaN      NaN  \n104602 NaN NaN      NaN  \n104603 NaN NaN      NaN  \n104604 NaN NaN      NaN  \n104605 NaN NaN      NaN  \n104606 NaN NaN      NaN  \n104607 NaN NaN      NaN  \n104608 NaN NaN      NaN  \n104609 NaN NaN      NaN  \n104610 NaN NaN      NaN  \n104611 NaN NaN      NaN  \n104612 NaN NaN      NaN  \n104613 NaN NaN      NaN  \n104614 NaN NaN      NaN  \n104615 NaN NaN      NaN  \n...     ..  ..      ...  \n106434 NaN NaN      NaN  \n106435 NaN NaN      NaN  \n106436 NaN NaN      NaN  \n106437 NaN NaN      NaN  \n106438 NaN NaN      NaN  \n106439 NaN NaN      NaN  \n106440 NaN NaN      NaN  \n106441 NaN NaN      NaN  \n106442 NaN NaN      NaN  \n106443 NaN NaN      NaN  \n106444 NaN NaN      NaN  \n106445 NaN NaN      NaN  \n106446 NaN NaN      NaN  \n106447 NaN NaN      NaN  \n106448 NaN NaN      NaN  \n106449 NaN NaN      NaN  \n106450 NaN NaN      NaN  \n106451 NaN NaN      NaN  \n106452 NaN NaN      NaN  \n106453 NaN NaN      NaN  \n106454 NaN NaN      NaN  \n106455 NaN NaN      NaN  \n106456 NaN NaN      NaN  \n106457 NaN NaN      NaN  \n106458 NaN NaN      NaN  \n106459 NaN NaN      NaN  \n106460 NaN NaN      NaN  \n106461 NaN NaN      NaN  \n106462 NaN NaN      NaN  \n106463 NaN NaN      NaN  \n\n[237 rows x 48 columns]"
          },
          "metadata": {}
        }
      ]
    },
    {
      "metadata": {
        "trusted": true
      },
      "cell_type": "code",
      "source": "dcdf.loc[(dcdf['QUADRANT'].isnull()) & (dcdf['CITY'].isnull())]",
      "execution_count": 122,
      "outputs": [
        {
          "output_type": "execute_result",
          "execution_count": 122,
          "data": {
            "text/html": "<div>\n<style scoped>\n    .dataframe tbody tr th:only-of-type {\n        vertical-align: middle;\n    }\n\n    .dataframe tbody tr th {\n        vertical-align: top;\n    }\n\n    .dataframe thead th {\n        text-align: right;\n    }\n</style>\n<table border=\"1\" class=\"dataframe\">\n  <thead>\n    <tr style=\"text-align: right;\">\n      <th></th>\n      <th>BATHRM</th>\n      <th>HF_BATHRM</th>\n      <th>HEAT</th>\n      <th>AC</th>\n      <th>NUM_UNITS</th>\n      <th>ROOMS</th>\n      <th>BEDRM</th>\n      <th>AYB</th>\n      <th>YR_RMDL</th>\n      <th>EYB</th>\n      <th>...</th>\n      <th>LONGITUDE</th>\n      <th>ASSESSMENT_NBHD</th>\n      <th>ASSESSMENT_SUBNBHD</th>\n      <th>CENSUS_TRACT</th>\n      <th>CENSUS_BLOCK</th>\n      <th>WARD</th>\n      <th>SQUARE</th>\n      <th>X</th>\n      <th>Y</th>\n      <th>QUADRANT</th>\n    </tr>\n  </thead>\n  <tbody>\n    <tr>\n      <th>104610</th>\n      <td>2</td>\n      <td>0</td>\n      <td>Hot Water Rad</td>\n      <td>N</td>\n      <td>2.0</td>\n      <td>11</td>\n      <td>4</td>\n      <td>1938.0</td>\n      <td>NaN</td>\n      <td>1954</td>\n      <td>...</td>\n      <td>NaN</td>\n      <td>NaN</td>\n      <td>NaN</td>\n      <td>NaN</td>\n      <td>NaN</td>\n      <td>NaN</td>\n      <td>PAR</td>\n      <td>NaN</td>\n      <td>NaN</td>\n      <td>NaN</td>\n    </tr>\n  </tbody>\n</table>\n<p>1 rows × 48 columns</p>\n</div>",
            "text/plain": "        BATHRM  HF_BATHRM           HEAT AC  NUM_UNITS  ROOMS  BEDRM     AYB  \\\n104610       2          0  Hot Water Rad  N        2.0     11      4  1938.0   \n\n        YR_RMDL   EYB   ...     LONGITUDE ASSESSMENT_NBHD  ASSESSMENT_SUBNBHD  \\\n104610      NaN  1954   ...           NaN             NaN                 NaN   \n\n       CENSUS_TRACT  CENSUS_BLOCK  WARD  SQUARE   X   Y QUADRANT  \n104610          NaN           NaN   NaN    PAR  NaN NaN      NaN  \n\n[1 rows x 48 columns]"
          },
          "metadata": {}
        }
      ]
    },
    {
      "metadata": {
        "trusted": true
      },
      "cell_type": "code",
      "source": "dcdf.iloc[104610]",
      "execution_count": 124,
      "outputs": [
        {
          "output_type": "execute_result",
          "execution_count": 124,
          "data": {
            "text/plain": "BATHRM                                  2\nHF_BATHRM                               0\nHEAT                        Hot Water Rad\nAC                                      N\nNUM_UNITS                               2\nROOMS                                  11\nBEDRM                                   4\nAYB                                  1938\nYR_RMDL                               NaN\nEYB                                  1954\nSTORIES                                 2\nSALEDATE              2001-01-04 00:00:00\nPRICE                                 NaN\nQUALIFIED                               U\nSALE_NUM                                1\nGBA                                  2262\nBLDG_NUM                                1\nSTYLE                             2 Story\nSTRUCT                              Multi\nGRADE                             Average\nCNDTN                             Average\nEXTWALL                      Common Brick\nROOF                             Built Up\nINTWALL                          Hardwood\nKITCHENS                                2\nFIREPLACES                              0\nUSECODE                                23\nLANDAREA                             2492\nGIS_LAST_MOD_DTTM     2018-07-22 18:01:43\nSOURCE                        Residential\nCMPLX_NUM                             NaN\nLIVING_GBA                            NaN\nFULLADDRESS                           NaN\nCITY                                  NaN\nSTATE                                 NaN\nZIPCODE                               NaN\nNATIONALGRID                          NaN\nLATITUDE                              NaN\nLONGITUDE                             NaN\nASSESSMENT_NBHD                       NaN\nASSESSMENT_SUBNBHD                    NaN\nCENSUS_TRACT                          NaN\nCENSUS_BLOCK                          NaN\nWARD                                  NaN\nSQUARE                               PAR \nX                                     NaN\nY                                     NaN\nQUADRANT                              NaN\nName: 104610, dtype: object"
          },
          "metadata": {}
        }
      ]
    },
    {
      "metadata": {
        "trusted": true
      },
      "cell_type": "code",
      "source": "# Drop the row with no address info\ndcdfB = dcdf.drop(104610, axis=0)",
      "execution_count": 128,
      "outputs": []
    },
    {
      "metadata": {
        "trusted": true
      },
      "cell_type": "code",
      "source": "dcdfB.loc[(dcdfB['QUADRANT'].isnull()) & (dcdfB['CITY'].isnull())]",
      "execution_count": 129,
      "outputs": [
        {
          "output_type": "execute_result",
          "execution_count": 129,
          "data": {
            "text/html": "<div>\n<style scoped>\n    .dataframe tbody tr th:only-of-type {\n        vertical-align: middle;\n    }\n\n    .dataframe tbody tr th {\n        vertical-align: top;\n    }\n\n    .dataframe thead th {\n        text-align: right;\n    }\n</style>\n<table border=\"1\" class=\"dataframe\">\n  <thead>\n    <tr style=\"text-align: right;\">\n      <th></th>\n      <th>BATHRM</th>\n      <th>HF_BATHRM</th>\n      <th>HEAT</th>\n      <th>AC</th>\n      <th>NUM_UNITS</th>\n      <th>ROOMS</th>\n      <th>BEDRM</th>\n      <th>AYB</th>\n      <th>YR_RMDL</th>\n      <th>EYB</th>\n      <th>...</th>\n      <th>LONGITUDE</th>\n      <th>ASSESSMENT_NBHD</th>\n      <th>ASSESSMENT_SUBNBHD</th>\n      <th>CENSUS_TRACT</th>\n      <th>CENSUS_BLOCK</th>\n      <th>WARD</th>\n      <th>SQUARE</th>\n      <th>X</th>\n      <th>Y</th>\n      <th>QUADRANT</th>\n    </tr>\n  </thead>\n  <tbody>\n  </tbody>\n</table>\n<p>0 rows × 48 columns</p>\n</div>",
            "text/plain": "Empty DataFrame\nColumns: [BATHRM, HF_BATHRM, HEAT, AC, NUM_UNITS, ROOMS, BEDRM, AYB, YR_RMDL, EYB, STORIES, SALEDATE, PRICE, QUALIFIED, SALE_NUM, GBA, BLDG_NUM, STYLE, STRUCT, GRADE, CNDTN, EXTWALL, ROOF, INTWALL, KITCHENS, FIREPLACES, USECODE, LANDAREA, GIS_LAST_MOD_DTTM, SOURCE, CMPLX_NUM, LIVING_GBA, FULLADDRESS, CITY, STATE, ZIPCODE, NATIONALGRID, LATITUDE, LONGITUDE, ASSESSMENT_NBHD, ASSESSMENT_SUBNBHD, CENSUS_TRACT, CENSUS_BLOCK, WARD, SQUARE, X, Y, QUADRANT]\nIndex: []\n\n[0 rows x 48 columns]"
          },
          "metadata": {}
        }
      ]
    },
    {
      "metadata": {
        "trusted": true
      },
      "cell_type": "code",
      "source": "dcdfB[\"CITY\"].fillna('WASHINGTON', inplace=True)",
      "execution_count": 130,
      "outputs": []
    },
    {
      "metadata": {
        "trusted": true
      },
      "cell_type": "code",
      "source": "dcdfB[\"STATE\"].fillna('DC', inplace=True)",
      "execution_count": 131,
      "outputs": []
    },
    {
      "metadata": {
        "trusted": true
      },
      "cell_type": "code",
      "source": "dcdfB.count()",
      "execution_count": 132,
      "outputs": [
        {
          "output_type": "execute_result",
          "execution_count": 132,
          "data": {
            "text/plain": "BATHRM                158956\nHF_BATHRM             158956\nHEAT                  158956\nAC                    158956\nNUM_UNITS             106695\nROOMS                 158956\nBEDRM                 158956\nAYB                   158685\nYR_RMDL                80928\nEYB                   158956\nSTORIES               106651\nSALEDATE              132186\nPRICE                  98216\nQUALIFIED             158956\nSALE_NUM              158956\nGBA                   106695\nBLDG_NUM              158956\nSTYLE                 106695\nSTRUCT                106695\nGRADE                 106695\nCNDTN                 106695\nEXTWALL               106695\nROOF                  106695\nINTWALL               106695\nKITCHENS              106694\nFIREPLACES            158956\nUSECODE               158956\nLANDAREA              158956\nGIS_LAST_MOD_DTTM     158956\nSOURCE                158956\nCMPLX_NUM              52261\nLIVING_GBA             52261\nFULLADDRESS           106040\nCITY                  158956\nSTATE                 158956\nZIPCODE               158956\nNATIONALGRID          106051\nLATITUDE              158956\nLONGITUDE             158956\nASSESSMENT_NBHD       158956\nASSESSMENT_SUBNBHD    126406\nCENSUS_TRACT          158956\nCENSUS_BLOCK          106051\nWARD                  158956\nSQUARE                158956\nX                     158720\nY                     158720\nQUADRANT              158720\ndtype: int64"
          },
          "metadata": {}
        }
      ]
    },
    {
      "metadata": {
        "trusted": true
      },
      "cell_type": "code",
      "source": "dcdfB['ZIPCODE'].unique()",
      "execution_count": 133,
      "outputs": [
        {
          "output_type": "execute_result",
          "execution_count": 133,
          "data": {
            "text/plain": "array([20009., 20037., 20036., 20005., 20052., 20008., 20001., 20024.,\n       20006., 20003., 20002., 20007., 20016., 20015., 20011., 20010.,\n       20012., 20017., 20018., 20019., 20020., 20032., 20392., 20004.])"
          },
          "metadata": {}
        }
      ]
    },
    {
      "metadata": {
        "trusted": true
      },
      "cell_type": "code",
      "source": "# changing AC zero to N\n\ndcdfB.loc[dcdfB['AC']=='0', 'AC'] = 'N'\ndcdfB['AC'].unique()",
      "execution_count": 147,
      "outputs": [
        {
          "output_type": "execute_result",
          "execution_count": 147,
          "data": {
            "text/plain": "array(['Y', 'N'], dtype=object)"
          },
          "metadata": {}
        }
      ]
    },
    {
      "metadata": {
        "trusted": true,
        "scrolled": true
      },
      "cell_type": "code",
      "source": "#Drop rows with lots of missing info - condition, ext wall, etc.\nmissing = dcdfB['NUM_UNITS'].isnull()\ndcdfB.loc[missing]",
      "execution_count": 148,
      "outputs": [
        {
          "output_type": "execute_result",
          "execution_count": 148,
          "data": {
            "text/html": "<div>\n<style scoped>\n    .dataframe tbody tr th:only-of-type {\n        vertical-align: middle;\n    }\n\n    .dataframe tbody tr th {\n        vertical-align: top;\n    }\n\n    .dataframe thead th {\n        text-align: right;\n    }\n</style>\n<table border=\"1\" class=\"dataframe\">\n  <thead>\n    <tr style=\"text-align: right;\">\n      <th></th>\n      <th>BATHRM</th>\n      <th>HF_BATHRM</th>\n      <th>HEAT</th>\n      <th>AC</th>\n      <th>NUM_UNITS</th>\n      <th>ROOMS</th>\n      <th>BEDRM</th>\n      <th>AYB</th>\n      <th>YR_RMDL</th>\n      <th>EYB</th>\n      <th>...</th>\n      <th>LONGITUDE</th>\n      <th>ASSESSMENT_NBHD</th>\n      <th>ASSESSMENT_SUBNBHD</th>\n      <th>CENSUS_TRACT</th>\n      <th>CENSUS_BLOCK</th>\n      <th>WARD</th>\n      <th>SQUARE</th>\n      <th>X</th>\n      <th>Y</th>\n      <th>QUADRANT</th>\n    </tr>\n  </thead>\n  <tbody>\n    <tr>\n      <th>106696</th>\n      <td>2</td>\n      <td>0</td>\n      <td>Forced Air</td>\n      <td>Y</td>\n      <td>NaN</td>\n      <td>4</td>\n      <td>2</td>\n      <td>1911.0</td>\n      <td>2016.0</td>\n      <td>1919</td>\n      <td>...</td>\n      <td>-77.021312</td>\n      <td>Columbia Heights</td>\n      <td>015 C Columbia Heights</td>\n      <td>3200.0</td>\n      <td>NaN</td>\n      <td>Ward 1</td>\n      <td>3037</td>\n      <td>-77.021314</td>\n      <td>38.933613</td>\n      <td>NW</td>\n    </tr>\n    <tr>\n      <th>106697</th>\n      <td>2</td>\n      <td>0</td>\n      <td>Forced Air</td>\n      <td>Y</td>\n      <td>NaN</td>\n      <td>4</td>\n      <td>2</td>\n      <td>1911.0</td>\n      <td>2016.0</td>\n      <td>1919</td>\n      <td>...</td>\n      <td>-77.021312</td>\n      <td>Columbia Heights</td>\n      <td>015 C Columbia Heights</td>\n      <td>3200.0</td>\n      <td>NaN</td>\n      <td>Ward 1</td>\n      <td>3037</td>\n      <td>-77.021314</td>\n      <td>38.933613</td>\n      <td>NW</td>\n    </tr>\n    <tr>\n      <th>106698</th>\n      <td>2</td>\n      <td>0</td>\n      <td>Forced Air</td>\n      <td>Y</td>\n      <td>NaN</td>\n      <td>4</td>\n      <td>2</td>\n      <td>1911.0</td>\n      <td>2016.0</td>\n      <td>1919</td>\n      <td>...</td>\n      <td>-77.021312</td>\n      <td>Columbia Heights</td>\n      <td>015 C Columbia Heights</td>\n      <td>3200.0</td>\n      <td>NaN</td>\n      <td>Ward 1</td>\n      <td>3037</td>\n      <td>-77.021314</td>\n      <td>38.933613</td>\n      <td>NW</td>\n    </tr>\n    <tr>\n      <th>106699</th>\n      <td>2</td>\n      <td>0</td>\n      <td>Forced Air</td>\n      <td>Y</td>\n      <td>NaN</td>\n      <td>4</td>\n      <td>2</td>\n      <td>1911.0</td>\n      <td>2016.0</td>\n      <td>1919</td>\n      <td>...</td>\n      <td>-77.021312</td>\n      <td>Columbia Heights</td>\n      <td>015 C Columbia Heights</td>\n      <td>3200.0</td>\n      <td>NaN</td>\n      <td>Ward 1</td>\n      <td>3037</td>\n      <td>-77.021314</td>\n      <td>38.933613</td>\n      <td>NW</td>\n    </tr>\n    <tr>\n      <th>106700</th>\n      <td>2</td>\n      <td>0</td>\n      <td>Forced Air</td>\n      <td>Y</td>\n      <td>NaN</td>\n      <td>4</td>\n      <td>2</td>\n      <td>1911.0</td>\n      <td>2016.0</td>\n      <td>1919</td>\n      <td>...</td>\n      <td>-77.021312</td>\n      <td>Columbia Heights</td>\n      <td>015 C Columbia Heights</td>\n      <td>3200.0</td>\n      <td>NaN</td>\n      <td>Ward 1</td>\n      <td>3037</td>\n      <td>-77.021314</td>\n      <td>38.933613</td>\n      <td>NW</td>\n    </tr>\n    <tr>\n      <th>106701</th>\n      <td>2</td>\n      <td>0</td>\n      <td>Forced Air</td>\n      <td>Y</td>\n      <td>NaN</td>\n      <td>4</td>\n      <td>2</td>\n      <td>1911.0</td>\n      <td>2016.0</td>\n      <td>1919</td>\n      <td>...</td>\n      <td>-77.021312</td>\n      <td>Columbia Heights</td>\n      <td>015 C Columbia Heights</td>\n      <td>3200.0</td>\n      <td>NaN</td>\n      <td>Ward 1</td>\n      <td>3037</td>\n      <td>-77.021314</td>\n      <td>38.933613</td>\n      <td>NW</td>\n    </tr>\n    <tr>\n      <th>106702</th>\n      <td>2</td>\n      <td>0</td>\n      <td>Forced Air</td>\n      <td>Y</td>\n      <td>NaN</td>\n      <td>4</td>\n      <td>2</td>\n      <td>1911.0</td>\n      <td>2016.0</td>\n      <td>1919</td>\n      <td>...</td>\n      <td>-77.021312</td>\n      <td>Columbia Heights</td>\n      <td>015 C Columbia Heights</td>\n      <td>3200.0</td>\n      <td>NaN</td>\n      <td>Ward 1</td>\n      <td>3037</td>\n      <td>-77.021314</td>\n      <td>38.933613</td>\n      <td>NW</td>\n    </tr>\n    <tr>\n      <th>106703</th>\n      <td>2</td>\n      <td>0</td>\n      <td>Forced Air</td>\n      <td>Y</td>\n      <td>NaN</td>\n      <td>4</td>\n      <td>2</td>\n      <td>1911.0</td>\n      <td>2016.0</td>\n      <td>1919</td>\n      <td>...</td>\n      <td>-77.021312</td>\n      <td>Columbia Heights</td>\n      <td>015 C Columbia Heights</td>\n      <td>3200.0</td>\n      <td>NaN</td>\n      <td>Ward 1</td>\n      <td>3037</td>\n      <td>-77.021314</td>\n      <td>38.933613</td>\n      <td>NW</td>\n    </tr>\n    <tr>\n      <th>106704</th>\n      <td>2</td>\n      <td>0</td>\n      <td>Forced Air</td>\n      <td>Y</td>\n      <td>NaN</td>\n      <td>4</td>\n      <td>2</td>\n      <td>1911.0</td>\n      <td>2016.0</td>\n      <td>1919</td>\n      <td>...</td>\n      <td>-77.021312</td>\n      <td>Columbia Heights</td>\n      <td>015 C Columbia Heights</td>\n      <td>3200.0</td>\n      <td>NaN</td>\n      <td>Ward 1</td>\n      <td>3037</td>\n      <td>-77.021314</td>\n      <td>38.933613</td>\n      <td>NW</td>\n    </tr>\n    <tr>\n      <th>106705</th>\n      <td>2</td>\n      <td>0</td>\n      <td>Forced Air</td>\n      <td>Y</td>\n      <td>NaN</td>\n      <td>4</td>\n      <td>2</td>\n      <td>1911.0</td>\n      <td>2016.0</td>\n      <td>1919</td>\n      <td>...</td>\n      <td>-77.021312</td>\n      <td>Columbia Heights</td>\n      <td>015 C Columbia Heights</td>\n      <td>3200.0</td>\n      <td>NaN</td>\n      <td>Ward 1</td>\n      <td>3037</td>\n      <td>-77.021314</td>\n      <td>38.933613</td>\n      <td>NW</td>\n    </tr>\n    <tr>\n      <th>106706</th>\n      <td>2</td>\n      <td>0</td>\n      <td>Forced Air</td>\n      <td>Y</td>\n      <td>NaN</td>\n      <td>4</td>\n      <td>2</td>\n      <td>1911.0</td>\n      <td>2016.0</td>\n      <td>1919</td>\n      <td>...</td>\n      <td>-77.021312</td>\n      <td>Columbia Heights</td>\n      <td>015 C Columbia Heights</td>\n      <td>3200.0</td>\n      <td>NaN</td>\n      <td>Ward 1</td>\n      <td>3037</td>\n      <td>-77.021314</td>\n      <td>38.933613</td>\n      <td>NW</td>\n    </tr>\n    <tr>\n      <th>106707</th>\n      <td>2</td>\n      <td>0</td>\n      <td>Forced Air</td>\n      <td>Y</td>\n      <td>NaN</td>\n      <td>4</td>\n      <td>2</td>\n      <td>2007.0</td>\n      <td>NaN</td>\n      <td>2007</td>\n      <td>...</td>\n      <td>-77.010407</td>\n      <td>Chillum</td>\n      <td>NaN</td>\n      <td>2102.0</td>\n      <td>NaN</td>\n      <td>Ward 4</td>\n      <td>3393</td>\n      <td>-77.010410</td>\n      <td>38.955767</td>\n      <td>NW</td>\n    </tr>\n    <tr>\n      <th>106708</th>\n      <td>2</td>\n      <td>0</td>\n      <td>Forced Air</td>\n      <td>Y</td>\n      <td>NaN</td>\n      <td>4</td>\n      <td>2</td>\n      <td>2007.0</td>\n      <td>NaN</td>\n      <td>2007</td>\n      <td>...</td>\n      <td>-77.010407</td>\n      <td>Chillum</td>\n      <td>NaN</td>\n      <td>2102.0</td>\n      <td>NaN</td>\n      <td>Ward 4</td>\n      <td>3393</td>\n      <td>-77.010410</td>\n      <td>38.955767</td>\n      <td>NW</td>\n    </tr>\n    <tr>\n      <th>106709</th>\n      <td>2</td>\n      <td>0</td>\n      <td>Forced Air</td>\n      <td>Y</td>\n      <td>NaN</td>\n      <td>4</td>\n      <td>2</td>\n      <td>2007.0</td>\n      <td>NaN</td>\n      <td>2007</td>\n      <td>...</td>\n      <td>-77.010407</td>\n      <td>Chillum</td>\n      <td>NaN</td>\n      <td>2102.0</td>\n      <td>NaN</td>\n      <td>Ward 4</td>\n      <td>3393</td>\n      <td>-77.010410</td>\n      <td>38.955767</td>\n      <td>NW</td>\n    </tr>\n    <tr>\n      <th>106710</th>\n      <td>2</td>\n      <td>0</td>\n      <td>Forced Air</td>\n      <td>Y</td>\n      <td>NaN</td>\n      <td>4</td>\n      <td>2</td>\n      <td>2007.0</td>\n      <td>NaN</td>\n      <td>2007</td>\n      <td>...</td>\n      <td>-77.010407</td>\n      <td>Chillum</td>\n      <td>NaN</td>\n      <td>2102.0</td>\n      <td>NaN</td>\n      <td>Ward 4</td>\n      <td>3393</td>\n      <td>-77.010410</td>\n      <td>38.955767</td>\n      <td>NW</td>\n    </tr>\n    <tr>\n      <th>106711</th>\n      <td>2</td>\n      <td>0</td>\n      <td>Forced Air</td>\n      <td>Y</td>\n      <td>NaN</td>\n      <td>4</td>\n      <td>2</td>\n      <td>2007.0</td>\n      <td>NaN</td>\n      <td>2007</td>\n      <td>...</td>\n      <td>-77.010407</td>\n      <td>Chillum</td>\n      <td>NaN</td>\n      <td>2102.0</td>\n      <td>NaN</td>\n      <td>Ward 4</td>\n      <td>3393</td>\n      <td>-77.010410</td>\n      <td>38.955767</td>\n      <td>NW</td>\n    </tr>\n    <tr>\n      <th>106712</th>\n      <td>2</td>\n      <td>0</td>\n      <td>Forced Air</td>\n      <td>Y</td>\n      <td>NaN</td>\n      <td>4</td>\n      <td>2</td>\n      <td>2007.0</td>\n      <td>NaN</td>\n      <td>2007</td>\n      <td>...</td>\n      <td>-77.010407</td>\n      <td>Chillum</td>\n      <td>NaN</td>\n      <td>2102.0</td>\n      <td>NaN</td>\n      <td>Ward 4</td>\n      <td>3393</td>\n      <td>-77.010410</td>\n      <td>38.955767</td>\n      <td>NW</td>\n    </tr>\n    <tr>\n      <th>106713</th>\n      <td>2</td>\n      <td>0</td>\n      <td>Forced Air</td>\n      <td>Y</td>\n      <td>NaN</td>\n      <td>4</td>\n      <td>2</td>\n      <td>2007.0</td>\n      <td>NaN</td>\n      <td>2007</td>\n      <td>...</td>\n      <td>-77.010407</td>\n      <td>Chillum</td>\n      <td>NaN</td>\n      <td>2102.0</td>\n      <td>NaN</td>\n      <td>Ward 4</td>\n      <td>3393</td>\n      <td>-77.010410</td>\n      <td>38.955767</td>\n      <td>NW</td>\n    </tr>\n    <tr>\n      <th>106714</th>\n      <td>1</td>\n      <td>0</td>\n      <td>Ht Pump</td>\n      <td>Y</td>\n      <td>NaN</td>\n      <td>4</td>\n      <td>2</td>\n      <td>1937.0</td>\n      <td>2009.0</td>\n      <td>1937</td>\n      <td>...</td>\n      <td>-77.012602</td>\n      <td>Petworth</td>\n      <td>042 C Petworth</td>\n      <td>2102.0</td>\n      <td>NaN</td>\n      <td>Ward 4</td>\n      <td>3399</td>\n      <td>-77.012605</td>\n      <td>38.952882</td>\n      <td>NW</td>\n    </tr>\n    <tr>\n      <th>106715</th>\n      <td>1</td>\n      <td>0</td>\n      <td>Ht Pump</td>\n      <td>Y</td>\n      <td>NaN</td>\n      <td>4</td>\n      <td>2</td>\n      <td>1937.0</td>\n      <td>2009.0</td>\n      <td>1937</td>\n      <td>...</td>\n      <td>-77.012602</td>\n      <td>Petworth</td>\n      <td>042 C Petworth</td>\n      <td>2102.0</td>\n      <td>NaN</td>\n      <td>Ward 4</td>\n      <td>3399</td>\n      <td>-77.012605</td>\n      <td>38.952882</td>\n      <td>NW</td>\n    </tr>\n    <tr>\n      <th>106716</th>\n      <td>1</td>\n      <td>0</td>\n      <td>Ht Pump</td>\n      <td>Y</td>\n      <td>NaN</td>\n      <td>4</td>\n      <td>2</td>\n      <td>1937.0</td>\n      <td>2009.0</td>\n      <td>1937</td>\n      <td>...</td>\n      <td>-77.012602</td>\n      <td>Petworth</td>\n      <td>042 C Petworth</td>\n      <td>2102.0</td>\n      <td>NaN</td>\n      <td>Ward 4</td>\n      <td>3399</td>\n      <td>-77.012605</td>\n      <td>38.952882</td>\n      <td>NW</td>\n    </tr>\n    <tr>\n      <th>106717</th>\n      <td>1</td>\n      <td>0</td>\n      <td>Ht Pump</td>\n      <td>Y</td>\n      <td>NaN</td>\n      <td>4</td>\n      <td>2</td>\n      <td>1937.0</td>\n      <td>2009.0</td>\n      <td>1937</td>\n      <td>...</td>\n      <td>-77.012602</td>\n      <td>Petworth</td>\n      <td>042 C Petworth</td>\n      <td>2102.0</td>\n      <td>NaN</td>\n      <td>Ward 4</td>\n      <td>3399</td>\n      <td>-77.012605</td>\n      <td>38.952882</td>\n      <td>NW</td>\n    </tr>\n    <tr>\n      <th>106718</th>\n      <td>1</td>\n      <td>1</td>\n      <td>Forced Air</td>\n      <td>Y</td>\n      <td>NaN</td>\n      <td>4</td>\n      <td>2</td>\n      <td>1937.0</td>\n      <td>2017.0</td>\n      <td>1937</td>\n      <td>...</td>\n      <td>-77.012602</td>\n      <td>Petworth</td>\n      <td>042 C Petworth</td>\n      <td>2102.0</td>\n      <td>NaN</td>\n      <td>Ward 4</td>\n      <td>3399</td>\n      <td>-77.012605</td>\n      <td>38.952882</td>\n      <td>NW</td>\n    </tr>\n    <tr>\n      <th>106719</th>\n      <td>1</td>\n      <td>1</td>\n      <td>Forced Air</td>\n      <td>Y</td>\n      <td>NaN</td>\n      <td>4</td>\n      <td>2</td>\n      <td>1937.0</td>\n      <td>2017.0</td>\n      <td>1937</td>\n      <td>...</td>\n      <td>-77.012602</td>\n      <td>Petworth</td>\n      <td>042 C Petworth</td>\n      <td>2102.0</td>\n      <td>NaN</td>\n      <td>Ward 4</td>\n      <td>3399</td>\n      <td>-77.012605</td>\n      <td>38.952882</td>\n      <td>NW</td>\n    </tr>\n    <tr>\n      <th>106720</th>\n      <td>1</td>\n      <td>0</td>\n      <td>Forced Air</td>\n      <td>Y</td>\n      <td>NaN</td>\n      <td>3</td>\n      <td>1</td>\n      <td>2004.0</td>\n      <td>NaN</td>\n      <td>2004</td>\n      <td>...</td>\n      <td>-77.014271</td>\n      <td>Southwest Waterfront</td>\n      <td>NaN</td>\n      <td>10500.0</td>\n      <td>NaN</td>\n      <td>Ward 6</td>\n      <td>0540</td>\n      <td>-77.014273</td>\n      <td>38.880828</td>\n      <td>SW</td>\n    </tr>\n    <tr>\n      <th>106721</th>\n      <td>1</td>\n      <td>0</td>\n      <td>Forced Air</td>\n      <td>Y</td>\n      <td>NaN</td>\n      <td>3</td>\n      <td>1</td>\n      <td>2004.0</td>\n      <td>NaN</td>\n      <td>2004</td>\n      <td>...</td>\n      <td>-77.014271</td>\n      <td>Southwest Waterfront</td>\n      <td>NaN</td>\n      <td>10500.0</td>\n      <td>NaN</td>\n      <td>Ward 6</td>\n      <td>0540</td>\n      <td>-77.014273</td>\n      <td>38.880828</td>\n      <td>SW</td>\n    </tr>\n    <tr>\n      <th>106722</th>\n      <td>1</td>\n      <td>0</td>\n      <td>Forced Air</td>\n      <td>Y</td>\n      <td>NaN</td>\n      <td>3</td>\n      <td>1</td>\n      <td>2004.0</td>\n      <td>NaN</td>\n      <td>2004</td>\n      <td>...</td>\n      <td>-77.014271</td>\n      <td>Southwest Waterfront</td>\n      <td>NaN</td>\n      <td>10500.0</td>\n      <td>NaN</td>\n      <td>Ward 6</td>\n      <td>0540</td>\n      <td>-77.014273</td>\n      <td>38.880828</td>\n      <td>SW</td>\n    </tr>\n    <tr>\n      <th>106723</th>\n      <td>1</td>\n      <td>0</td>\n      <td>Forced Air</td>\n      <td>Y</td>\n      <td>NaN</td>\n      <td>3</td>\n      <td>1</td>\n      <td>2004.0</td>\n      <td>NaN</td>\n      <td>2004</td>\n      <td>...</td>\n      <td>-77.014271</td>\n      <td>Southwest Waterfront</td>\n      <td>NaN</td>\n      <td>10500.0</td>\n      <td>NaN</td>\n      <td>Ward 6</td>\n      <td>0540</td>\n      <td>-77.014273</td>\n      <td>38.880828</td>\n      <td>SW</td>\n    </tr>\n    <tr>\n      <th>106724</th>\n      <td>1</td>\n      <td>0</td>\n      <td>Forced Air</td>\n      <td>Y</td>\n      <td>NaN</td>\n      <td>3</td>\n      <td>1</td>\n      <td>2004.0</td>\n      <td>NaN</td>\n      <td>2004</td>\n      <td>...</td>\n      <td>-77.014271</td>\n      <td>Southwest Waterfront</td>\n      <td>NaN</td>\n      <td>10500.0</td>\n      <td>NaN</td>\n      <td>Ward 6</td>\n      <td>0540</td>\n      <td>-77.014273</td>\n      <td>38.880828</td>\n      <td>SW</td>\n    </tr>\n    <tr>\n      <th>106725</th>\n      <td>1</td>\n      <td>0</td>\n      <td>Forced Air</td>\n      <td>Y</td>\n      <td>NaN</td>\n      <td>3</td>\n      <td>1</td>\n      <td>2004.0</td>\n      <td>NaN</td>\n      <td>2004</td>\n      <td>...</td>\n      <td>-77.014271</td>\n      <td>Southwest Waterfront</td>\n      <td>NaN</td>\n      <td>10500.0</td>\n      <td>NaN</td>\n      <td>Ward 6</td>\n      <td>0540</td>\n      <td>-77.014273</td>\n      <td>38.880828</td>\n      <td>SW</td>\n    </tr>\n    <tr>\n      <th>...</th>\n      <td>...</td>\n      <td>...</td>\n      <td>...</td>\n      <td>...</td>\n      <td>...</td>\n      <td>...</td>\n      <td>...</td>\n      <td>...</td>\n      <td>...</td>\n      <td>...</td>\n      <td>...</td>\n      <td>...</td>\n      <td>...</td>\n      <td>...</td>\n      <td>...</td>\n      <td>...</td>\n      <td>...</td>\n      <td>...</td>\n      <td>...</td>\n      <td>...</td>\n      <td>...</td>\n    </tr>\n    <tr>\n      <th>158927</th>\n      <td>2</td>\n      <td>0</td>\n      <td>Ht Pump</td>\n      <td>Y</td>\n      <td>NaN</td>\n      <td>6</td>\n      <td>3</td>\n      <td>1993.0</td>\n      <td>1993.0</td>\n      <td>1993</td>\n      <td>...</td>\n      <td>-77.019274</td>\n      <td>Old City 2</td>\n      <td>040 G Old City 2</td>\n      <td>4801.0</td>\n      <td>NaN</td>\n      <td>Ward 6</td>\n      <td>475</td>\n      <td>-77.019277</td>\n      <td>38.914287</td>\n      <td>NW</td>\n    </tr>\n    <tr>\n      <th>158928</th>\n      <td>2</td>\n      <td>1</td>\n      <td>Ht Pump</td>\n      <td>Y</td>\n      <td>NaN</td>\n      <td>5</td>\n      <td>2</td>\n      <td>2013.0</td>\n      <td>NaN</td>\n      <td>2013</td>\n      <td>...</td>\n      <td>-77.019274</td>\n      <td>Old City 2</td>\n      <td>040 G Old City 2</td>\n      <td>4801.0</td>\n      <td>NaN</td>\n      <td>Ward 6</td>\n      <td>475</td>\n      <td>-77.019277</td>\n      <td>38.914287</td>\n      <td>NW</td>\n    </tr>\n    <tr>\n      <th>158929</th>\n      <td>2</td>\n      <td>1</td>\n      <td>Ht Pump</td>\n      <td>Y</td>\n      <td>NaN</td>\n      <td>5</td>\n      <td>2</td>\n      <td>2013.0</td>\n      <td>NaN</td>\n      <td>2013</td>\n      <td>...</td>\n      <td>-77.019274</td>\n      <td>Old City 2</td>\n      <td>040 G Old City 2</td>\n      <td>4801.0</td>\n      <td>NaN</td>\n      <td>Ward 6</td>\n      <td>475</td>\n      <td>-77.019277</td>\n      <td>38.914287</td>\n      <td>NW</td>\n    </tr>\n    <tr>\n      <th>158930</th>\n      <td>2</td>\n      <td>0</td>\n      <td>Forced Air</td>\n      <td>N</td>\n      <td>NaN</td>\n      <td>4</td>\n      <td>2</td>\n      <td>1900.0</td>\n      <td>2003.0</td>\n      <td>1919</td>\n      <td>...</td>\n      <td>-77.019243</td>\n      <td>Old City 2</td>\n      <td>040 B Old City 2</td>\n      <td>4801.0</td>\n      <td>NaN</td>\n      <td>Ward 6</td>\n      <td>476</td>\n      <td>-77.019245</td>\n      <td>38.912954</td>\n      <td>NW</td>\n    </tr>\n    <tr>\n      <th>158931</th>\n      <td>2</td>\n      <td>1</td>\n      <td>Forced Air</td>\n      <td>N</td>\n      <td>NaN</td>\n      <td>4</td>\n      <td>2</td>\n      <td>1900.0</td>\n      <td>2003.0</td>\n      <td>1919</td>\n      <td>...</td>\n      <td>-77.019243</td>\n      <td>Old City 2</td>\n      <td>040 B Old City 2</td>\n      <td>4801.0</td>\n      <td>NaN</td>\n      <td>Ward 6</td>\n      <td>476</td>\n      <td>-77.019245</td>\n      <td>38.912954</td>\n      <td>NW</td>\n    </tr>\n    <tr>\n      <th>158932</th>\n      <td>2</td>\n      <td>1</td>\n      <td>Forced Air</td>\n      <td>N</td>\n      <td>NaN</td>\n      <td>4</td>\n      <td>2</td>\n      <td>1900.0</td>\n      <td>2003.0</td>\n      <td>1919</td>\n      <td>...</td>\n      <td>-77.019243</td>\n      <td>Old City 2</td>\n      <td>040 B Old City 2</td>\n      <td>4801.0</td>\n      <td>NaN</td>\n      <td>Ward 6</td>\n      <td>476</td>\n      <td>-77.019245</td>\n      <td>38.912954</td>\n      <td>NW</td>\n    </tr>\n    <tr>\n      <th>158933</th>\n      <td>2</td>\n      <td>0</td>\n      <td>Ht Pump</td>\n      <td>Y</td>\n      <td>NaN</td>\n      <td>4</td>\n      <td>2</td>\n      <td>1880.0</td>\n      <td>2016.0</td>\n      <td>1919</td>\n      <td>...</td>\n      <td>-77.019243</td>\n      <td>Old City 2</td>\n      <td>040 B Old City 2</td>\n      <td>4801.0</td>\n      <td>NaN</td>\n      <td>Ward 6</td>\n      <td>476</td>\n      <td>-77.019245</td>\n      <td>38.912954</td>\n      <td>NW</td>\n    </tr>\n    <tr>\n      <th>158934</th>\n      <td>1</td>\n      <td>1</td>\n      <td>Ht Pump</td>\n      <td>Y</td>\n      <td>NaN</td>\n      <td>3</td>\n      <td>1</td>\n      <td>1880.0</td>\n      <td>2016.0</td>\n      <td>1919</td>\n      <td>...</td>\n      <td>-77.019243</td>\n      <td>Old City 2</td>\n      <td>040 B Old City 2</td>\n      <td>4801.0</td>\n      <td>NaN</td>\n      <td>Ward 6</td>\n      <td>476</td>\n      <td>-77.019245</td>\n      <td>38.912954</td>\n      <td>NW</td>\n    </tr>\n    <tr>\n      <th>158935</th>\n      <td>1</td>\n      <td>0</td>\n      <td>Ht Pump</td>\n      <td>Y</td>\n      <td>NaN</td>\n      <td>3</td>\n      <td>1</td>\n      <td>1880.0</td>\n      <td>2016.0</td>\n      <td>1919</td>\n      <td>...</td>\n      <td>-77.019243</td>\n      <td>Old City 2</td>\n      <td>040 B Old City 2</td>\n      <td>4801.0</td>\n      <td>NaN</td>\n      <td>Ward 6</td>\n      <td>476</td>\n      <td>-77.019245</td>\n      <td>38.912954</td>\n      <td>NW</td>\n    </tr>\n    <tr>\n      <th>158936</th>\n      <td>1</td>\n      <td>0</td>\n      <td>Ht Pump</td>\n      <td>Y</td>\n      <td>NaN</td>\n      <td>3</td>\n      <td>1</td>\n      <td>1880.0</td>\n      <td>2016.0</td>\n      <td>1919</td>\n      <td>...</td>\n      <td>-77.019243</td>\n      <td>Old City 2</td>\n      <td>040 B Old City 2</td>\n      <td>4801.0</td>\n      <td>NaN</td>\n      <td>Ward 6</td>\n      <td>476</td>\n      <td>-77.019245</td>\n      <td>38.912954</td>\n      <td>NW</td>\n    </tr>\n    <tr>\n      <th>158937</th>\n      <td>1</td>\n      <td>0</td>\n      <td>Forced Air</td>\n      <td>Y</td>\n      <td>NaN</td>\n      <td>4</td>\n      <td>2</td>\n      <td>1992.0</td>\n      <td>1992.0</td>\n      <td>1992</td>\n      <td>...</td>\n      <td>-77.019420</td>\n      <td>Old City 2</td>\n      <td>040 B Old City 2</td>\n      <td>4801.0</td>\n      <td>NaN</td>\n      <td>Ward 6</td>\n      <td>477</td>\n      <td>-77.019422</td>\n      <td>38.911848</td>\n      <td>NW</td>\n    </tr>\n    <tr>\n      <th>158938</th>\n      <td>2</td>\n      <td>0</td>\n      <td>Warm Cool</td>\n      <td>Y</td>\n      <td>NaN</td>\n      <td>7</td>\n      <td>4</td>\n      <td>1992.0</td>\n      <td>1992.0</td>\n      <td>1992</td>\n      <td>...</td>\n      <td>-77.019420</td>\n      <td>Old City 2</td>\n      <td>040 B Old City 2</td>\n      <td>4801.0</td>\n      <td>NaN</td>\n      <td>Ward 6</td>\n      <td>477</td>\n      <td>-77.019422</td>\n      <td>38.911848</td>\n      <td>NW</td>\n    </tr>\n    <tr>\n      <th>158939</th>\n      <td>1</td>\n      <td>0</td>\n      <td>Forced Air</td>\n      <td>Y</td>\n      <td>NaN</td>\n      <td>4</td>\n      <td>2</td>\n      <td>1992.0</td>\n      <td>1992.0</td>\n      <td>1992</td>\n      <td>...</td>\n      <td>-77.019420</td>\n      <td>Old City 2</td>\n      <td>040 B Old City 2</td>\n      <td>4801.0</td>\n      <td>NaN</td>\n      <td>Ward 6</td>\n      <td>477</td>\n      <td>-77.019422</td>\n      <td>38.911848</td>\n      <td>NW</td>\n    </tr>\n    <tr>\n      <th>158940</th>\n      <td>2</td>\n      <td>0</td>\n      <td>Forced Air</td>\n      <td>Y</td>\n      <td>NaN</td>\n      <td>7</td>\n      <td>4</td>\n      <td>1992.0</td>\n      <td>1992.0</td>\n      <td>1992</td>\n      <td>...</td>\n      <td>-77.019420</td>\n      <td>Old City 2</td>\n      <td>040 B Old City 2</td>\n      <td>4801.0</td>\n      <td>NaN</td>\n      <td>Ward 6</td>\n      <td>477</td>\n      <td>-77.019422</td>\n      <td>38.911848</td>\n      <td>NW</td>\n    </tr>\n    <tr>\n      <th>158941</th>\n      <td>1</td>\n      <td>0</td>\n      <td>Forced Air</td>\n      <td>Y</td>\n      <td>NaN</td>\n      <td>4</td>\n      <td>2</td>\n      <td>1992.0</td>\n      <td>1992.0</td>\n      <td>1992</td>\n      <td>...</td>\n      <td>-77.019420</td>\n      <td>Old City 2</td>\n      <td>040 B Old City 2</td>\n      <td>4801.0</td>\n      <td>NaN</td>\n      <td>Ward 6</td>\n      <td>477</td>\n      <td>-77.019422</td>\n      <td>38.911848</td>\n      <td>NW</td>\n    </tr>\n    <tr>\n      <th>158942</th>\n      <td>2</td>\n      <td>0</td>\n      <td>Forced Air</td>\n      <td>Y</td>\n      <td>NaN</td>\n      <td>7</td>\n      <td>4</td>\n      <td>1992.0</td>\n      <td>1992.0</td>\n      <td>1992</td>\n      <td>...</td>\n      <td>-77.019420</td>\n      <td>Old City 2</td>\n      <td>040 B Old City 2</td>\n      <td>4801.0</td>\n      <td>NaN</td>\n      <td>Ward 6</td>\n      <td>477</td>\n      <td>-77.019422</td>\n      <td>38.911848</td>\n      <td>NW</td>\n    </tr>\n    <tr>\n      <th>158943</th>\n      <td>2</td>\n      <td>1</td>\n      <td>Forced Air</td>\n      <td>Y</td>\n      <td>NaN</td>\n      <td>5</td>\n      <td>2</td>\n      <td>2004.0</td>\n      <td>2004.0</td>\n      <td>2004</td>\n      <td>...</td>\n      <td>-77.019420</td>\n      <td>Old City 2</td>\n      <td>040 B Old City 2</td>\n      <td>4801.0</td>\n      <td>NaN</td>\n      <td>Ward 6</td>\n      <td>477</td>\n      <td>-77.019422</td>\n      <td>38.911848</td>\n      <td>NW</td>\n    </tr>\n    <tr>\n      <th>158944</th>\n      <td>2</td>\n      <td>1</td>\n      <td>Forced Air</td>\n      <td>Y</td>\n      <td>NaN</td>\n      <td>5</td>\n      <td>2</td>\n      <td>2004.0</td>\n      <td>2004.0</td>\n      <td>2004</td>\n      <td>...</td>\n      <td>-77.019420</td>\n      <td>Old City 2</td>\n      <td>040 B Old City 2</td>\n      <td>4801.0</td>\n      <td>NaN</td>\n      <td>Ward 6</td>\n      <td>477</td>\n      <td>-77.019422</td>\n      <td>38.911848</td>\n      <td>NW</td>\n    </tr>\n    <tr>\n      <th>158945</th>\n      <td>1</td>\n      <td>0</td>\n      <td>Forced Air</td>\n      <td>Y</td>\n      <td>NaN</td>\n      <td>3</td>\n      <td>1</td>\n      <td>1938.0</td>\n      <td>2006.0</td>\n      <td>1938</td>\n      <td>...</td>\n      <td>-77.019420</td>\n      <td>Old City 2</td>\n      <td>040 B Old City 2</td>\n      <td>4801.0</td>\n      <td>NaN</td>\n      <td>Ward 6</td>\n      <td>477</td>\n      <td>-77.019422</td>\n      <td>38.911848</td>\n      <td>NW</td>\n    </tr>\n    <tr>\n      <th>158946</th>\n      <td>1</td>\n      <td>0</td>\n      <td>Forced Air</td>\n      <td>Y</td>\n      <td>NaN</td>\n      <td>4</td>\n      <td>2</td>\n      <td>1938.0</td>\n      <td>2006.0</td>\n      <td>1938</td>\n      <td>...</td>\n      <td>-77.019420</td>\n      <td>Old City 2</td>\n      <td>040 B Old City 2</td>\n      <td>4801.0</td>\n      <td>NaN</td>\n      <td>Ward 6</td>\n      <td>477</td>\n      <td>-77.019422</td>\n      <td>38.911848</td>\n      <td>NW</td>\n    </tr>\n    <tr>\n      <th>158947</th>\n      <td>2</td>\n      <td>0</td>\n      <td>Forced Air</td>\n      <td>Y</td>\n      <td>NaN</td>\n      <td>4</td>\n      <td>2</td>\n      <td>1938.0</td>\n      <td>2006.0</td>\n      <td>1938</td>\n      <td>...</td>\n      <td>-77.019420</td>\n      <td>Old City 2</td>\n      <td>040 B Old City 2</td>\n      <td>4801.0</td>\n      <td>NaN</td>\n      <td>Ward 6</td>\n      <td>477</td>\n      <td>-77.019422</td>\n      <td>38.911848</td>\n      <td>NW</td>\n    </tr>\n    <tr>\n      <th>158948</th>\n      <td>2</td>\n      <td>0</td>\n      <td>Forced Air</td>\n      <td>Y</td>\n      <td>NaN</td>\n      <td>4</td>\n      <td>2</td>\n      <td>1938.0</td>\n      <td>2006.0</td>\n      <td>1938</td>\n      <td>...</td>\n      <td>-77.019420</td>\n      <td>Old City 2</td>\n      <td>040 B Old City 2</td>\n      <td>4801.0</td>\n      <td>NaN</td>\n      <td>Ward 6</td>\n      <td>477</td>\n      <td>-77.019422</td>\n      <td>38.911848</td>\n      <td>NW</td>\n    </tr>\n    <tr>\n      <th>158949</th>\n      <td>1</td>\n      <td>1</td>\n      <td>Forced Air</td>\n      <td>Y</td>\n      <td>NaN</td>\n      <td>4</td>\n      <td>1</td>\n      <td>1938.0</td>\n      <td>2006.0</td>\n      <td>1938</td>\n      <td>...</td>\n      <td>-77.019420</td>\n      <td>Old City 2</td>\n      <td>040 B Old City 2</td>\n      <td>4801.0</td>\n      <td>NaN</td>\n      <td>Ward 6</td>\n      <td>477</td>\n      <td>-77.019422</td>\n      <td>38.911848</td>\n      <td>NW</td>\n    </tr>\n    <tr>\n      <th>158950</th>\n      <td>3</td>\n      <td>0</td>\n      <td>Forced Air</td>\n      <td>Y</td>\n      <td>NaN</td>\n      <td>5</td>\n      <td>3</td>\n      <td>1938.0</td>\n      <td>2006.0</td>\n      <td>1938</td>\n      <td>...</td>\n      <td>-77.019420</td>\n      <td>Old City 2</td>\n      <td>040 B Old City 2</td>\n      <td>4801.0</td>\n      <td>NaN</td>\n      <td>Ward 6</td>\n      <td>477</td>\n      <td>-77.019422</td>\n      <td>38.911848</td>\n      <td>NW</td>\n    </tr>\n    <tr>\n      <th>158951</th>\n      <td>3</td>\n      <td>1</td>\n      <td>Forced Air</td>\n      <td>Y</td>\n      <td>NaN</td>\n      <td>5</td>\n      <td>3</td>\n      <td>1938.0</td>\n      <td>2006.0</td>\n      <td>1938</td>\n      <td>...</td>\n      <td>-77.019420</td>\n      <td>Old City 2</td>\n      <td>040 B Old City 2</td>\n      <td>4801.0</td>\n      <td>NaN</td>\n      <td>Ward 6</td>\n      <td>477</td>\n      <td>-77.019422</td>\n      <td>38.911848</td>\n      <td>NW</td>\n    </tr>\n    <tr>\n      <th>158952</th>\n      <td>1</td>\n      <td>0</td>\n      <td>Forced Air</td>\n      <td>Y</td>\n      <td>NaN</td>\n      <td>3</td>\n      <td>1</td>\n      <td>1938.0</td>\n      <td>2006.0</td>\n      <td>1938</td>\n      <td>...</td>\n      <td>-77.019420</td>\n      <td>Old City 2</td>\n      <td>040 B Old City 2</td>\n      <td>4801.0</td>\n      <td>NaN</td>\n      <td>Ward 6</td>\n      <td>477</td>\n      <td>-77.019422</td>\n      <td>38.911848</td>\n      <td>NW</td>\n    </tr>\n    <tr>\n      <th>158953</th>\n      <td>1</td>\n      <td>0</td>\n      <td>Forced Air</td>\n      <td>Y</td>\n      <td>NaN</td>\n      <td>4</td>\n      <td>2</td>\n      <td>1938.0</td>\n      <td>2006.0</td>\n      <td>1938</td>\n      <td>...</td>\n      <td>-77.019420</td>\n      <td>Old City 2</td>\n      <td>040 B Old City 2</td>\n      <td>4801.0</td>\n      <td>NaN</td>\n      <td>Ward 6</td>\n      <td>477</td>\n      <td>-77.019422</td>\n      <td>38.911848</td>\n      <td>NW</td>\n    </tr>\n    <tr>\n      <th>158954</th>\n      <td>2</td>\n      <td>0</td>\n      <td>Forced Air</td>\n      <td>Y</td>\n      <td>NaN</td>\n      <td>4</td>\n      <td>2</td>\n      <td>1920.0</td>\n      <td>2007.0</td>\n      <td>1920</td>\n      <td>...</td>\n      <td>-77.019420</td>\n      <td>Old City 2</td>\n      <td>040 B Old City 2</td>\n      <td>4801.0</td>\n      <td>NaN</td>\n      <td>Ward 6</td>\n      <td>477</td>\n      <td>-77.019422</td>\n      <td>38.911848</td>\n      <td>NW</td>\n    </tr>\n    <tr>\n      <th>158955</th>\n      <td>1</td>\n      <td>0</td>\n      <td>Warm Cool</td>\n      <td>Y</td>\n      <td>NaN</td>\n      <td>2</td>\n      <td>0</td>\n      <td>1965.0</td>\n      <td>NaN</td>\n      <td>1965</td>\n      <td>...</td>\n      <td>-77.018230</td>\n      <td>Southwest Waterfront</td>\n      <td>NaN</td>\n      <td>11000.0</td>\n      <td>NaN</td>\n      <td>Ward 6</td>\n      <td>504</td>\n      <td>-77.018232</td>\n      <td>38.872961</td>\n      <td>SW</td>\n    </tr>\n    <tr>\n      <th>158956</th>\n      <td>1</td>\n      <td>0</td>\n      <td>Warm Cool</td>\n      <td>Y</td>\n      <td>NaN</td>\n      <td>2</td>\n      <td>0</td>\n      <td>1965.0</td>\n      <td>NaN</td>\n      <td>1965</td>\n      <td>...</td>\n      <td>-77.018230</td>\n      <td>Southwest Waterfront</td>\n      <td>NaN</td>\n      <td>11000.0</td>\n      <td>NaN</td>\n      <td>Ward 6</td>\n      <td>504</td>\n      <td>-77.018232</td>\n      <td>38.872961</td>\n      <td>SW</td>\n    </tr>\n  </tbody>\n</table>\n<p>52261 rows × 48 columns</p>\n</div>",
            "text/plain": "        BATHRM  HF_BATHRM        HEAT AC  NUM_UNITS  ROOMS  BEDRM     AYB  \\\n106696       2          0  Forced Air  Y        NaN      4      2  1911.0   \n106697       2          0  Forced Air  Y        NaN      4      2  1911.0   \n106698       2          0  Forced Air  Y        NaN      4      2  1911.0   \n106699       2          0  Forced Air  Y        NaN      4      2  1911.0   \n106700       2          0  Forced Air  Y        NaN      4      2  1911.0   \n106701       2          0  Forced Air  Y        NaN      4      2  1911.0   \n106702       2          0  Forced Air  Y        NaN      4      2  1911.0   \n106703       2          0  Forced Air  Y        NaN      4      2  1911.0   \n106704       2          0  Forced Air  Y        NaN      4      2  1911.0   \n106705       2          0  Forced Air  Y        NaN      4      2  1911.0   \n106706       2          0  Forced Air  Y        NaN      4      2  1911.0   \n106707       2          0  Forced Air  Y        NaN      4      2  2007.0   \n106708       2          0  Forced Air  Y        NaN      4      2  2007.0   \n106709       2          0  Forced Air  Y        NaN      4      2  2007.0   \n106710       2          0  Forced Air  Y        NaN      4      2  2007.0   \n106711       2          0  Forced Air  Y        NaN      4      2  2007.0   \n106712       2          0  Forced Air  Y        NaN      4      2  2007.0   \n106713       2          0  Forced Air  Y        NaN      4      2  2007.0   \n106714       1          0     Ht Pump  Y        NaN      4      2  1937.0   \n106715       1          0     Ht Pump  Y        NaN      4      2  1937.0   \n106716       1          0     Ht Pump  Y        NaN      4      2  1937.0   \n106717       1          0     Ht Pump  Y        NaN      4      2  1937.0   \n106718       1          1  Forced Air  Y        NaN      4      2  1937.0   \n106719       1          1  Forced Air  Y        NaN      4      2  1937.0   \n106720       1          0  Forced Air  Y        NaN      3      1  2004.0   \n106721       1          0  Forced Air  Y        NaN      3      1  2004.0   \n106722       1          0  Forced Air  Y        NaN      3      1  2004.0   \n106723       1          0  Forced Air  Y        NaN      3      1  2004.0   \n106724       1          0  Forced Air  Y        NaN      3      1  2004.0   \n106725       1          0  Forced Air  Y        NaN      3      1  2004.0   \n...        ...        ...         ... ..        ...    ...    ...     ...   \n158927       2          0     Ht Pump  Y        NaN      6      3  1993.0   \n158928       2          1     Ht Pump  Y        NaN      5      2  2013.0   \n158929       2          1     Ht Pump  Y        NaN      5      2  2013.0   \n158930       2          0  Forced Air  N        NaN      4      2  1900.0   \n158931       2          1  Forced Air  N        NaN      4      2  1900.0   \n158932       2          1  Forced Air  N        NaN      4      2  1900.0   \n158933       2          0     Ht Pump  Y        NaN      4      2  1880.0   \n158934       1          1     Ht Pump  Y        NaN      3      1  1880.0   \n158935       1          0     Ht Pump  Y        NaN      3      1  1880.0   \n158936       1          0     Ht Pump  Y        NaN      3      1  1880.0   \n158937       1          0  Forced Air  Y        NaN      4      2  1992.0   \n158938       2          0   Warm Cool  Y        NaN      7      4  1992.0   \n158939       1          0  Forced Air  Y        NaN      4      2  1992.0   \n158940       2          0  Forced Air  Y        NaN      7      4  1992.0   \n158941       1          0  Forced Air  Y        NaN      4      2  1992.0   \n158942       2          0  Forced Air  Y        NaN      7      4  1992.0   \n158943       2          1  Forced Air  Y        NaN      5      2  2004.0   \n158944       2          1  Forced Air  Y        NaN      5      2  2004.0   \n158945       1          0  Forced Air  Y        NaN      3      1  1938.0   \n158946       1          0  Forced Air  Y        NaN      4      2  1938.0   \n158947       2          0  Forced Air  Y        NaN      4      2  1938.0   \n158948       2          0  Forced Air  Y        NaN      4      2  1938.0   \n158949       1          1  Forced Air  Y        NaN      4      1  1938.0   \n158950       3          0  Forced Air  Y        NaN      5      3  1938.0   \n158951       3          1  Forced Air  Y        NaN      5      3  1938.0   \n158952       1          0  Forced Air  Y        NaN      3      1  1938.0   \n158953       1          0  Forced Air  Y        NaN      4      2  1938.0   \n158954       2          0  Forced Air  Y        NaN      4      2  1920.0   \n158955       1          0   Warm Cool  Y        NaN      2      0  1965.0   \n158956       1          0   Warm Cool  Y        NaN      2      0  1965.0   \n\n        YR_RMDL   EYB   ...     LONGITUDE       ASSESSMENT_NBHD  \\\n106696   2016.0  1919   ...    -77.021312      Columbia Heights   \n106697   2016.0  1919   ...    -77.021312      Columbia Heights   \n106698   2016.0  1919   ...    -77.021312      Columbia Heights   \n106699   2016.0  1919   ...    -77.021312      Columbia Heights   \n106700   2016.0  1919   ...    -77.021312      Columbia Heights   \n106701   2016.0  1919   ...    -77.021312      Columbia Heights   \n106702   2016.0  1919   ...    -77.021312      Columbia Heights   \n106703   2016.0  1919   ...    -77.021312      Columbia Heights   \n106704   2016.0  1919   ...    -77.021312      Columbia Heights   \n106705   2016.0  1919   ...    -77.021312      Columbia Heights   \n106706   2016.0  1919   ...    -77.021312      Columbia Heights   \n106707      NaN  2007   ...    -77.010407               Chillum   \n106708      NaN  2007   ...    -77.010407               Chillum   \n106709      NaN  2007   ...    -77.010407               Chillum   \n106710      NaN  2007   ...    -77.010407               Chillum   \n106711      NaN  2007   ...    -77.010407               Chillum   \n106712      NaN  2007   ...    -77.010407               Chillum   \n106713      NaN  2007   ...    -77.010407               Chillum   \n106714   2009.0  1937   ...    -77.012602              Petworth   \n106715   2009.0  1937   ...    -77.012602              Petworth   \n106716   2009.0  1937   ...    -77.012602              Petworth   \n106717   2009.0  1937   ...    -77.012602              Petworth   \n106718   2017.0  1937   ...    -77.012602              Petworth   \n106719   2017.0  1937   ...    -77.012602              Petworth   \n106720      NaN  2004   ...    -77.014271  Southwest Waterfront   \n106721      NaN  2004   ...    -77.014271  Southwest Waterfront   \n106722      NaN  2004   ...    -77.014271  Southwest Waterfront   \n106723      NaN  2004   ...    -77.014271  Southwest Waterfront   \n106724      NaN  2004   ...    -77.014271  Southwest Waterfront   \n106725      NaN  2004   ...    -77.014271  Southwest Waterfront   \n...         ...   ...   ...           ...                   ...   \n158927   1993.0  1993   ...    -77.019274            Old City 2   \n158928      NaN  2013   ...    -77.019274            Old City 2   \n158929      NaN  2013   ...    -77.019274            Old City 2   \n158930   2003.0  1919   ...    -77.019243            Old City 2   \n158931   2003.0  1919   ...    -77.019243            Old City 2   \n158932   2003.0  1919   ...    -77.019243            Old City 2   \n158933   2016.0  1919   ...    -77.019243            Old City 2   \n158934   2016.0  1919   ...    -77.019243            Old City 2   \n158935   2016.0  1919   ...    -77.019243            Old City 2   \n158936   2016.0  1919   ...    -77.019243            Old City 2   \n158937   1992.0  1992   ...    -77.019420            Old City 2   \n158938   1992.0  1992   ...    -77.019420            Old City 2   \n158939   1992.0  1992   ...    -77.019420            Old City 2   \n158940   1992.0  1992   ...    -77.019420            Old City 2   \n158941   1992.0  1992   ...    -77.019420            Old City 2   \n158942   1992.0  1992   ...    -77.019420            Old City 2   \n158943   2004.0  2004   ...    -77.019420            Old City 2   \n158944   2004.0  2004   ...    -77.019420            Old City 2   \n158945   2006.0  1938   ...    -77.019420            Old City 2   \n158946   2006.0  1938   ...    -77.019420            Old City 2   \n158947   2006.0  1938   ...    -77.019420            Old City 2   \n158948   2006.0  1938   ...    -77.019420            Old City 2   \n158949   2006.0  1938   ...    -77.019420            Old City 2   \n158950   2006.0  1938   ...    -77.019420            Old City 2   \n158951   2006.0  1938   ...    -77.019420            Old City 2   \n158952   2006.0  1938   ...    -77.019420            Old City 2   \n158953   2006.0  1938   ...    -77.019420            Old City 2   \n158954   2007.0  1920   ...    -77.019420            Old City 2   \n158955      NaN  1965   ...    -77.018230  Southwest Waterfront   \n158956      NaN  1965   ...    -77.018230  Southwest Waterfront   \n\n            ASSESSMENT_SUBNBHD CENSUS_TRACT  CENSUS_BLOCK    WARD  SQUARE  \\\n106696  015 C Columbia Heights       3200.0           NaN  Ward 1    3037   \n106697  015 C Columbia Heights       3200.0           NaN  Ward 1    3037   \n106698  015 C Columbia Heights       3200.0           NaN  Ward 1    3037   \n106699  015 C Columbia Heights       3200.0           NaN  Ward 1    3037   \n106700  015 C Columbia Heights       3200.0           NaN  Ward 1    3037   \n106701  015 C Columbia Heights       3200.0           NaN  Ward 1    3037   \n106702  015 C Columbia Heights       3200.0           NaN  Ward 1    3037   \n106703  015 C Columbia Heights       3200.0           NaN  Ward 1    3037   \n106704  015 C Columbia Heights       3200.0           NaN  Ward 1    3037   \n106705  015 C Columbia Heights       3200.0           NaN  Ward 1    3037   \n106706  015 C Columbia Heights       3200.0           NaN  Ward 1    3037   \n106707                     NaN       2102.0           NaN  Ward 4    3393   \n106708                     NaN       2102.0           NaN  Ward 4    3393   \n106709                     NaN       2102.0           NaN  Ward 4    3393   \n106710                     NaN       2102.0           NaN  Ward 4    3393   \n106711                     NaN       2102.0           NaN  Ward 4    3393   \n106712                     NaN       2102.0           NaN  Ward 4    3393   \n106713                     NaN       2102.0           NaN  Ward 4    3393   \n106714          042 C Petworth       2102.0           NaN  Ward 4    3399   \n106715          042 C Petworth       2102.0           NaN  Ward 4    3399   \n106716          042 C Petworth       2102.0           NaN  Ward 4    3399   \n106717          042 C Petworth       2102.0           NaN  Ward 4    3399   \n106718          042 C Petworth       2102.0           NaN  Ward 4    3399   \n106719          042 C Petworth       2102.0           NaN  Ward 4    3399   \n106720                     NaN      10500.0           NaN  Ward 6    0540   \n106721                     NaN      10500.0           NaN  Ward 6    0540   \n106722                     NaN      10500.0           NaN  Ward 6    0540   \n106723                     NaN      10500.0           NaN  Ward 6    0540   \n106724                     NaN      10500.0           NaN  Ward 6    0540   \n106725                     NaN      10500.0           NaN  Ward 6    0540   \n...                        ...          ...           ...     ...     ...   \n158927        040 G Old City 2       4801.0           NaN  Ward 6     475   \n158928        040 G Old City 2       4801.0           NaN  Ward 6     475   \n158929        040 G Old City 2       4801.0           NaN  Ward 6     475   \n158930        040 B Old City 2       4801.0           NaN  Ward 6     476   \n158931        040 B Old City 2       4801.0           NaN  Ward 6     476   \n158932        040 B Old City 2       4801.0           NaN  Ward 6     476   \n158933        040 B Old City 2       4801.0           NaN  Ward 6     476   \n158934        040 B Old City 2       4801.0           NaN  Ward 6     476   \n158935        040 B Old City 2       4801.0           NaN  Ward 6     476   \n158936        040 B Old City 2       4801.0           NaN  Ward 6     476   \n158937        040 B Old City 2       4801.0           NaN  Ward 6     477   \n158938        040 B Old City 2       4801.0           NaN  Ward 6     477   \n158939        040 B Old City 2       4801.0           NaN  Ward 6     477   \n158940        040 B Old City 2       4801.0           NaN  Ward 6     477   \n158941        040 B Old City 2       4801.0           NaN  Ward 6     477   \n158942        040 B Old City 2       4801.0           NaN  Ward 6     477   \n158943        040 B Old City 2       4801.0           NaN  Ward 6     477   \n158944        040 B Old City 2       4801.0           NaN  Ward 6     477   \n158945        040 B Old City 2       4801.0           NaN  Ward 6     477   \n158946        040 B Old City 2       4801.0           NaN  Ward 6     477   \n158947        040 B Old City 2       4801.0           NaN  Ward 6     477   \n158948        040 B Old City 2       4801.0           NaN  Ward 6     477   \n158949        040 B Old City 2       4801.0           NaN  Ward 6     477   \n158950        040 B Old City 2       4801.0           NaN  Ward 6     477   \n158951        040 B Old City 2       4801.0           NaN  Ward 6     477   \n158952        040 B Old City 2       4801.0           NaN  Ward 6     477   \n158953        040 B Old City 2       4801.0           NaN  Ward 6     477   \n158954        040 B Old City 2       4801.0           NaN  Ward 6     477   \n158955                     NaN      11000.0           NaN  Ward 6     504   \n158956                     NaN      11000.0           NaN  Ward 6     504   \n\n                X          Y QUADRANT  \n106696 -77.021314  38.933613       NW  \n106697 -77.021314  38.933613       NW  \n106698 -77.021314  38.933613       NW  \n106699 -77.021314  38.933613       NW  \n106700 -77.021314  38.933613       NW  \n106701 -77.021314  38.933613       NW  \n106702 -77.021314  38.933613       NW  \n106703 -77.021314  38.933613       NW  \n106704 -77.021314  38.933613       NW  \n106705 -77.021314  38.933613       NW  \n106706 -77.021314  38.933613       NW  \n106707 -77.010410  38.955767       NW  \n106708 -77.010410  38.955767       NW  \n106709 -77.010410  38.955767       NW  \n106710 -77.010410  38.955767       NW  \n106711 -77.010410  38.955767       NW  \n106712 -77.010410  38.955767       NW  \n106713 -77.010410  38.955767       NW  \n106714 -77.012605  38.952882       NW  \n106715 -77.012605  38.952882       NW  \n106716 -77.012605  38.952882       NW  \n106717 -77.012605  38.952882       NW  \n106718 -77.012605  38.952882       NW  \n106719 -77.012605  38.952882       NW  \n106720 -77.014273  38.880828       SW  \n106721 -77.014273  38.880828       SW  \n106722 -77.014273  38.880828       SW  \n106723 -77.014273  38.880828       SW  \n106724 -77.014273  38.880828       SW  \n106725 -77.014273  38.880828       SW  \n...           ...        ...      ...  \n158927 -77.019277  38.914287       NW  \n158928 -77.019277  38.914287       NW  \n158929 -77.019277  38.914287       NW  \n158930 -77.019245  38.912954       NW  \n158931 -77.019245  38.912954       NW  \n158932 -77.019245  38.912954       NW  \n158933 -77.019245  38.912954       NW  \n158934 -77.019245  38.912954       NW  \n158935 -77.019245  38.912954       NW  \n158936 -77.019245  38.912954       NW  \n158937 -77.019422  38.911848       NW  \n158938 -77.019422  38.911848       NW  \n158939 -77.019422  38.911848       NW  \n158940 -77.019422  38.911848       NW  \n158941 -77.019422  38.911848       NW  \n158942 -77.019422  38.911848       NW  \n158943 -77.019422  38.911848       NW  \n158944 -77.019422  38.911848       NW  \n158945 -77.019422  38.911848       NW  \n158946 -77.019422  38.911848       NW  \n158947 -77.019422  38.911848       NW  \n158948 -77.019422  38.911848       NW  \n158949 -77.019422  38.911848       NW  \n158950 -77.019422  38.911848       NW  \n158951 -77.019422  38.911848       NW  \n158952 -77.019422  38.911848       NW  \n158953 -77.019422  38.911848       NW  \n158954 -77.019422  38.911848       NW  \n158955 -77.018232  38.872961       SW  \n158956 -77.018232  38.872961       SW  \n\n[52261 rows x 48 columns]"
          },
          "metadata": {}
        }
      ]
    },
    {
      "metadata": {
        "trusted": true,
        "scrolled": true
      },
      "cell_type": "code",
      "source": "missing = ((dcdfB['NUM_UNITS'].isnull()) & dcdfB['CNDTN'].isnull())\ndcdfB.loc[missing]\nprint ((dcdfB.loc[missing]).count())",
      "execution_count": 152,
      "outputs": [
        {
          "output_type": "stream",
          "text": "BATHRM                52261\nHF_BATHRM             52261\nHEAT                  52261\nAC                    52261\nNUM_UNITS                 0\nROOMS                 52261\nBEDRM                 52261\nAYB                   52231\nYR_RMDL               31649\nEYB                   52261\nSTORIES                   0\nSALEDATE              48004\nPRICE                 40316\nQUALIFIED             52261\nSALE_NUM              52261\nGBA                       0\nBLDG_NUM              52261\nSTYLE                     0\nSTRUCT                    0\nGRADE                     0\nCNDTN                     0\nEXTWALL                   0\nROOF                      0\nINTWALL                   0\nKITCHENS                  0\nFIREPLACES            52261\nUSECODE               52261\nLANDAREA              52261\nGIS_LAST_MOD_DTTM     52261\nSOURCE                52261\nCMPLX_NUM             52261\nLIVING_GBA            52261\nFULLADDRESS               0\nCITY                  52261\nSTATE                 52261\nZIPCODE               52261\nNATIONALGRID              0\nLATITUDE              52261\nLONGITUDE             52261\nASSESSMENT_NBHD       52261\nASSESSMENT_SUBNBHD    35246\nCENSUS_TRACT          52261\nCENSUS_BLOCK              0\nWARD                  52261\nSQUARE                52261\nX                     52261\nY                     52261\nQUADRANT              52261\ndtype: int64\n",
          "name": "stdout"
        }
      ]
    },
    {
      "metadata": {
        "trusted": true
      },
      "cell_type": "code",
      "source": "dcdfC = dcdfB.dropna(subset=['NUM_UNITS'])",
      "execution_count": 153,
      "outputs": []
    },
    {
      "metadata": {
        "trusted": true
      },
      "cell_type": "code",
      "source": "dcdfC.count()",
      "execution_count": 154,
      "outputs": [
        {
          "output_type": "execute_result",
          "execution_count": 154,
          "data": {
            "text/plain": "BATHRM                106695\nHF_BATHRM             106695\nHEAT                  106695\nAC                    106695\nNUM_UNITS             106695\nROOMS                 106695\nBEDRM                 106695\nAYB                   106454\nYR_RMDL                49279\nEYB                   106695\nSTORIES               106651\nSALEDATE               84182\nPRICE                  57900\nQUALIFIED             106695\nSALE_NUM              106695\nGBA                   106695\nBLDG_NUM              106695\nSTYLE                 106695\nSTRUCT                106695\nGRADE                 106695\nCNDTN                 106695\nEXTWALL               106695\nROOF                  106695\nINTWALL               106695\nKITCHENS              106694\nFIREPLACES            106695\nUSECODE               106695\nLANDAREA              106695\nGIS_LAST_MOD_DTTM     106695\nSOURCE                106695\nCMPLX_NUM                  0\nLIVING_GBA                 0\nFULLADDRESS           106040\nCITY                  106695\nSTATE                 106695\nZIPCODE               106695\nNATIONALGRID          106051\nLATITUDE              106695\nLONGITUDE             106695\nASSESSMENT_NBHD       106695\nASSESSMENT_SUBNBHD     91160\nCENSUS_TRACT          106695\nCENSUS_BLOCK          106051\nWARD                  106695\nSQUARE                106695\nX                     106459\nY                     106459\nQUADRANT              106459\ndtype: int64"
          },
          "metadata": {}
        }
      ]
    },
    {
      "metadata": {
        "trusted": true
      },
      "cell_type": "code",
      "source": "# dealing with the empty kitchen record\ndcdfC[dcdfC['KITCHENS'].isnull()]",
      "execution_count": 155,
      "outputs": [
        {
          "output_type": "execute_result",
          "execution_count": 155,
          "data": {
            "text/html": "<div>\n<style scoped>\n    .dataframe tbody tr th:only-of-type {\n        vertical-align: middle;\n    }\n\n    .dataframe tbody tr th {\n        vertical-align: top;\n    }\n\n    .dataframe thead th {\n        text-align: right;\n    }\n</style>\n<table border=\"1\" class=\"dataframe\">\n  <thead>\n    <tr style=\"text-align: right;\">\n      <th></th>\n      <th>BATHRM</th>\n      <th>HF_BATHRM</th>\n      <th>HEAT</th>\n      <th>AC</th>\n      <th>NUM_UNITS</th>\n      <th>ROOMS</th>\n      <th>BEDRM</th>\n      <th>AYB</th>\n      <th>YR_RMDL</th>\n      <th>EYB</th>\n      <th>...</th>\n      <th>LONGITUDE</th>\n      <th>ASSESSMENT_NBHD</th>\n      <th>ASSESSMENT_SUBNBHD</th>\n      <th>CENSUS_TRACT</th>\n      <th>CENSUS_BLOCK</th>\n      <th>WARD</th>\n      <th>SQUARE</th>\n      <th>X</th>\n      <th>Y</th>\n      <th>QUADRANT</th>\n    </tr>\n  </thead>\n  <tbody>\n    <tr>\n      <th>100629</th>\n      <td>2</td>\n      <td>1</td>\n      <td>Forced Air</td>\n      <td>Y</td>\n      <td>1.0</td>\n      <td>6</td>\n      <td>3</td>\n      <td>2016.0</td>\n      <td>NaN</td>\n      <td>2017</td>\n      <td>...</td>\n      <td>-76.972312</td>\n      <td>Randle Heights</td>\n      <td>043 A Randle Heights</td>\n      <td>7605.0</td>\n      <td>007605 2001</td>\n      <td>Ward 8</td>\n      <td>5627</td>\n      <td>-76.973009</td>\n      <td>38.867576</td>\n      <td>SE</td>\n    </tr>\n  </tbody>\n</table>\n<p>1 rows × 48 columns</p>\n</div>",
            "text/plain": "        BATHRM  HF_BATHRM        HEAT AC  NUM_UNITS  ROOMS  BEDRM     AYB  \\\n100629       2          1  Forced Air  Y        1.0      6      3  2016.0   \n\n        YR_RMDL   EYB   ...     LONGITUDE ASSESSMENT_NBHD  \\\n100629      NaN  2017   ...    -76.972312  Randle Heights   \n\n          ASSESSMENT_SUBNBHD CENSUS_TRACT  CENSUS_BLOCK    WARD  SQUARE  \\\n100629  043 A Randle Heights       7605.0   007605 2001  Ward 8    5627   \n\n                X          Y QUADRANT  \n100629 -76.973009  38.867576       SE  \n\n[1 rows x 48 columns]"
          },
          "metadata": {}
        }
      ]
    },
    {
      "metadata": {
        "trusted": true,
        "scrolled": true
      },
      "cell_type": "code",
      "source": "dcdfC.iloc[100629]",
      "execution_count": 156,
      "outputs": [
        {
          "output_type": "execute_result",
          "execution_count": 156,
          "data": {
            "text/plain": "BATHRM                                   2\nHF_BATHRM                                1\nHEAT                            Forced Air\nAC                                       Y\nNUM_UNITS                                1\nROOMS                                    6\nBEDRM                                    3\nAYB                                   2016\nYR_RMDL                                NaN\nEYB                                   2017\nSTORIES                                  2\nSALEDATE               2017-02-07 00:00:00\nPRICE                               430000\nQUALIFIED                                Q\nSALE_NUM                                 3\nGBA                                   2160\nBLDG_NUM                                 1\nSTYLE                              2 Story\nSTRUCT                              Single\nGRADE                        Above Average\nCNDTN                                 Good\nEXTWALL                       Vinyl Siding\nROOF                              Built Up\nINTWALL                           Hardwood\nKITCHENS                               NaN\nFIREPLACES                               0\nUSECODE                                 12\nLANDAREA                              2500\nGIS_LAST_MOD_DTTM      2018-07-22 18:01:43\nSOURCE                         Residential\nCMPLX_NUM                              NaN\nLIVING_GBA                             NaN\nFULLADDRESS               2353 S STREET SE\nCITY                            WASHINGTON\nSTATE                                   DC\nZIPCODE                              20020\nNATIONALGRID            18S UJ 28890 03982\nLATITUDE                            38.868\nLONGITUDE                         -76.9723\nASSESSMENT_NBHD             Randle Heights\nASSESSMENT_SUBNBHD    043 A Randle Heights\nCENSUS_TRACT                          7605\nCENSUS_BLOCK                   007605 2001\nWARD                                Ward 8\nSQUARE                                5627\nX                                  -76.973\nY                                  38.8676\nQUADRANT                                SE\nName: 100629, dtype: object"
          },
          "metadata": {}
        }
      ]
    },
    {
      "metadata": {
        "trusted": true
      },
      "cell_type": "code",
      "source": "dcdfC.loc[(dcdfC['AYB'] == 2016) & (dcdfC['ASSESSMENT_SUBNBHD'] == '043 A Randle Heights')]",
      "execution_count": 157,
      "outputs": [
        {
          "output_type": "execute_result",
          "execution_count": 157,
          "data": {
            "text/html": "<div>\n<style scoped>\n    .dataframe tbody tr th:only-of-type {\n        vertical-align: middle;\n    }\n\n    .dataframe tbody tr th {\n        vertical-align: top;\n    }\n\n    .dataframe thead th {\n        text-align: right;\n    }\n</style>\n<table border=\"1\" class=\"dataframe\">\n  <thead>\n    <tr style=\"text-align: right;\">\n      <th></th>\n      <th>BATHRM</th>\n      <th>HF_BATHRM</th>\n      <th>HEAT</th>\n      <th>AC</th>\n      <th>NUM_UNITS</th>\n      <th>ROOMS</th>\n      <th>BEDRM</th>\n      <th>AYB</th>\n      <th>YR_RMDL</th>\n      <th>EYB</th>\n      <th>...</th>\n      <th>LONGITUDE</th>\n      <th>ASSESSMENT_NBHD</th>\n      <th>ASSESSMENT_SUBNBHD</th>\n      <th>CENSUS_TRACT</th>\n      <th>CENSUS_BLOCK</th>\n      <th>WARD</th>\n      <th>SQUARE</th>\n      <th>X</th>\n      <th>Y</th>\n      <th>QUADRANT</th>\n    </tr>\n  </thead>\n  <tbody>\n    <tr>\n      <th>98235</th>\n      <td>3</td>\n      <td>1</td>\n      <td>Warm Cool</td>\n      <td>Y</td>\n      <td>1.0</td>\n      <td>13</td>\n      <td>3</td>\n      <td>2016.0</td>\n      <td>NaN</td>\n      <td>2017</td>\n      <td>...</td>\n      <td>-76.973452</td>\n      <td>Randle Heights</td>\n      <td>043 A Randle Heights</td>\n      <td>7601.0</td>\n      <td>007601 2005</td>\n      <td>Ward 8</td>\n      <td>5590</td>\n      <td>-76.974108</td>\n      <td>38.870110</td>\n      <td>SE</td>\n    </tr>\n    <tr>\n      <th>100629</th>\n      <td>2</td>\n      <td>1</td>\n      <td>Forced Air</td>\n      <td>Y</td>\n      <td>1.0</td>\n      <td>6</td>\n      <td>3</td>\n      <td>2016.0</td>\n      <td>NaN</td>\n      <td>2017</td>\n      <td>...</td>\n      <td>-76.972312</td>\n      <td>Randle Heights</td>\n      <td>043 A Randle Heights</td>\n      <td>7605.0</td>\n      <td>007605 2001</td>\n      <td>Ward 8</td>\n      <td>5627</td>\n      <td>-76.973009</td>\n      <td>38.867576</td>\n      <td>SE</td>\n    </tr>\n  </tbody>\n</table>\n<p>2 rows × 48 columns</p>\n</div>",
            "text/plain": "        BATHRM  HF_BATHRM        HEAT AC  NUM_UNITS  ROOMS  BEDRM     AYB  \\\n98235        3          1   Warm Cool  Y        1.0     13      3  2016.0   \n100629       2          1  Forced Air  Y        1.0      6      3  2016.0   \n\n        YR_RMDL   EYB   ...     LONGITUDE ASSESSMENT_NBHD  \\\n98235       NaN  2017   ...    -76.973452  Randle Heights   \n100629      NaN  2017   ...    -76.972312  Randle Heights   \n\n          ASSESSMENT_SUBNBHD CENSUS_TRACT  CENSUS_BLOCK    WARD  SQUARE  \\\n98235   043 A Randle Heights       7601.0   007601 2005  Ward 8    5590   \n100629  043 A Randle Heights       7605.0   007605 2001  Ward 8    5627   \n\n                X          Y QUADRANT  \n98235  -76.974108  38.870110       SE  \n100629 -76.973009  38.867576       SE  \n\n[2 rows x 48 columns]"
          },
          "metadata": {}
        }
      ]
    },
    {
      "metadata": {
        "trusted": true,
        "scrolled": true
      },
      "cell_type": "code",
      "source": "dcdfC.iloc[98235]",
      "execution_count": 158,
      "outputs": [
        {
          "output_type": "execute_result",
          "execution_count": 158,
          "data": {
            "text/plain": "BATHRM                                   3\nHF_BATHRM                                1\nHEAT                             Warm Cool\nAC                                       Y\nNUM_UNITS                                1\nROOMS                                   13\nBEDRM                                    3\nAYB                                   2016\nYR_RMDL                                NaN\nEYB                                   2017\nSTORIES                                  2\nSALEDATE               2015-12-17 00:00:00\nPRICE                                  NaN\nQUALIFIED                                U\nSALE_NUM                                 3\nGBA                                   4362\nBLDG_NUM                                 1\nSTYLE                              2 Story\nSTRUCT                              Single\nGRADE                        Above Average\nCNDTN                                 Good\nEXTWALL                       Vinyl Siding\nROOF                          Comp Shingle\nINTWALL                           Hardwood\nKITCHENS                                 1\nFIREPLACES                               0\nUSECODE                                 12\nLANDAREA                              2500\nGIS_LAST_MOD_DTTM      2018-07-22 18:01:43\nSOURCE                         Residential\nCMPLX_NUM                              NaN\nLIVING_GBA                             NaN\nFULLADDRESS            1609 23RD STREET SE\nCITY                            WASHINGTON\nSTATE                                   DC\nZIPCODE                              20020\nNATIONALGRID            18S UJ 28795 04182\nLATITUDE                           38.8698\nLONGITUDE                         -76.9735\nASSESSMENT_NBHD             Randle Heights\nASSESSMENT_SUBNBHD    043 A Randle Heights\nCENSUS_TRACT                          7601\nCENSUS_BLOCK                   007601 2005\nWARD                                Ward 8\nSQUARE                                5590\nX                                 -76.9741\nY                                  38.8701\nQUADRANT                                SE\nName: 98235, dtype: object"
          },
          "metadata": {}
        }
      ]
    },
    {
      "metadata": {
        "trusted": true
      },
      "cell_type": "code",
      "source": "dcdfC[\"KITCHENS\"].fillna(\"1\", inplace=True)",
      "execution_count": 160,
      "outputs": []
    },
    {
      "metadata": {
        "trusted": true
      },
      "cell_type": "code",
      "source": "dcdfC.count()",
      "execution_count": 161,
      "outputs": [
        {
          "output_type": "execute_result",
          "execution_count": 161,
          "data": {
            "text/plain": "BATHRM                106695\nHF_BATHRM             106695\nHEAT                  106695\nAC                    106695\nNUM_UNITS             106695\nROOMS                 106695\nBEDRM                 106695\nAYB                   106454\nYR_RMDL                49279\nEYB                   106695\nSTORIES               106651\nSALEDATE               84182\nPRICE                  57900\nQUALIFIED             106695\nSALE_NUM              106695\nGBA                   106695\nBLDG_NUM              106695\nSTYLE                 106695\nSTRUCT                106695\nGRADE                 106695\nCNDTN                 106695\nEXTWALL               106695\nROOF                  106695\nINTWALL               106695\nKITCHENS              106695\nFIREPLACES            106695\nUSECODE               106695\nLANDAREA              106695\nGIS_LAST_MOD_DTTM     106695\nSOURCE                106695\nCMPLX_NUM                  0\nLIVING_GBA                 0\nFULLADDRESS           106040\nCITY                  106695\nSTATE                 106695\nZIPCODE               106695\nNATIONALGRID          106051\nLATITUDE              106695\nLONGITUDE             106695\nASSESSMENT_NBHD       106695\nASSESSMENT_SUBNBHD     91160\nCENSUS_TRACT          106695\nCENSUS_BLOCK          106051\nWARD                  106695\nSQUARE                106695\nX                     106459\nY                     106459\nQUADRANT              106459\ndtype: int64"
          },
          "metadata": {}
        }
      ]
    },
    {
      "metadata": {
        "trusted": true
      },
      "cell_type": "code",
      "source": "# Clean up grades\ndcdfC['GRADE'].unique()",
      "execution_count": 162,
      "outputs": [
        {
          "output_type": "execute_result",
          "execution_count": 162,
          "data": {
            "text/plain": "array(['Very Good', 'Above Average', 'Good Quality', 'Excellent',\n       'Average', 'Superior', 'Fair Quality', 'Exceptional-D',\n       'Exceptional-C', 'Low Quality', 'Exceptional-A', 'Exceptional-B',\n       'No Data'], dtype=object)"
          },
          "metadata": {}
        }
      ]
    },
    {
      "metadata": {
        "trusted": true
      },
      "cell_type": "code",
      "source": "dcdfC['GRADE'].value_counts()",
      "execution_count": 163,
      "outputs": [
        {
          "output_type": "execute_result",
          "execution_count": 163,
          "data": {
            "text/plain": "Average          37356\nAbove Average    32101\nGood Quality     20800\nVery Good         8976\nExcellent         3390\nSuperior          2634\nExceptional-A      818\nExceptional-B      278\nFair Quality       150\nExceptional-C       92\nExceptional-D       75\nNo Data             19\nLow Quality          6\nName: GRADE, dtype: int64"
          },
          "metadata": {}
        }
      ]
    },
    {
      "metadata": {
        "trusted": true
      },
      "cell_type": "code",
      "source": "# lump all exceptionals into one group, change Superior to Excellent, Above Average to Very Good, and Average to Good Quality, remove Quality from values\n\ndcdfC.loc[dcdfC['GRADE']=='Exceptional-A', 'GRADE'] = 'Exceptional'\ndcdfC.loc[dcdfC['GRADE']=='Exceptional-B', 'GRADE'] = 'Exceptional'\ndcdfC.loc[dcdfC['GRADE']=='Exceptional-C', 'GRADE'] = 'Exceptional'\ndcdfC.loc[dcdfC['GRADE']=='Exceptional-D', 'GRADE'] = 'Exceptional'\ndcdfC.loc[dcdfC['GRADE']=='Superior', 'GRADE'] = 'Excellent'\ndcdfC.loc[dcdfC['GRADE']=='Above Average', 'GRADE'] = 'Very Good'\ndcdfC.loc[dcdfC['GRADE']=='Average', 'GRADE'] = 'Good Quality'\ndcdfC.loc[dcdfC['GRADE']=='Good Quality', 'GRADE'] = 'Good'\ndcdfC.loc[dcdfC['GRADE']=='Fair Quality', 'GRADE'] = 'Fair'\ndcdfC.loc[dcdfC['GRADE']=='Low Quality', 'GRADE'] = 'Low'\ndcdfC['GRADE'].unique()\n",
      "execution_count": 164,
      "outputs": [
        {
          "output_type": "stream",
          "text": "/home/nbuser/anaconda3_501/lib/python3.6/site-packages/pandas/core/indexing.py:543: SettingWithCopyWarning: \nA value is trying to be set on a copy of a slice from a DataFrame.\nTry using .loc[row_indexer,col_indexer] = value instead\n\nSee the caveats in the documentation: http://pandas.pydata.org/pandas-docs/stable/indexing.html#indexing-view-versus-copy\n  self.obj[item] = s\n",
          "name": "stderr"
        },
        {
          "output_type": "execute_result",
          "execution_count": 164,
          "data": {
            "text/plain": "array(['Very Good', 'Good', 'Excellent', 'Fair', 'Exceptional', 'Low',\n       'No Data'], dtype=object)"
          },
          "metadata": {}
        }
      ]
    },
    {
      "metadata": {
        "trusted": true
      },
      "cell_type": "code",
      "source": "# Map Grades to a number value\n\ndef GRADE_to_numeric(x):\n    if x=='Low':\n        return 1\n    if x=='Fair':\n        return 2\n    if x=='Good':\n        return 3\n    if x=='Very Good':\n        return 4\n    if x=='Excellent':\n        return 5\n    if x=='Exceptional':\n        return 0\n    if x=='No Data':\n        return 0\n    \ndcdfC['GRADE_NUM'] = dcdfC['GRADE'].apply(GRADE_to_numeric)\ndcdfC.head()",
      "execution_count": 172,
      "outputs": [
        {
          "output_type": "stream",
          "text": "/home/nbuser/anaconda3_501/lib/python3.6/site-packages/ipykernel/__main__.py:19: SettingWithCopyWarning: \nA value is trying to be set on a copy of a slice from a DataFrame.\nTry using .loc[row_indexer,col_indexer] = value instead\n\nSee the caveats in the documentation: http://pandas.pydata.org/pandas-docs/stable/indexing.html#indexing-view-versus-copy\n",
          "name": "stderr"
        },
        {
          "output_type": "execute_result",
          "execution_count": 172,
          "data": {
            "text/html": "<div>\n<style scoped>\n    .dataframe tbody tr th:only-of-type {\n        vertical-align: middle;\n    }\n\n    .dataframe tbody tr th {\n        vertical-align: top;\n    }\n\n    .dataframe thead th {\n        text-align: right;\n    }\n</style>\n<table border=\"1\" class=\"dataframe\">\n  <thead>\n    <tr style=\"text-align: right;\">\n      <th></th>\n      <th>BATHRM</th>\n      <th>HF_BATHRM</th>\n      <th>HEAT</th>\n      <th>AC</th>\n      <th>NUM_UNITS</th>\n      <th>ROOMS</th>\n      <th>BEDRM</th>\n      <th>AYB</th>\n      <th>YR_RMDL</th>\n      <th>EYB</th>\n      <th>...</th>\n      <th>ASSESSMENT_NBHD</th>\n      <th>ASSESSMENT_SUBNBHD</th>\n      <th>CENSUS_TRACT</th>\n      <th>CENSUS_BLOCK</th>\n      <th>WARD</th>\n      <th>SQUARE</th>\n      <th>X</th>\n      <th>Y</th>\n      <th>QUADRANT</th>\n      <th>GRADE_NUM</th>\n    </tr>\n  </thead>\n  <tbody>\n    <tr>\n      <th>0</th>\n      <td>4</td>\n      <td>0</td>\n      <td>Warm Cool</td>\n      <td>Y</td>\n      <td>2.0</td>\n      <td>8</td>\n      <td>4</td>\n      <td>1910.0</td>\n      <td>1988.0</td>\n      <td>1972</td>\n      <td>...</td>\n      <td>Old City 2</td>\n      <td>040 D Old City 2</td>\n      <td>4201.0</td>\n      <td>004201 2006</td>\n      <td>Ward 2</td>\n      <td>152</td>\n      <td>-77.040429</td>\n      <td>38.914881</td>\n      <td>NW</td>\n      <td>4</td>\n    </tr>\n    <tr>\n      <th>1</th>\n      <td>3</td>\n      <td>1</td>\n      <td>Warm Cool</td>\n      <td>Y</td>\n      <td>2.0</td>\n      <td>11</td>\n      <td>5</td>\n      <td>1898.0</td>\n      <td>2007.0</td>\n      <td>1972</td>\n      <td>...</td>\n      <td>Old City 2</td>\n      <td>040 D Old City 2</td>\n      <td>4201.0</td>\n      <td>004201 2006</td>\n      <td>Ward 2</td>\n      <td>152</td>\n      <td>-77.040429</td>\n      <td>38.914881</td>\n      <td>NW</td>\n      <td>4</td>\n    </tr>\n    <tr>\n      <th>2</th>\n      <td>3</td>\n      <td>1</td>\n      <td>Hot Water Rad</td>\n      <td>Y</td>\n      <td>2.0</td>\n      <td>9</td>\n      <td>5</td>\n      <td>1910.0</td>\n      <td>2009.0</td>\n      <td>1984</td>\n      <td>...</td>\n      <td>Old City 2</td>\n      <td>040 D Old City 2</td>\n      <td>4201.0</td>\n      <td>004201 2006</td>\n      <td>Ward 2</td>\n      <td>152</td>\n      <td>-77.040429</td>\n      <td>38.914881</td>\n      <td>NW</td>\n      <td>4</td>\n    </tr>\n    <tr>\n      <th>3</th>\n      <td>3</td>\n      <td>1</td>\n      <td>Hot Water Rad</td>\n      <td>Y</td>\n      <td>2.0</td>\n      <td>8</td>\n      <td>5</td>\n      <td>1900.0</td>\n      <td>2003.0</td>\n      <td>1984</td>\n      <td>...</td>\n      <td>Old City 2</td>\n      <td>040 D Old City 2</td>\n      <td>4201.0</td>\n      <td>004201 2006</td>\n      <td>Ward 2</td>\n      <td>152</td>\n      <td>-77.040429</td>\n      <td>38.914881</td>\n      <td>NW</td>\n      <td>4</td>\n    </tr>\n    <tr>\n      <th>4</th>\n      <td>2</td>\n      <td>1</td>\n      <td>Warm Cool</td>\n      <td>Y</td>\n      <td>1.0</td>\n      <td>11</td>\n      <td>3</td>\n      <td>1913.0</td>\n      <td>2012.0</td>\n      <td>1985</td>\n      <td>...</td>\n      <td>Old City 2</td>\n      <td>040 D Old City 2</td>\n      <td>4201.0</td>\n      <td>004201 2006</td>\n      <td>Ward 2</td>\n      <td>152</td>\n      <td>-77.040429</td>\n      <td>38.914881</td>\n      <td>NW</td>\n      <td>4</td>\n    </tr>\n  </tbody>\n</table>\n<p>5 rows × 49 columns</p>\n</div>",
            "text/plain": "   BATHRM  HF_BATHRM           HEAT AC  NUM_UNITS  ROOMS  BEDRM     AYB  \\\n0       4          0      Warm Cool  Y        2.0      8      4  1910.0   \n1       3          1      Warm Cool  Y        2.0     11      5  1898.0   \n2       3          1  Hot Water Rad  Y        2.0      9      5  1910.0   \n3       3          1  Hot Water Rad  Y        2.0      8      5  1900.0   \n4       2          1      Warm Cool  Y        1.0     11      3  1913.0   \n\n   YR_RMDL   EYB    ...     ASSESSMENT_NBHD ASSESSMENT_SUBNBHD  CENSUS_TRACT  \\\n0   1988.0  1972    ...          Old City 2   040 D Old City 2        4201.0   \n1   2007.0  1972    ...          Old City 2   040 D Old City 2        4201.0   \n2   2009.0  1984    ...          Old City 2   040 D Old City 2        4201.0   \n3   2003.0  1984    ...          Old City 2   040 D Old City 2        4201.0   \n4   2012.0  1985    ...          Old City 2   040 D Old City 2        4201.0   \n\n  CENSUS_BLOCK    WARD  SQUARE          X          Y QUADRANT GRADE_NUM  \n0  004201 2006  Ward 2     152 -77.040429  38.914881       NW         4  \n1  004201 2006  Ward 2     152 -77.040429  38.914881       NW         4  \n2  004201 2006  Ward 2     152 -77.040429  38.914881       NW         4  \n3  004201 2006  Ward 2     152 -77.040429  38.914881       NW         4  \n4  004201 2006  Ward 2     152 -77.040429  38.914881       NW         4  \n\n[5 rows x 49 columns]"
          },
          "metadata": {}
        }
      ]
    },
    {
      "metadata": {
        "trusted": true
      },
      "cell_type": "code",
      "source": "dcdfC['GRADE'].value_counts()",
      "execution_count": 173,
      "outputs": [
        {
          "output_type": "execute_result",
          "execution_count": 173,
          "data": {
            "text/plain": "Good           58156\nVery Good      41077\nExcellent       6024\nExceptional     1263\nFair             150\nNo Data           19\nLow                6\nName: GRADE, dtype: int64"
          },
          "metadata": {}
        }
      ]
    },
    {
      "metadata": {
        "trusted": true
      },
      "cell_type": "code",
      "source": "dcdfC['GRADE_NUM'].value_counts()",
      "execution_count": 174,
      "outputs": [
        {
          "output_type": "execute_result",
          "execution_count": 174,
          "data": {
            "text/plain": "3    58156\n4    41077\n5     6024\n0     1282\n2      150\n1        6\nName: GRADE_NUM, dtype: int64"
          },
          "metadata": {}
        }
      ]
    },
    {
      "metadata": {
        "trusted": true
      },
      "cell_type": "code",
      "source": "dcdf['EXTWALL'].value_counts()",
      "execution_count": 175,
      "outputs": [
        {
          "output_type": "execute_result",
          "execution_count": 175,
          "data": {
            "text/plain": "Common Brick      81068\nBrick/Siding       5569\nVinyl Siding       5290\nWood Siding        4540\nStucco             3216\nShingle            1181\nBrick Veneer       1069\nAluminum            954\nStone               744\nBrick/Stucco        673\nBrick/Stone         626\nFace Brick          512\nStone/Siding        339\nStone Veneer        254\nStone/Stucco        238\nHardboard           119\nConcrete             82\nMetal Siding         66\nConcrete Block       54\nStucco Block         51\nDefault              32\nPlywood              15\nAdobe                 2\nSPlaster              1\nRustic Log            1\nName: EXTWALL, dtype: int64"
          },
          "metadata": {}
        }
      ]
    },
    {
      "metadata": {
        "trusted": true
      },
      "cell_type": "code",
      "source": "dcdfC['KITCHENS'].value_counts()",
      "execution_count": 177,
      "outputs": [
        {
          "output_type": "execute_result",
          "execution_count": 177,
          "data": {
            "text/plain": "1.0     90435\n2.0     11903\n4.0      3051\n3.0      1173\n0.0       117\n5.0        11\n6.0         4\n44.0        1\nName: KITCHENS, dtype: int64"
          },
          "metadata": {}
        }
      ]
    },
    {
      "metadata": {
        "trusted": true
      },
      "cell_type": "code",
      "source": "# fix kitchens likely typo\ndcdfC.loc[dcdfC['KITCHENS']=='4.0', 'KITCHENS'] = 4.0\ndcdfC['KITCHENS'].unique()",
      "execution_count": 184,
      "outputs": [
        {
          "output_type": "execute_result",
          "execution_count": 184,
          "data": {
            "text/plain": "array([2, 1, 3, 4, 5, 0, 6])"
          },
          "metadata": {}
        }
      ]
    },
    {
      "metadata": {
        "trusted": true
      },
      "cell_type": "code",
      "source": "dcdfC['KITCHENS'].value_counts()",
      "execution_count": 185,
      "outputs": [
        {
          "output_type": "execute_result",
          "execution_count": 185,
          "data": {
            "text/plain": "1    90435\n2    11903\n4     3052\n3     1173\n0      117\n5       11\n6        4\nName: KITCHENS, dtype: int64"
          },
          "metadata": {}
        }
      ]
    },
    {
      "metadata": {
        "trusted": true
      },
      "cell_type": "code",
      "source": "dcdfC['FIREPLACES'].unique()",
      "execution_count": 186,
      "outputs": [
        {
          "output_type": "execute_result",
          "execution_count": 186,
          "data": {
            "text/plain": "array([ 5,  4,  3,  0,  1,  2,  6,  7,  8, 12, 10, 13, 11,  9])"
          },
          "metadata": {}
        }
      ]
    },
    {
      "metadata": {
        "trusted": true
      },
      "cell_type": "code",
      "source": "dcdfC.describe()",
      "execution_count": 188,
      "outputs": [
        {
          "output_type": "execute_result",
          "execution_count": 188,
          "data": {
            "text/html": "<div>\n<style scoped>\n    .dataframe tbody tr th:only-of-type {\n        vertical-align: middle;\n    }\n\n    .dataframe tbody tr th {\n        vertical-align: top;\n    }\n\n    .dataframe thead th {\n        text-align: right;\n    }\n</style>\n<table border=\"1\" class=\"dataframe\">\n  <thead>\n    <tr style=\"text-align: right;\">\n      <th></th>\n      <th>BATHRM</th>\n      <th>HF_BATHRM</th>\n      <th>NUM_UNITS</th>\n      <th>ROOMS</th>\n      <th>BEDRM</th>\n      <th>AYB</th>\n      <th>YR_RMDL</th>\n      <th>EYB</th>\n      <th>STORIES</th>\n      <th>PRICE</th>\n      <th>...</th>\n      <th>LANDAREA</th>\n      <th>CMPLX_NUM</th>\n      <th>LIVING_GBA</th>\n      <th>ZIPCODE</th>\n      <th>LATITUDE</th>\n      <th>LONGITUDE</th>\n      <th>CENSUS_TRACT</th>\n      <th>X</th>\n      <th>Y</th>\n      <th>GRADE_NUM</th>\n    </tr>\n  </thead>\n  <tbody>\n    <tr>\n      <th>count</th>\n      <td>106695.000000</td>\n      <td>106695.000000</td>\n      <td>106695.000000</td>\n      <td>106695.000000</td>\n      <td>106695.000000</td>\n      <td>106454.000000</td>\n      <td>49279.000000</td>\n      <td>106695.000000</td>\n      <td>106651.000000</td>\n      <td>5.790000e+04</td>\n      <td>...</td>\n      <td>106695.000000</td>\n      <td>0.0</td>\n      <td>0.0</td>\n      <td>106695.000000</td>\n      <td>106695.000000</td>\n      <td>106695.000000</td>\n      <td>106695.000000</td>\n      <td>106459.000000</td>\n      <td>106459.000000</td>\n      <td>106695.000000</td>\n    </tr>\n    <tr>\n      <th>mean</th>\n      <td>2.033104</td>\n      <td>0.607507</td>\n      <td>1.198032</td>\n      <td>7.382295</td>\n      <td>3.368508</td>\n      <td>1933.888374</td>\n      <td>2000.900282</td>\n      <td>1966.204124</td>\n      <td>2.091794</td>\n      <td>5.799119e+05</td>\n      <td>...</td>\n      <td>3416.592755</td>\n      <td>NaN</td>\n      <td>NaN</td>\n      <td>20012.068110</td>\n      <td>38.916684</td>\n      <td>-77.010014</td>\n      <td>5555.761123</td>\n      <td>-77.010052</td>\n      <td>38.916673</td>\n      <td>3.460350</td>\n    </tr>\n    <tr>\n      <th>std</th>\n      <td>1.062022</td>\n      <td>0.616418</td>\n      <td>0.596922</td>\n      <td>2.295571</td>\n      <td>1.100653</td>\n      <td>28.307436</td>\n      <td>17.415821</td>\n      <td>16.360212</td>\n      <td>2.933336</td>\n      <td>6.076454e+05</td>\n      <td>...</td>\n      <td>5939.806004</td>\n      <td>NaN</td>\n      <td>NaN</td>\n      <td>7.678259</td>\n      <td>0.034774</td>\n      <td>0.043179</td>\n      <td>3503.401722</td>\n      <td>0.043183</td>\n      <td>0.034726</td>\n      <td>0.713224</td>\n    </tr>\n    <tr>\n      <th>min</th>\n      <td>0.000000</td>\n      <td>0.000000</td>\n      <td>0.000000</td>\n      <td>0.000000</td>\n      <td>0.000000</td>\n      <td>1754.000000</td>\n      <td>20.000000</td>\n      <td>1900.000000</td>\n      <td>0.000000</td>\n      <td>1.000000e+00</td>\n      <td>...</td>\n      <td>0.000000</td>\n      <td>NaN</td>\n      <td>NaN</td>\n      <td>20001.000000</td>\n      <td>38.819731</td>\n      <td>-77.113909</td>\n      <td>100.000000</td>\n      <td>-77.113135</td>\n      <td>38.820576</td>\n      <td>0.000000</td>\n    </tr>\n    <tr>\n      <th>25%</th>\n      <td>1.000000</td>\n      <td>0.000000</td>\n      <td>1.000000</td>\n      <td>6.000000</td>\n      <td>3.000000</td>\n      <td>1914.000000</td>\n      <td>1992.000000</td>\n      <td>1955.000000</td>\n      <td>2.000000</td>\n      <td>2.400000e+05</td>\n      <td>...</td>\n      <td>1600.000000</td>\n      <td>NaN</td>\n      <td>NaN</td>\n      <td>20007.000000</td>\n      <td>38.892679</td>\n      <td>-77.035353</td>\n      <td>2002.000000</td>\n      <td>-77.035283</td>\n      <td>38.892756</td>\n      <td>3.000000</td>\n    </tr>\n    <tr>\n      <th>50%</th>\n      <td>2.000000</td>\n      <td>1.000000</td>\n      <td>1.000000</td>\n      <td>7.000000</td>\n      <td>3.000000</td>\n      <td>1930.000000</td>\n      <td>2006.000000</td>\n      <td>1964.000000</td>\n      <td>2.000000</td>\n      <td>4.400000e+05</td>\n      <td>...</td>\n      <td>2365.000000</td>\n      <td>NaN</td>\n      <td>NaN</td>\n      <td>20011.000000</td>\n      <td>38.917736</td>\n      <td>-77.006218</td>\n      <td>6802.000000</td>\n      <td>-77.006329</td>\n      <td>38.917596</td>\n      <td>3.000000</td>\n    </tr>\n    <tr>\n      <th>75%</th>\n      <td>3.000000</td>\n      <td>1.000000</td>\n      <td>1.000000</td>\n      <td>8.000000</td>\n      <td>4.000000</td>\n      <td>1947.000000</td>\n      <td>2011.000000</td>\n      <td>1970.000000</td>\n      <td>2.000000</td>\n      <td>7.500000e+05</td>\n      <td>...</td>\n      <td>4200.000000</td>\n      <td>NaN</td>\n      <td>NaN</td>\n      <td>20018.000000</td>\n      <td>38.944225</td>\n      <td>-76.982950</td>\n      <td>8804.000000</td>\n      <td>-76.982970</td>\n      <td>38.944261</td>\n      <td>4.000000</td>\n    </tr>\n    <tr>\n      <th>max</th>\n      <td>14.000000</td>\n      <td>11.000000</td>\n      <td>6.000000</td>\n      <td>48.000000</td>\n      <td>24.000000</td>\n      <td>2019.000000</td>\n      <td>2019.000000</td>\n      <td>2018.000000</td>\n      <td>826.000000</td>\n      <td>2.510000e+07</td>\n      <td>...</td>\n      <td>942632.000000</td>\n      <td>NaN</td>\n      <td>NaN</td>\n      <td>20052.000000</td>\n      <td>38.995540</td>\n      <td>-76.909758</td>\n      <td>11100.000000</td>\n      <td>-76.910511</td>\n      <td>38.993646</td>\n      <td>5.000000</td>\n    </tr>\n  </tbody>\n</table>\n<p>8 rows × 26 columns</p>\n</div>",
            "text/plain": "              BATHRM      HF_BATHRM      NUM_UNITS          ROOMS  \\\ncount  106695.000000  106695.000000  106695.000000  106695.000000   \nmean        2.033104       0.607507       1.198032       7.382295   \nstd         1.062022       0.616418       0.596922       2.295571   \nmin         0.000000       0.000000       0.000000       0.000000   \n25%         1.000000       0.000000       1.000000       6.000000   \n50%         2.000000       1.000000       1.000000       7.000000   \n75%         3.000000       1.000000       1.000000       8.000000   \nmax        14.000000      11.000000       6.000000      48.000000   \n\n               BEDRM            AYB       YR_RMDL            EYB  \\\ncount  106695.000000  106454.000000  49279.000000  106695.000000   \nmean        3.368508    1933.888374   2000.900282    1966.204124   \nstd         1.100653      28.307436     17.415821      16.360212   \nmin         0.000000    1754.000000     20.000000    1900.000000   \n25%         3.000000    1914.000000   1992.000000    1955.000000   \n50%         3.000000    1930.000000   2006.000000    1964.000000   \n75%         4.000000    1947.000000   2011.000000    1970.000000   \nmax        24.000000    2019.000000   2019.000000    2018.000000   \n\n             STORIES         PRICE      ...             LANDAREA  CMPLX_NUM  \\\ncount  106651.000000  5.790000e+04      ...        106695.000000        0.0   \nmean        2.091794  5.799119e+05      ...          3416.592755        NaN   \nstd         2.933336  6.076454e+05      ...          5939.806004        NaN   \nmin         0.000000  1.000000e+00      ...             0.000000        NaN   \n25%         2.000000  2.400000e+05      ...          1600.000000        NaN   \n50%         2.000000  4.400000e+05      ...          2365.000000        NaN   \n75%         2.000000  7.500000e+05      ...          4200.000000        NaN   \nmax       826.000000  2.510000e+07      ...        942632.000000        NaN   \n\n       LIVING_GBA        ZIPCODE       LATITUDE      LONGITUDE   CENSUS_TRACT  \\\ncount         0.0  106695.000000  106695.000000  106695.000000  106695.000000   \nmean          NaN   20012.068110      38.916684     -77.010014    5555.761123   \nstd           NaN       7.678259       0.034774       0.043179    3503.401722   \nmin           NaN   20001.000000      38.819731     -77.113909     100.000000   \n25%           NaN   20007.000000      38.892679     -77.035353    2002.000000   \n50%           NaN   20011.000000      38.917736     -77.006218    6802.000000   \n75%           NaN   20018.000000      38.944225     -76.982950    8804.000000   \nmax           NaN   20052.000000      38.995540     -76.909758   11100.000000   \n\n                   X              Y      GRADE_NUM  \ncount  106459.000000  106459.000000  106695.000000  \nmean      -77.010052      38.916673       3.460350  \nstd         0.043183       0.034726       0.713224  \nmin       -77.113135      38.820576       0.000000  \n25%       -77.035283      38.892756       3.000000  \n50%       -77.006329      38.917596       3.000000  \n75%       -76.982970      38.944261       4.000000  \nmax       -76.910511      38.993646       5.000000  \n\n[8 rows x 26 columns]"
          },
          "metadata": {}
        }
      ]
    },
    {
      "metadata": {
        "trusted": true
      },
      "cell_type": "code",
      "source": "dcdfC['STORIES'].value_counts()",
      "execution_count": 189,
      "outputs": [
        {
          "output_type": "execute_result",
          "execution_count": 189,
          "data": {
            "text/plain": "2.00      79356\n3.00       9230\n2.50       6105\n1.00       4683\n1.50       2291\n2.25       2225\n1.75       1175\n1.25        452\n2.75        444\n4.00        375\n3.50        109\n0.00         43\n9.00         36\n2.70         28\n3.25         20\n3.75         15\n2.20         13\n5.00         11\n6.00          7\n25.00         4\n1.70          4\n2.30          3\n7.00          2\n4.50          2\n275.00        2\n3.70          2\n4.75          1\n250.00        1\n0.75          1\n43.00         1\n826.00        1\n3.20          1\n8.25          1\n65.00         1\n0.25          1\n0.50          1\n2.33          1\n1.34          1\n20.00         1\n12.00         1\nName: STORIES, dtype: int64"
          },
          "metadata": {}
        }
      ]
    },
    {
      "metadata": {
        "trusted": true,
        "scrolled": true
      },
      "cell_type": "code",
      "source": "# Drop rows with bad stories\nprint (dcdfC.loc[(dcdfC['STORIES']==1.34)])\nprint (dcdfC.loc[(dcdfC['STORIES']==1.7)])\nprint (dcdfC.loc[(dcdfC['STORIES']==2.30)])\nprint (dcdfC.loc[(dcdfC['STORIES']==275)])\nprint (dcdfC.loc[(dcdfC['STORIES']==3.70)])\nprint (dcdfC.loc[(dcdfC['STORIES']==250)])\nprint (dcdfC.loc[(dcdfC['STORIES']==43)])\nprint (dcdfC.loc[(dcdfC['STORIES']==826)])\nprint (dcdfC.loc[(dcdfC['STORIES']==3.20)])\nprint (dcdfC.loc[(dcdfC['STORIES']==2.33)])\nprint (dcdfC.loc[(dcdfC['STORIES']==.25)])\nprint (dcdfC.loc[(dcdfC['STORIES']==.75)])\nprint (dcdfC.loc[(dcdfC['STORIES']==65.00)])\nprint (dcdfC.loc[(dcdfC['STORIES']==.50)])",
      "execution_count": 190,
      "outputs": [
        {
          "output_type": "stream",
          "text": "       BATHRM  HF_BATHRM       HEAT AC  NUM_UNITS  ROOMS  BEDRM     AYB  \\\n95292       1          1  Warm Cool  Y        1.0      8      3  1940.0   \n\n       YR_RMDL   EYB    ...     ASSESSMENT_NBHD ASSESSMENT_SUBNBHD  \\\n95292   2007.0  1975    ...           Hillcrest    028 C Hillcrest   \n\n       CENSUS_TRACT CENSUS_BLOCK    WARD  SQUARE          X          Y  \\\n95292        7604.0  007604 2030  Ward 7    5669 -76.957494  38.864006   \n\n      QUADRANT GRADE_NUM  \n95292       SE         4  \n\n[1 rows x 49 columns]\n       BATHRM  HF_BATHRM           HEAT AC  NUM_UNITS  ROOMS  BEDRM     AYB  \\\n18702       1          0  Hot Water Rad  Y        1.0      2      1  1900.0   \n19049       2          0  Hot Water Rad  N        1.0      8      4  1900.0   \n19051       2          1      Warm Cool  Y        1.0      7      3  1900.0   \n21300       1          2  Hot Water Rad  Y        1.0      6      2  1938.0   \n\n       YR_RMDL   EYB    ...     ASSESSMENT_NBHD ASSESSMENT_SUBNBHD  \\\n18702      NaN  1979    ...          Georgetown   025 I Georgetown   \n19049      NaN  1967    ...          Georgetown   025 B Georgetown   \n19051   2015.0  1978    ...          Georgetown   025 B Georgetown   \n21300   2000.0  1983    ...          Georgetown   025 F Georgetown   \n\n       CENSUS_TRACT CENSUS_BLOCK    WARD  SQUARE          X          Y  \\\n18702         100.0  000100 4011  Ward 2    1197 -77.059484  38.904568   \n19049         202.0  000202 4003  Ward 2    1227 -77.069250  38.907332   \n19051         202.0  000202 4003  Ward 2    1227 -77.069250  38.907332   \n21300         100.0  000100 1003  Ward 2    1282 -77.060462  38.911769   \n\n      QUADRANT GRADE_NUM  \n18702       NW         5  \n19049       NW         5  \n19051       NW         5  \n21300       NW         5  \n\n[4 rows x 49 columns]\n       BATHRM  HF_BATHRM        HEAT AC  NUM_UNITS  ROOMS  BEDRM     AYB  \\\n10948       2          0  Forced Air  Y        1.0      6      2  1900.0   \n19874       3          1   Warm Cool  Y        1.0      8      3  1900.0   \n21317       2          1   Warm Cool  Y        1.0      6      2  1900.0   \n\n       YR_RMDL   EYB    ...     ASSESSMENT_NBHD  ASSESSMENT_SUBNBHD  \\\n10948   2002.0  1964    ...        Capitol Hill  009 A Capitol Hill   \n19874   1986.0  1970    ...          Georgetown    025 E Georgetown   \n21317   1982.0  1967    ...          Georgetown    025 J Georgetown   \n\n       CENSUS_TRACT CENSUS_BLOCK    WARD  SQUARE          X          Y  \\\n10948        7000.0  007000 1000  Ward 6     876 -76.997140  38.883086   \n19874         202.0  000202 3009  Ward 2    1206 -77.065625  38.905531   \n21317         100.0  000100 3009  Ward 2    1240 -77.057496  38.907986   \n\n      QUADRANT GRADE_NUM  \n10948       SE         4  \n19874       NW         5  \n21317       NW         5  \n\n[3 rows x 49 columns]\n       BATHRM  HF_BATHRM       HEAT AC  NUM_UNITS  ROOMS  BEDRM     AYB  \\\n21170       4          2  Warm Cool  Y        1.0     10      4  1900.0   \n21930       2          1  Warm Cool  Y        1.0      7      3  1900.0   \n\n       YR_RMDL   EYB    ...     ASSESSMENT_NBHD ASSESSMENT_SUBNBHD  \\\n21170   2004.0  2000    ...          Georgetown   025 J Georgetown   \n21930   2006.0  1992    ...          Georgetown   025 J Georgetown   \n\n       CENSUS_TRACT CENSUS_BLOCK    WARD  SQUARE          X          Y  \\\n21170         100.0  000100 4006  Ward 2    1211 -77.058763  38.906383   \n21930         100.0  000100 2002  Ward 2    1260 -77.056450  38.908778   \n\n      QUADRANT GRADE_NUM  \n21170       NW         0  \n21930       NW         5  \n\n[2 rows x 49 columns]\n       BATHRM  HF_BATHRM       HEAT AC  NUM_UNITS  ROOMS  BEDRM     AYB  \\\n18619       4          1  Warm Cool  Y        1.0      9      4  1900.0   \n20189       6          3  Warm Cool  Y        1.0     10      5  1900.0   \n\n       YR_RMDL   EYB    ...     ASSESSMENT_NBHD ASSESSMENT_SUBNBHD  \\\n18619   2007.0  1972    ...          Georgetown   025 E Georgetown   \n20189   1987.0  1983    ...          Georgetown   025 E Georgetown   \n\n       CENSUS_TRACT CENSUS_BLOCK    WARD  SQUARE          X         Y  \\\n18619         202.0  000202 2008  Ward 2    1246 -77.068569  38.90820   \n20189         202.0  000202 3002  Ward 2    1229 -77.066872  38.90719   \n\n      QUADRANT GRADE_NUM  \n18619       NW         5  \n20189       NW         0  \n\n[2 rows x 49 columns]\n       BATHRM  HF_BATHRM       HEAT AC  NUM_UNITS  ROOMS  BEDRM     AYB  \\\n20491       2          1  Warm Cool  Y        1.0      7      3  1900.0   \n\n       YR_RMDL   EYB    ...     ASSESSMENT_NBHD ASSESSMENT_SUBNBHD  \\\n20491   2008.0  1992    ...          Georgetown   025 J Georgetown   \n\n       CENSUS_TRACT CENSUS_BLOCK    WARD  SQUARE          X          Y  \\\n20491         100.0  000100 2006  Ward 2    1215 -77.056279  38.906508   \n\n      QUADRANT GRADE_NUM  \n20491       NW         5  \n\n[1 rows x 49 columns]\n       BATHRM  HF_BATHRM           HEAT AC  NUM_UNITS  ROOMS  BEDRM     AYB  \\\n94741       4          0  Hot Water Rad  N        4.0     16      4  1939.0   \n\n       YR_RMDL   EYB    ...     ASSESSMENT_NBHD ASSESSMENT_SUBNBHD  \\\n94741      NaN  1957    ...           Hillcrest    028 A Hillcrest   \n\n       CENSUS_TRACT CENSUS_BLOCK    WARD  SQUARE          X         Y  \\\n94741        9901.0  009901 1005  Ward 7    5508 -76.963627  38.87527   \n\n      QUADRANT GRADE_NUM  \n94741       SE         4  \n\n[1 rows x 49 columns]\n      BATHRM  HF_BATHRM           HEAT AC  NUM_UNITS  ROOMS  BEDRM     AYB  \\\n7546       1          2  Hot Water Rad  N        1.0      6      3  1920.0   \n\n      YR_RMDL   EYB    ...     ASSESSMENT_NBHD ASSESSMENT_SUBNBHD  \\\n7546   2001.0  1969    ...          Old City 1   039 K Old City 1   \n\n      CENSUS_TRACT CENSUS_BLOCK    WARD  SQUARE          X          Y  \\\n7546        8302.0  008302 1009  Ward 6     861 -76.997269  38.896641   \n\n     QUADRANT GRADE_NUM  \n7546       NE         3  \n\n[1 rows x 49 columns]\n       BATHRM  HF_BATHRM       HEAT AC  NUM_UNITS  ROOMS  BEDRM     AYB  \\\n18736       6          1  Warm Cool  Y        1.0     10      7  1900.0   \n\n       YR_RMDL   EYB    ...     ASSESSMENT_NBHD ASSESSMENT_SUBNBHD  \\\n18736   2000.0  1988    ...          Georgetown   025 E Georgetown   \n\n       CENSUS_TRACT CENSUS_BLOCK    WARD  SQUARE          X        Y QUADRANT  \\\n18736         202.0  000202 2008  Ward 2    1246 -77.068569  38.9082       NW   \n\n      GRADE_NUM  \n18736         5  \n\n[1 rows x 49 columns]\n       BATHRM  HF_BATHRM           HEAT AC  NUM_UNITS  ROOMS  BEDRM     AYB  \\\n79235       1          1  Hot Water Rad  N        1.0      7      3  1935.0   \n\n       YR_RMDL   EYB    ...     ASSESSMENT_NBHD ASSESSMENT_SUBNBHD  \\\n79235      NaN  1957    ...           Woodridge    056 A Woodridge   \n\n       CENSUS_TRACT CENSUS_BLOCK    WARD  SQUARE          X          Y  \\\n79235        9400.0  009400 3012  Ward 5    4294 -76.971143  38.935662   \n\n      QUADRANT GRADE_NUM  \n79235       NE         4  \n\n[1 rows x 49 columns]\n        BATHRM  HF_BATHRM       HEAT AC  NUM_UNITS  ROOMS  BEDRM     AYB  \\\n105278       2          0  Warm Cool  Y        1.0     10      4  1926.0   \n\n        YR_RMDL   EYB    ...      ASSESSMENT_NBHD      ASSESSMENT_SUBNBHD  \\\n105278      NaN  1943    ...     Congress Heights  016 B Congress Heights   \n\n        CENSUS_TRACT CENSUS_BLOCK    WARD  SQUARE          X         Y  \\\n105278        9803.0  009803 2006  Ward 8    6151 -77.006486  38.83184   \n\n       QUADRANT GRADE_NUM  \n105278       SE         3  \n\n[1 rows x 49 columns]\n       BATHRM  HF_BATHRM           HEAT AC  NUM_UNITS  ROOMS  BEDRM     AYB  \\\n78344       1          0  Hot Water Rad  N        1.0      8      3  1914.0   \n\n       YR_RMDL   EYB    ...     ASSESSMENT_NBHD ASSESSMENT_SUBNBHD  \\\n78344      NaN  1954    ...           Woodridge    056 B Woodridge   \n\n       CENSUS_TRACT CENSUS_BLOCK    WARD  SQUARE          X         Y  \\\n78344       11100.0  011100 1037  Ward 5    4318 -76.968143  38.92996   \n\n      QUADRANT GRADE_NUM  \n78344       NE         3  \n\n[1 rows x 49 columns]\n      BATHRM  HF_BATHRM        HEAT AC  NUM_UNITS  ROOMS  BEDRM     AYB  \\\n3737       2          1  Forced Air  Y        2.0      7      3  1895.0   \n\n      YR_RMDL   EYB    ...     ASSESSMENT_NBHD  ASSESSMENT_SUBNBHD  \\\n3737   1968.0  1960    ...        Capitol Hill  009 A Capitol Hill   \n\n      CENSUS_TRACT CENSUS_BLOCK    WARD  SQUARE          X          Y  \\\n3737        6500.0  006500 1010  Ward 6     733 -77.004702  38.885504   \n\n     QUADRANT GRADE_NUM  \n3737       SE         3  \n\n[1 rows x 49 columns]\n       BATHRM  HF_BATHRM           HEAT AC  NUM_UNITS  ROOMS  BEDRM     AYB  \\\n50484       3          2  Hot Water Rad  Y        1.0      9      3  1926.0   \n\n       YR_RMDL   EYB    ...      ASSESSMENT_NBHD ASSESSMENT_SUBNBHD  \\\n50484   2004.0  1957    ...     Shepherd Heights                NaN   \n\n       CENSUS_TRACT CENSUS_BLOCK    WARD  SQUARE          X          Y  \\\n50484        1600.0  001600 3000  Ward 4    2958 -77.028886  38.983109   \n\n      QUADRANT GRADE_NUM  \n50484       NW         3  \n\n[1 rows x 49 columns]\n",
          "name": "stdout"
        }
      ]
    },
    {
      "metadata": {
        "trusted": true
      },
      "cell_type": "code",
      "source": "# Drop the rows with bad stories data\ndcdfC = dcdfC.drop(95292, axis=0)\ndcdfC = dcdfC.drop(18702, axis=0)\ndcdfC = dcdfC.drop(19049, axis=0)\ndcdfC = dcdfC.drop(19051, axis=0)\ndcdfC = dcdfC.drop(21300, axis=0)\ndcdfC = dcdfC.drop(10948, axis=0)\ndcdfC = dcdfC.drop(19874, axis=0)\ndcdfC = dcdfC.drop(21317, axis=0)\ndcdfC = dcdfC.drop(21170, axis=0)\ndcdfC = dcdfC.drop(21930, axis=0)\ndcdfC = dcdfC.drop(18619, axis=0)\ndcdfC = dcdfC.drop(20189, axis=0)\ndcdfC = dcdfC.drop(20491, axis=0)\ndcdfC = dcdfC.drop(94741, axis=0)\ndcdfC = dcdfC.drop(7546, axis=0)\ndcdfC = dcdfC.drop(18736, axis=0)\ndcdfC = dcdfC.drop(79235, axis=0)\ndcdfC = dcdfC.drop(105278, axis=0)\ndcdfC = dcdfC.drop(78344, axis=0)\ndcdfC = dcdfC.drop(3737, axis=0)\ndcdfC = dcdfC.drop(50484, axis=0)",
      "execution_count": 191,
      "outputs": []
    },
    {
      "metadata": {
        "trusted": true
      },
      "cell_type": "code",
      "source": "dcdfC['STORIES'].value_counts()",
      "execution_count": 192,
      "outputs": [
        {
          "output_type": "execute_result",
          "execution_count": 192,
          "data": {
            "text/plain": "2.00     79356\n3.00      9230\n2.50      6105\n1.00      4683\n1.50      2291\n2.25      2225\n1.75      1175\n1.25       452\n2.75       444\n4.00       375\n3.50       109\n0.00        43\n9.00        36\n2.70        28\n3.25        20\n3.75        15\n2.20        13\n5.00        11\n6.00         7\n25.00        4\n4.50         2\n7.00         2\n4.75         1\n20.00        1\n8.25         1\n12.00        1\nName: STORIES, dtype: int64"
          },
          "metadata": {}
        }
      ]
    },
    {
      "metadata": {
        "trusted": true
      },
      "cell_type": "code",
      "source": "dcdfC.loc[dcdfC['LANDAREA'] > 800000]\n",
      "execution_count": 209,
      "outputs": [
        {
          "output_type": "execute_result",
          "execution_count": 209,
          "data": {
            "text/html": "<div>\n<style scoped>\n    .dataframe tbody tr th:only-of-type {\n        vertical-align: middle;\n    }\n\n    .dataframe tbody tr th {\n        vertical-align: top;\n    }\n\n    .dataframe thead th {\n        text-align: right;\n    }\n</style>\n<table border=\"1\" class=\"dataframe\">\n  <thead>\n    <tr style=\"text-align: right;\">\n      <th></th>\n      <th>BATHRM</th>\n      <th>HF_BATHRM</th>\n      <th>HEAT</th>\n      <th>AC</th>\n      <th>NUM_UNITS</th>\n      <th>ROOMS</th>\n      <th>BEDRM</th>\n      <th>AYB</th>\n      <th>YR_RMDL</th>\n      <th>EYB</th>\n      <th>...</th>\n      <th>ASSESSMENT_NBHD</th>\n      <th>ASSESSMENT_SUBNBHD</th>\n      <th>CENSUS_TRACT</th>\n      <th>CENSUS_BLOCK</th>\n      <th>WARD</th>\n      <th>SQUARE</th>\n      <th>X</th>\n      <th>Y</th>\n      <th>QUADRANT</th>\n      <th>GRADE_NUM</th>\n    </tr>\n  </thead>\n  <tbody>\n    <tr>\n      <th>34401</th>\n      <td>8</td>\n      <td>3</td>\n      <td>Hot Water Rad</td>\n      <td>Y</td>\n      <td>1.0</td>\n      <td>34</td>\n      <td>7</td>\n      <td>1927.0</td>\n      <td>2000.0</td>\n      <td>1998</td>\n      <td>...</td>\n      <td>Rock Creek Park</td>\n      <td>NaN</td>\n      <td>1302.0</td>\n      <td>001302 3000</td>\n      <td>Ward 3</td>\n      <td>2248</td>\n      <td>-77.055808</td>\n      <td>38.947694</td>\n      <td>NW</td>\n      <td>0</td>\n    </tr>\n  </tbody>\n</table>\n<p>1 rows × 49 columns</p>\n</div>",
            "text/plain": "       BATHRM  HF_BATHRM           HEAT AC  NUM_UNITS  ROOMS  BEDRM     AYB  \\\n34401       8          3  Hot Water Rad  Y        1.0     34      7  1927.0   \n\n       YR_RMDL   EYB    ...     ASSESSMENT_NBHD ASSESSMENT_SUBNBHD  \\\n34401   2000.0  1998    ...     Rock Creek Park                NaN   \n\n       CENSUS_TRACT CENSUS_BLOCK    WARD  SQUARE          X          Y  \\\n34401        1302.0  001302 3000  Ward 3    2248 -77.055808  38.947694   \n\n      QUADRANT GRADE_NUM  \n34401       NW         0  \n\n[1 rows x 49 columns]"
          },
          "metadata": {}
        }
      ]
    },
    {
      "metadata": {
        "trusted": true
      },
      "cell_type": "code",
      "source": "dcdfC.iloc[34400]",
      "execution_count": 213,
      "outputs": [
        {
          "output_type": "execute_result",
          "execution_count": 213,
          "data": {
            "text/plain": "BATHRM                                  2\nHF_BATHRM                               2\nHEAT                        Hot Water Rad\nAC                                      N\nNUM_UNITS                               1\nROOMS                                   8\nBEDRM                                   3\nAYB                                  1937\nYR_RMDL                              1987\nEYB                                  1957\nSTORIES                                 2\nSALEDATE                              NaN\nPRICE                                 NaN\nQUALIFIED                               U\nSALE_NUM                                1\nGBA                                  2027\nBLDG_NUM                                1\nSTYLE                             2 Story\nSTRUCT                             Single\nGRADE                                Good\nCNDTN                                Good\nEXTWALL                      Common Brick\nROOF                            Clay Tile\nINTWALL                          Hardwood\nKITCHENS                                1\nFIREPLACES                              2\nUSECODE                                12\nLANDAREA                             5516\nGIS_LAST_MOD_DTTM     2018-07-22 18:01:43\nSOURCE                        Residential\nCMPLX_NUM                             NaN\nLIVING_GBA                            NaN\nFULLADDRESS           5547 29TH STREET NW\nCITY                           WASHINGTON\nSTATE                                  DC\nZIPCODE                             20015\nNATIONALGRID           18S UJ 21655 14849\nLATITUDE                          38.9645\nLONGITUDE                        -77.0585\nASSESSMENT_NBHD               Chevy Chase\nASSESSMENT_SUBNBHD      011 E Chevy Chase\nCENSUS_TRACT                         1402\nCENSUS_BLOCK                  001402 1005\nWARD                               Ward 4\nSQUARE                               2302\nX                                -77.0582\nY                                 38.9645\nQUADRANT                               NW\nGRADE_NUM                               3\nName: 34415, dtype: object"
          },
          "metadata": {}
        }
      ]
    },
    {
      "metadata": {
        "trusted": true
      },
      "cell_type": "code",
      "source": "dcdfC.iloc[34386]",
      "execution_count": 217,
      "outputs": [
        {
          "output_type": "execute_result",
          "execution_count": 217,
          "data": {
            "text/plain": "BATHRM                                       8\nHF_BATHRM                                    3\nHEAT                             Hot Water Rad\nAC                                           Y\nNUM_UNITS                                    1\nROOMS                                       34\nBEDRM                                        7\nAYB                                       1927\nYR_RMDL                                   2000\nEYB                                       1998\nSTORIES                                   2.75\nSALEDATE                   2009-10-05 00:00:00\nPRICE                                      NaN\nQUALIFIED                                    U\nSALE_NUM                                     1\nGBA                                      24030\nBLDG_NUM                                     1\nSTYLE                                  3 Story\nSTRUCT                                  Single\nGRADE                              Exceptional\nCNDTN                                Very Good\nEXTWALL                                 Stucco\nROOF                              Comp Shingle\nINTWALL                               Hardwood\nKITCHENS                                     1\nFIREPLACES                                   4\nUSECODE                                     12\nLANDAREA                                942632\nGIS_LAST_MOD_DTTM          2018-07-22 18:01:43\nSOURCE                             Residential\nCMPLX_NUM                                  NaN\nLIVING_GBA                                 NaN\nFULLADDRESS           2800 ALBEMARLE STREET NW\nCITY                                WASHINGTON\nSTATE                                       DC\nZIPCODE                                  20008\nNATIONALGRID                18S UJ 22074 12993\nLATITUDE                               38.9478\nLONGITUDE                             -77.0532\nASSESSMENT_NBHD                Rock Creek Park\nASSESSMENT_SUBNBHD                         NaN\nCENSUS_TRACT                              1302\nCENSUS_BLOCK                       001302 3000\nWARD                                    Ward 3\nSQUARE                                    2248\nX                                     -77.0558\nY                                      38.9477\nQUADRANT                                    NW\nGRADE_NUM                                    0\nName: 34401, dtype: object"
          },
          "metadata": {}
        }
      ]
    },
    {
      "metadata": {
        "trusted": true
      },
      "cell_type": "code",
      "source": "dcdfC.count()",
      "execution_count": 218,
      "outputs": [
        {
          "output_type": "execute_result",
          "execution_count": 218,
          "data": {
            "text/plain": "BATHRM                106674\nHF_BATHRM             106674\nHEAT                  106674\nAC                    106674\nNUM_UNITS             106674\nROOMS                 106674\nBEDRM                 106674\nAYB                   106433\nYR_RMDL                49264\nEYB                   106674\nSTORIES               106630\nSALEDATE               84167\nPRICE                  57888\nQUALIFIED             106674\nSALE_NUM              106674\nGBA                   106674\nBLDG_NUM              106674\nSTYLE                 106674\nSTRUCT                106674\nGRADE                 106674\nCNDTN                 106674\nEXTWALL               106674\nROOF                  106674\nINTWALL               106674\nKITCHENS              106674\nFIREPLACES            106674\nUSECODE               106674\nLANDAREA              106674\nGIS_LAST_MOD_DTTM     106674\nSOURCE                106674\nCMPLX_NUM                  0\nLIVING_GBA                 0\nFULLADDRESS           106019\nCITY                  106674\nSTATE                 106674\nZIPCODE               106674\nNATIONALGRID          106030\nLATITUDE              106674\nLONGITUDE             106674\nASSESSMENT_NBHD       106674\nASSESSMENT_SUBNBHD     91140\nCENSUS_TRACT          106674\nCENSUS_BLOCK          106030\nWARD                  106674\nSQUARE                106674\nX                     106438\nY                     106438\nQUADRANT              106438\nGRADE_NUM             106674\ndtype: int64"
          },
          "metadata": {}
        }
      ]
    },
    {
      "metadata": {
        "trusted": true
      },
      "cell_type": "code",
      "source": "dcdfC.isnull().sum()",
      "execution_count": 220,
      "outputs": [
        {
          "output_type": "execute_result",
          "execution_count": 220,
          "data": {
            "text/plain": "BATHRM                     0\nHF_BATHRM                  0\nHEAT                       0\nAC                         0\nNUM_UNITS                  0\nROOMS                      0\nBEDRM                      0\nAYB                      241\nYR_RMDL                57410\nEYB                        0\nSTORIES                   44\nSALEDATE               22507\nPRICE                  48786\nQUALIFIED                  0\nSALE_NUM                   0\nGBA                        0\nBLDG_NUM                   0\nSTYLE                      0\nSTRUCT                     0\nGRADE                      0\nCNDTN                      0\nEXTWALL                    0\nROOF                       0\nINTWALL                    0\nKITCHENS                   0\nFIREPLACES                 0\nUSECODE                    0\nLANDAREA                   0\nGIS_LAST_MOD_DTTM          0\nSOURCE                     0\nCMPLX_NUM             106674\nLIVING_GBA            106674\nFULLADDRESS              655\nCITY                       0\nSTATE                      0\nZIPCODE                    0\nNATIONALGRID             644\nLATITUDE                   0\nLONGITUDE                  0\nASSESSMENT_NBHD            0\nASSESSMENT_SUBNBHD     15534\nCENSUS_TRACT               0\nCENSUS_BLOCK             644\nWARD                       0\nSQUARE                     0\nX                        236\nY                        236\nQUADRANT                 236\nGRADE_NUM                  0\ndtype: int64"
          },
          "metadata": {}
        }
      ]
    },
    {
      "metadata": {
        "trusted": true
      },
      "cell_type": "code",
      "source": "",
      "execution_count": null,
      "outputs": []
    }
  ],
  "metadata": {
    "kernelspec": {
      "name": "python36",
      "display_name": "Python 3.6",
      "language": "python"
    },
    "language_info": {
      "mimetype": "text/x-python",
      "nbconvert_exporter": "python",
      "name": "python",
      "pygments_lexer": "ipython3",
      "version": "3.6.6",
      "file_extension": ".py",
      "codemirror_mode": {
        "version": 3,
        "name": "ipython"
      }
    }
  },
  "nbformat": 4,
  "nbformat_minor": 2
}